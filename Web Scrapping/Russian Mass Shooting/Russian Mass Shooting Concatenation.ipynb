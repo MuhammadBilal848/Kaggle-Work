{
 "cells": [
  {
   "cell_type": "code",
   "execution_count": 1,
   "metadata": {},
   "outputs": [],
   "source": [
    "import pandas as pd\n",
    "import numpy as np"
   ]
  },
  {
   "cell_type": "code",
   "execution_count": 2,
   "metadata": {},
   "outputs": [
    {
     "data": {
      "text/plain": [
       "(33, 6)"
      ]
     },
     "execution_count": 2,
     "metadata": {},
     "output_type": "execute_result"
    }
   ],
   "source": [
    "one = pd.read_csv('Book1.csv',encoding='cp1252')\n",
    "one.shape"
   ]
  },
  {
   "cell_type": "code",
   "execution_count": 3,
   "metadata": {},
   "outputs": [
    {
     "data": {
      "text/plain": [
       "(14, 6)"
      ]
     },
     "execution_count": 3,
     "metadata": {},
     "output_type": "execute_result"
    }
   ],
   "source": [
    "two = pd.read_csv('Book2.csv',encoding='cp1252')\n",
    "two.shape"
   ]
  },
  {
   "cell_type": "code",
   "execution_count": 4,
   "metadata": {},
   "outputs": [
    {
     "data": {
      "text/plain": [
       "(22, 6)"
      ]
     },
     "execution_count": 4,
     "metadata": {},
     "output_type": "execute_result"
    }
   ],
   "source": [
    "three = pd.read_csv('Book3.csv',encoding='cp1252')\n",
    "three.shape"
   ]
  },
  {
   "cell_type": "code",
   "execution_count": 5,
   "metadata": {},
   "outputs": [
    {
     "data": {
      "text/plain": [
       "(13, 6)"
      ]
     },
     "execution_count": 5,
     "metadata": {},
     "output_type": "execute_result"
    }
   ],
   "source": [
    "four = pd.read_csv('Book4.csv',encoding='cp1252')\n",
    "four.shape"
   ]
  },
  {
   "cell_type": "code",
   "execution_count": 7,
   "metadata": {},
   "outputs": [],
   "source": [
    "pd.concat([one,two,three,four],axis=0).reset_index(drop = 1).to_csv('Russian Mass Shootings.csv',index = 0)"
   ]
  },
  {
   "cell_type": "code",
   "execution_count": 8,
   "metadata": {},
   "outputs": [
    {
     "data": {
      "text/html": [
       "<div>\n",
       "<style scoped>\n",
       "    .dataframe tbody tr th:only-of-type {\n",
       "        vertical-align: middle;\n",
       "    }\n",
       "\n",
       "    .dataframe tbody tr th {\n",
       "        vertical-align: top;\n",
       "    }\n",
       "\n",
       "    .dataframe thead th {\n",
       "        text-align: right;\n",
       "    }\n",
       "</style>\n",
       "<table border=\"1\" class=\"dataframe\">\n",
       "  <thead>\n",
       "    <tr style=\"text-align: right;\">\n",
       "      <th></th>\n",
       "      <th>Date</th>\n",
       "      <th>Location</th>\n",
       "      <th>Dead</th>\n",
       "      <th>Injured</th>\n",
       "      <th>Total</th>\n",
       "      <th>Description</th>\n",
       "    </tr>\n",
       "  </thead>\n",
       "  <tbody>\n",
       "    <tr>\n",
       "      <th>0</th>\n",
       "      <td>December 19, 2019</td>\n",
       "      <td>Moscow</td>\n",
       "      <td>3</td>\n",
       "      <td>5</td>\n",
       "      <td>8</td>\n",
       "      <td>Moscow FSB headquarters shooting: Yevgeny Many...</td>\n",
       "    </tr>\n",
       "    <tr>\n",
       "      <th>1</th>\n",
       "      <td>November 14, 2019</td>\n",
       "      <td>Blagoveshchensk, Amur Oblast</td>\n",
       "      <td>2</td>\n",
       "      <td>3</td>\n",
       "      <td>5</td>\n",
       "      <td>Amur College Shooting: A student at the Amur c...</td>\n",
       "    </tr>\n",
       "    <tr>\n",
       "      <th>2</th>\n",
       "      <td>October 25, 2019</td>\n",
       "      <td>Gorny, Zabaykalsky Krai</td>\n",
       "      <td>8</td>\n",
       "      <td>2</td>\n",
       "      <td>10</td>\n",
       "      <td>Gorny shooting: A conscript soldier opened fir...</td>\n",
       "    </tr>\n",
       "    <tr>\n",
       "      <th>3</th>\n",
       "      <td>October 17, 2018</td>\n",
       "      <td>Kerch, Republic of Crimea</td>\n",
       "      <td>21</td>\n",
       "      <td>70</td>\n",
       "      <td>91</td>\n",
       "      <td>Kerch Polytechnic College massacre: A student ...</td>\n",
       "    </tr>\n",
       "    <tr>\n",
       "      <th>4</th>\n",
       "      <td>August 25, 2018</td>\n",
       "      <td>Yekaterinburg, Sverdlovsk Oblast</td>\n",
       "      <td>2</td>\n",
       "      <td>0</td>\n",
       "      <td>2</td>\n",
       "      <td>Alexey Alexandrov killed 2 young girls on Moun...</td>\n",
       "    </tr>\n",
       "    <tr>\n",
       "      <th>...</th>\n",
       "      <td>...</td>\n",
       "      <td>...</td>\n",
       "      <td>...</td>\n",
       "      <td>...</td>\n",
       "      <td>...</td>\n",
       "      <td>...</td>\n",
       "    </tr>\n",
       "    <tr>\n",
       "      <th>77</th>\n",
       "      <td>14/11/1995</td>\n",
       "      <td>Zabaykalsky Krai</td>\n",
       "      <td>2</td>\n",
       "      <td>3</td>\n",
       "      <td>5</td>\n",
       "      <td>Valery Sakharov killed 2 and wounded 3 other s...</td>\n",
       "    </tr>\n",
       "    <tr>\n",
       "      <th>78</th>\n",
       "      <td>30/07/1995</td>\n",
       "      <td>Popov Island, Primorsky Krai</td>\n",
       "      <td>5</td>\n",
       "      <td>6</td>\n",
       "      <td>11</td>\n",
       "      <td>Vyacheslav Bugakov shot five soldiers and woun...</td>\n",
       "    </tr>\n",
       "    <tr>\n",
       "      <th>79</th>\n",
       "      <td>08/03/1994</td>\n",
       "      <td>Tanfiliev Island, Sakhalin Oblast</td>\n",
       "      <td>6</td>\n",
       "      <td>3</td>\n",
       "      <td>9</td>\n",
       "      <td>Dmitry Belkov and Andrey Bogdashin shot dead 6...</td>\n",
       "    </tr>\n",
       "    <tr>\n",
       "      <th>80</th>\n",
       "      <td>26/04/1992</td>\n",
       "      <td>Kazan, Tatarstan</td>\n",
       "      <td>9</td>\n",
       "      <td>1</td>\n",
       "      <td>10</td>\n",
       "      <td>Andrey Shpagonov killed nine people and wounde...</td>\n",
       "    </tr>\n",
       "    <tr>\n",
       "      <th>81</th>\n",
       "      <td>26/03/1992</td>\n",
       "      <td>Kyakhta, Buryatia</td>\n",
       "      <td>8</td>\n",
       "      <td>2</td>\n",
       "      <td>10</td>\n",
       "      <td>An unknown soldier killed 8 soldiers and wound...</td>\n",
       "    </tr>\n",
       "  </tbody>\n",
       "</table>\n",
       "<p>82 rows × 6 columns</p>\n",
       "</div>"
      ],
      "text/plain": [
       "                 Date                           Location  Dead  Injured  \\\n",
       "0   December 19, 2019                             Moscow     3        5   \n",
       "1   November 14, 2019       Blagoveshchensk, Amur Oblast     2        3   \n",
       "2    October 25, 2019            Gorny, Zabaykalsky Krai     8        2   \n",
       "3    October 17, 2018          Kerch, Republic of Crimea    21       70   \n",
       "4     August 25, 2018   Yekaterinburg, Sverdlovsk Oblast     2        0   \n",
       "..                ...                                ...   ...      ...   \n",
       "77         14/11/1995                   Zabaykalsky Krai     2        3   \n",
       "78         30/07/1995       Popov Island, Primorsky Krai     5        6   \n",
       "79         08/03/1994  Tanfiliev Island, Sakhalin Oblast     6        3   \n",
       "80         26/04/1992                   Kazan, Tatarstan     9        1   \n",
       "81         26/03/1992                  Kyakhta, Buryatia     8        2   \n",
       "\n",
       "    Total                                        Description  \n",
       "0       8  Moscow FSB headquarters shooting: Yevgeny Many...  \n",
       "1       5  Amur College Shooting: A student at the Amur c...  \n",
       "2      10  Gorny shooting: A conscript soldier opened fir...  \n",
       "3      91  Kerch Polytechnic College massacre: A student ...  \n",
       "4       2  Alexey Alexandrov killed 2 young girls on Moun...  \n",
       "..    ...                                                ...  \n",
       "77      5  Valery Sakharov killed 2 and wounded 3 other s...  \n",
       "78     11  Vyacheslav Bugakov shot five soldiers and woun...  \n",
       "79      9  Dmitry Belkov and Andrey Bogdashin shot dead 6...  \n",
       "80     10  Andrey Shpagonov killed nine people and wounde...  \n",
       "81     10  An unknown soldier killed 8 soldiers and wound...  \n",
       "\n",
       "[82 rows x 6 columns]"
      ]
     },
     "execution_count": 8,
     "metadata": {},
     "output_type": "execute_result"
    }
   ],
   "source": [
    "pd.read_csv('Russian Mass Shootings.csv')"
   ]
  },
  {
   "cell_type": "code",
   "execution_count": null,
   "metadata": {},
   "outputs": [],
   "source": []
  }
 ],
 "metadata": {
  "kernelspec": {
   "display_name": "Python 3",
   "language": "python",
   "name": "python3"
  },
  "language_info": {
   "codemirror_mode": {
    "name": "ipython",
    "version": 3
   },
   "file_extension": ".py",
   "mimetype": "text/x-python",
   "name": "python",
   "nbconvert_exporter": "python",
   "pygments_lexer": "ipython3",
   "version": "3.8.5"
  }
 },
 "nbformat": 4,
 "nbformat_minor": 4
}
