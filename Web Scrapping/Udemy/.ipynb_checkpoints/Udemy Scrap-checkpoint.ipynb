{
 "cells": [
  {
   "cell_type": "code",
   "execution_count": 99,
   "metadata": {},
   "outputs": [],
   "source": [
    "import pandas as pd \n",
    "import numpy as np\n",
    "from selenium import webdriver\n",
    "from selenium.webdriver.common.by import By\n",
    "from selenium.webdriver.support.ui import WebDriverWait\n",
    "from selenium.webdriver.common.keys import Keys\n",
    "from selenium.webdriver.chrome.options import Options\n",
    "import warnings\n",
    "warnings.filterwarnings('ignore')\n",
    "\n",
    "from selenium import webdriver\n",
    "from selenium.webdriver.support.ui import WebDriverWait\n",
    "from selenium.webdriver.support import expected_conditions as EC\n",
    "from selenium.webdriver.common.by import By\n",
    "from selenium.common.exceptions import TimeoutException"
   ]
  },
  {
   "cell_type": "code",
   "execution_count": 55,
   "metadata": {},
   "outputs": [],
   "source": [
    "url = 'https://www.udemy.com/courses/development/data-science/?p=1'"
   ]
  },
  {
   "cell_type": "code",
   "execution_count": 56,
   "metadata": {},
   "outputs": [],
   "source": [
    "driver = webdriver.Chrome('C:\\Chrome Driver\\chromedriver.exe')"
   ]
  },
  {
   "cell_type": "code",
   "execution_count": 57,
   "metadata": {},
   "outputs": [],
   "source": [
    "driver.get(url)"
   ]
  },
  {
   "cell_type": "code",
   "execution_count": 9,
   "metadata": {},
   "outputs": [
    {
     "data": {
      "text/plain": [
       "<selenium.webdriver.remote.webelement.WebElement (session=\"5ba024ea8efe6df2aa95f2bba6f931ec\", element=\"c36dddc1-c495-45e9-ab6f-47e8ab923315\")>"
      ]
     },
     "execution_count": 9,
     "metadata": {},
     "output_type": "execute_result"
    }
   ],
   "source": [
    "courses = driver.find_element(By.CLASS_NAME,'course-list--container--3zXPS' )\n",
    "courses"
   ]
  },
  {
   "cell_type": "code",
   "execution_count": 131,
   "metadata": {},
   "outputs": [],
   "source": [
    "lst = []"
   ]
  },
  {
   "cell_type": "code",
   "execution_count": 133,
   "metadata": {},
   "outputs": [
    {
     "ename": "IndexError",
     "evalue": "list index out of range",
     "output_type": "error",
     "traceback": [
      "\u001b[1;31m---------------------------------------------------------------------------\u001b[0m",
      "\u001b[1;31mIndexError\u001b[0m                                Traceback (most recent call last)",
      "\u001b[1;32m<ipython-input-133-d15bab340eca>\u001b[0m in \u001b[0;36m<module>\u001b[1;34m\u001b[0m\n\u001b[0;32m     18\u001b[0m             \u001b[0mtot_lec\u001b[0m \u001b[1;33m=\u001b[0m \u001b[0ml\u001b[0m\u001b[1;33m[\u001b[0m\u001b[1;36m9\u001b[0m\u001b[1;33m]\u001b[0m\u001b[1;33m\u001b[0m\u001b[1;33m\u001b[0m\u001b[0m\n\u001b[0;32m     19\u001b[0m             \u001b[0mlvl\u001b[0m \u001b[1;33m=\u001b[0m \u001b[0ml\u001b[0m\u001b[1;33m[\u001b[0m\u001b[1;36m10\u001b[0m\u001b[1;33m]\u001b[0m\u001b[1;33m\u001b[0m\u001b[1;33m\u001b[0m\u001b[0m\n\u001b[1;32m---> 20\u001b[1;33m             \u001b[0mcurr_prc\u001b[0m \u001b[1;33m=\u001b[0m \u001b[0ml\u001b[0m\u001b[1;33m[\u001b[0m\u001b[1;36m12\u001b[0m\u001b[1;33m]\u001b[0m\u001b[1;33m\u001b[0m\u001b[1;33m\u001b[0m\u001b[0m\n\u001b[0m\u001b[0;32m     21\u001b[0m             \u001b[1;32mtry\u001b[0m\u001b[1;33m:\u001b[0m\u001b[1;33m\u001b[0m\u001b[1;33m\u001b[0m\u001b[0m\n\u001b[0;32m     22\u001b[0m                 \u001b[0morg_prc\u001b[0m \u001b[1;33m=\u001b[0m \u001b[0ml\u001b[0m\u001b[1;33m[\u001b[0m\u001b[1;36m14\u001b[0m\u001b[1;33m]\u001b[0m\u001b[1;33m\u001b[0m\u001b[1;33m\u001b[0m\u001b[0m\n",
      "\u001b[1;31mIndexError\u001b[0m: list index out of range"
     ]
    }
   ],
   "source": [
    "for i in range(1,174):\n",
    "    driver = webdriver.Chrome('C:\\Chrome Driver\\chromedriver.exe')\n",
    "    url = f'https://www.udemy.com/courses/development/data-science/?p={i}'\n",
    "    driver.get(url)\n",
    "#     driver.implicitly_wait(60)\n",
    "    delay = 10 # seconds\n",
    "    try:\n",
    "        myElem = WebDriverWait(driver, delay).until(EC.presence_of_element_located((By.CLASS_NAME,'pagination--container--2jxm9')))\n",
    "        courses = driver.find_element(By.CLASS_NAME,'course-list--container--3zXPS' )\n",
    "        for a in courses.find_elements(by = By.CLASS_NAME ,value =  'popper--popper--2r2To'):\n",
    "            l = a.text.split('\\n')\n",
    "#             for k,o in enumerate(l):\n",
    "#                 print(k,'------->',o)\n",
    "            name = l[0]\n",
    "            rating = l[5]\n",
    "            tot_rat = l[7]\n",
    "            hrs = l[8]\n",
    "            tot_lec = l[9]\n",
    "            lvl = l[10]\n",
    "            curr_prc = l[12]\n",
    "            try:\n",
    "                org_prc = l[14]\n",
    "            except:\n",
    "                org_prc = 'NA'\n",
    "            lnk = a.find_element(By.TAG_NAME, 'a').get_attribute('href')\n",
    "#             print('#'*40)\n",
    "            crs = {\n",
    "                   'Name':name,\n",
    "                   'Rating': rating,\n",
    "                   'Total Rating':tot_rat,\n",
    "                   'Hours':hrs,\n",
    "                   'Total Lectures':tot_lec,\n",
    "                   'Level':lvl,\n",
    "                   'Current Price':curr_prc,\n",
    "                   'Original Price':org_prc,\n",
    "                   'Link':lnk\n",
    "            }\n",
    "            lst.append(crs)\n",
    "        print(\"Page is ready!\")\n",
    "    except TimeoutException:\n",
    "        print(\"Loading took too much time!\")"
   ]
  },
  {
   "cell_type": "code",
   "execution_count": null,
   "metadata": {},
   "outputs": [],
   "source": []
  },
  {
   "cell_type": "code",
   "execution_count": null,
   "metadata": {},
   "outputs": [],
   "source": []
  },
  {
   "cell_type": "code",
   "execution_count": 125,
   "metadata": {},
   "outputs": [
    {
     "ename": "ValueError",
     "evalue": "a must be greater than 0 unless no samples are taken",
     "output_type": "error",
     "traceback": [
      "\u001b[1;31m---------------------------------------------------------------------------\u001b[0m",
      "\u001b[1;31mValueError\u001b[0m                                Traceback (most recent call last)",
      "\u001b[1;32m<ipython-input-125-9e5370fae530>\u001b[0m in \u001b[0;36m<module>\u001b[1;34m\u001b[0m\n\u001b[1;32m----> 1\u001b[1;33m \u001b[0mpd\u001b[0m\u001b[1;33m.\u001b[0m\u001b[0mDataFrame\u001b[0m\u001b[1;33m(\u001b[0m\u001b[0mlst\u001b[0m\u001b[1;33m)\u001b[0m\u001b[1;33m.\u001b[0m\u001b[0msample\u001b[0m\u001b[1;33m(\u001b[0m\u001b[1;36m5\u001b[0m\u001b[1;33m)\u001b[0m\u001b[1;33m\u001b[0m\u001b[1;33m\u001b[0m\u001b[0m\n\u001b[0m",
      "\u001b[1;32m~\\anaconda3\\lib\\site-packages\\pandas\\core\\generic.py\u001b[0m in \u001b[0;36msample\u001b[1;34m(self, n, frac, replace, weights, random_state, axis)\u001b[0m\n\u001b[0;32m   4991\u001b[0m             )\n\u001b[0;32m   4992\u001b[0m \u001b[1;33m\u001b[0m\u001b[0m\n\u001b[1;32m-> 4993\u001b[1;33m         \u001b[0mlocs\u001b[0m \u001b[1;33m=\u001b[0m \u001b[0mrs\u001b[0m\u001b[1;33m.\u001b[0m\u001b[0mchoice\u001b[0m\u001b[1;33m(\u001b[0m\u001b[0maxis_length\u001b[0m\u001b[1;33m,\u001b[0m \u001b[0msize\u001b[0m\u001b[1;33m=\u001b[0m\u001b[0mn\u001b[0m\u001b[1;33m,\u001b[0m \u001b[0mreplace\u001b[0m\u001b[1;33m=\u001b[0m\u001b[0mreplace\u001b[0m\u001b[1;33m,\u001b[0m \u001b[0mp\u001b[0m\u001b[1;33m=\u001b[0m\u001b[0mweights\u001b[0m\u001b[1;33m)\u001b[0m\u001b[1;33m\u001b[0m\u001b[1;33m\u001b[0m\u001b[0m\n\u001b[0m\u001b[0;32m   4994\u001b[0m         \u001b[1;32mreturn\u001b[0m \u001b[0mself\u001b[0m\u001b[1;33m.\u001b[0m\u001b[0mtake\u001b[0m\u001b[1;33m(\u001b[0m\u001b[0mlocs\u001b[0m\u001b[1;33m,\u001b[0m \u001b[0maxis\u001b[0m\u001b[1;33m=\u001b[0m\u001b[0maxis\u001b[0m\u001b[1;33m)\u001b[0m\u001b[1;33m\u001b[0m\u001b[1;33m\u001b[0m\u001b[0m\n\u001b[0;32m   4995\u001b[0m \u001b[1;33m\u001b[0m\u001b[0m\n",
      "\u001b[1;32mmtrand.pyx\u001b[0m in \u001b[0;36mnumpy.random.mtrand.RandomState.choice\u001b[1;34m()\u001b[0m\n",
      "\u001b[1;31mValueError\u001b[0m: a must be greater than 0 unless no samples are taken"
     ]
    }
   ],
   "source": [
    "pd.DataFrame(lst).sample(5)"
   ]
  },
  {
   "cell_type": "code",
   "execution_count": null,
   "metadata": {},
   "outputs": [],
   "source": []
  },
  {
   "cell_type": "code",
   "execution_count": null,
   "metadata": {},
   "outputs": [],
   "source": []
  },
  {
   "cell_type": "code",
   "execution_count": null,
   "metadata": {},
   "outputs": [],
   "source": []
  },
  {
   "cell_type": "code",
   "execution_count": null,
   "metadata": {},
   "outputs": [],
   "source": []
  },
  {
   "cell_type": "code",
   "execution_count": null,
   "metadata": {},
   "outputs": [],
   "source": []
  },
  {
   "cell_type": "code",
   "execution_count": 54,
   "metadata": {
    "collapsed": true
   },
   "outputs": [
    {
     "name": "stdout",
     "output_type": "stream",
     "text": [
      "<selenium.webdriver.remote.webelement.WebElement (session=\"38cdfb4c94628b5c2e4282d06b842f93\", element=\"47c3cc03-fa9c-4799-8c2b-530b5061992a\")>\n",
      "Page is ready!\n",
      "Loading took too much time!\n",
      "Loading took too much time!\n",
      "Loading took too much time!\n"
     ]
    }
   ],
   "source": [
    "for a in courses.find_elements(by = By.CLASS_NAME ,value =  'popper--popper--2r2To'):\n",
    "#     print(a.text.split('\\n'))\n",
    "#     print(a.find_element(by = By.CLASS_NAME , value = 'udlite-heading-md course-card--course-title--vVEjC'))\n",
    "#     print(a.find_element(By.TAG_NAME, 'a').get_attribute('href'))\n",
    "    print('#'*40)\n",
    "    \n",
    "    a.find_element(by = By.CLASS_NAME , value = 'udlite-btn udlite-btn-medium udlite-btn-secondary udlite-btn-round udlite-heading-sm udlite-btn-icon udlite-btn-icon-medium udlite-btn-icon-round pagination--next--BrXhF').click()\n",
    "#     udlite-icon udlite-icon-small\n",
    "    break"
   ]
  },
  {
   "cell_type": "code",
   "execution_count": 100,
   "metadata": {
    "collapsed": true
   },
   "outputs": [
    {
     "name": "stdout",
     "output_type": "stream",
     "text": [
      "['Machine Learning A-Z™: Hands-On Python & R In Data Science', 'Learn to create Machine Learning Algorithms in Python and R from two Data Science experts. Code templates included.', 'Learn to create Machine Learning Algorithms in Python and R from two Data Science experts. Code templates included.', 'Instructors:', 'Kirill Eremenko, Hadelin de Ponteves, Ligency I Team, Ligency Team', 'Rating: 4.5 out of 5', '4.5', '(162,805)', '44.5 total hours', '312 lectures', 'All Levels']\n",
      "https://www.udemy.com/course/machinelearning/\n",
      "########################################\n",
      "['Python for Data Science and Machine Learning Bootcamp', 'Learn how to use NumPy, Pandas, Seaborn , Matplotlib , Plotly , Scikit-Learn , Machine Learning, Tensorflow , and more!', 'Learn how to use NumPy, Pandas, Seaborn , Matplotlib , Plotly , Scikit-Learn , Machine Learning, Tensorflow , and more!', 'Instructor:', 'Jose Portilla', 'Rating: 4.6 out of 5', '4.6', '(121,987)', '25 total hours', '165 lectures', 'All Levels', 'Current price', '$18.99', 'Original Price', '$119.99', 'Bestseller']\n",
      "https://www.udemy.com/course/python-for-data-science-and-machine-learning-bootcamp/\n",
      "########################################\n",
      "['The Data Science Course 2022: Complete Data Science Bootcamp', 'Complete Data Science Training: Mathematics, Statistics, Python, Advanced Statistics in Python, Machine & Deep Learning', 'Complete Data Science Training: Mathematics, Statistics, Python, Advanced Statistics in Python, Machine & Deep Learning', 'Instructors:', '365 Careers, 365 Careers Team', 'Rating: 4.6 out of 5', '4.6', '(114,047)', '32 total hours', '517 lectures', 'All Levels', 'Current price', '$13.99', 'Original Price', '$84.99', 'Bestseller']\n",
      "https://www.udemy.com/course/the-data-science-course-complete-data-science-bootcamp/\n",
      "########################################\n",
      "['R Programming A-Z™: R For Data Science With Real Exercises!', 'Learn Programming In R And R Studio. Data Analytics, Data Science, Statistical Analysis, Packages, Functions, GGPlot2', 'Learn Programming In R And R Studio. Data Analytics, Data Science, Statistical Analysis, Packages, Functions, GGPlot2', 'Instructors:', 'Kirill Eremenko, Ligency I Team, Ligency Team', 'Rating: 4.6 out of 5', '4.6', '(48,109)', '10.5 total hours', '79 lectures', 'All Levels', 'Current price', '$13.99', 'Original Price', '$84.99', 'Bestseller']\n",
      "https://www.udemy.com/course/r-programming/\n",
      "########################################\n",
      "['Deep Learning A-Z™: Hands-On Artificial Neural Networks', 'Learn to create Deep Learning Algorithms in Python from two Machine Learning & Data Science experts. Templates included.', 'Learn to create Deep Learning Algorithms in Python from two Machine Learning & Data Science experts. Templates included.', 'Instructors:', 'Kirill Eremenko, Hadelin de Ponteves, Ligency I Team, Ligency Team', 'Rating: 4.5 out of 5', '4.5', '(41,295)', '22.5 total hours', '169 lectures', 'All Levels', 'Current price', '$13.99', 'Original Price', '$84.99', 'Bestseller']\n",
      "https://www.udemy.com/course/deeplearning/\n",
      "########################################\n",
      "['Statistics for Data Science and Business Analysis', 'Statistics you need in the office: Descriptive & Inferential statistics, Hypothesis testing, Regression analysis', 'Statistics you need in the office: Descriptive & Inferential statistics, Hypothesis testing, Regression analysis', 'Instructors:', '365 Careers, 365 Careers Team', 'Rating: 4.6 out of 5', '4.6', '(34,052)', '5 total hours', '92 lectures', 'All Levels', 'Current price', '$13.99', 'Original Price', '$84.99', 'Bestseller']\n",
      "https://www.udemy.com/course/statistics-for-data-science-and-business-analysis/\n",
      "########################################\n",
      "['Data Science A-Z™: Real-Life Data Science Exercises Included', 'Learn Data Science step by step through real Analytics examples. Data Mining, Modeling, Tableau Visualization and more!', 'Learn Data Science step by step through real Analytics examples. Data Mining, Modeling, Tableau Visualization and more!', 'Instructors:', 'Kirill Eremenko, Ligency I Team, Ligency Team', 'Rating: 4.6 out of 5', '4.6', '(32,368)', '21 total hours', '217 lectures', 'All Levels', 'Current price', '$13.99', 'Original Price', '$84.99']\n",
      "https://www.udemy.com/course/datascience/\n",
      "########################################\n",
      "['Machine Learning, Data Science and Deep Learning with Python', 'Complete hands-on machine learning tutorial with data science, Tensorflow, artificial intelligence, and neural networks', 'Complete hands-on machine learning tutorial with data science, Tensorflow, artificial intelligence, and neural networks', 'Instructors:', 'Sundog Education by Frank Kane, Frank Kane, Sundog Education Team', 'Rating: 4.5 out of 5', '4.5', '(27,970)', '15.5 total hours', '116 lectures', 'Beginner', 'Current price', '$13.99', 'Original Price', '$24.99']\n",
      "https://www.udemy.com/course/data-science-and-machine-learning-with-python-hands-on/\n",
      "########################################\n",
      "['Python A-Z™: Python For Data Science With Real Exercises!', 'Programming In Python For Data Analytics And Data Science. Learn Statistical Analysis, Data Mining And Visualization', 'Programming In Python For Data Analytics And Data Science. Learn Statistical Analysis, Data Mining And Visualization', 'Instructors:', 'Kirill Eremenko, Ligency I Team, Ligency Team', 'Rating: 4.6 out of 5', '4.6', '(24,989)', '11 total hours', '72 lectures', 'All Levels', 'Current price', '$13.99', 'Original Price', '$84.99']\n",
      "https://www.udemy.com/course/python-coding/\n",
      "########################################\n",
      "['Artificial Intelligence A-Z™: Learn How To Build An AI', 'Combine the power of Data Science, Machine Learning and Deep Learning to create powerful AI for Real-World applications!', 'Combine the power of Data Science, Machine Learning and Deep Learning to create powerful AI for Real-World applications!', 'Instructors:', 'Hadelin de Ponteves, Kirill Eremenko, Ligency I Team, Luka Anicin, Ligency Team, Jordan Sauchuk', 'Rating: 4.4 out of 5', '4.4', '(21,677)', '17 total hours', '125 lectures', 'All Levels', 'Current price', '$13.99', 'Original Price', '$84.99', 'Bestseller']\n",
      "https://www.udemy.com/course/artificial-intelligence-az/\n",
      "########################################\n",
      "['Spark and Python for Big Data with PySpark', 'Learn how to use Spark with Python, including Spark Streaming, Machine Learning, Spark 2.0 DataFrames and more!', 'Learn how to use Spark with Python, including Spark Streaming, Machine Learning, Spark 2.0 DataFrames and more!', 'Instructor:', 'Jose Portilla', 'Rating: 4.5 out of 5', '4.5', '(19,813)', '10.5 total hours', '67 lectures', 'Intermediate', 'Current price', '$13.99', 'Original Price', '$84.99', 'Bestseller']\n",
      "https://www.udemy.com/course/spark-and-python-for-big-data-with-pyspark/\n",
      "########################################\n",
      "['Data Analysis with Pandas and Python', \"Analyze data quickly and easily with Python's powerful pandas library! All datasets included --- beginners welcome!\", \"Analyze data quickly and easily with Python's powerful pandas library! All datasets included --- beginners welcome!\", 'Instructor:', 'Boris Paskhaver', 'Rating: 4.6 out of 5', '4.6', '(17,984)', '22 total hours', '206 lectures', 'All Levels', 'Current price', '$13.99', 'Original Price', '$19.99', 'Bestseller']\n",
      "https://www.udemy.com/course/data-analysis-with-pandas/\n",
      "########################################\n",
      "['Complete Guide to TensorFlow for Deep Learning with Python', \"Learn how to use Google's Deep Learning Framework - TensorFlow with Python! Solve problems with cutting edge techniques!\", \"Learn how to use Google's Deep Learning Framework - TensorFlow with Python! Solve problems with cutting edge techniques!\", 'Instructor:', 'Jose Portilla', 'Rating: 4.2 out of 5', '4.2', '(16,536)', '14 total hours', '96 lectures', 'Intermediate', 'Current price', '$13.99', 'Original Price', '$84.99']\n",
      "https://www.udemy.com/course/complete-guide-to-tensorflow-for-deep-learning-with-python/\n",
      "########################################\n",
      "['Apache Spark with Scala - Hands On with Big Data!', 'Apache Spark tutorial with 20+ hands-on examples of analyzing large data sets, on your desktop or on Hadoop with Scala!', 'Apache Spark tutorial with 20+ hands-on examples of analyzing large data sets, on your desktop or on Hadoop with Scala!', 'Instructors:', 'Sundog Education by Frank Kane, Frank Kane, Sundog Education Team', 'Rating: 4.6 out of 5', '4.6', '(16,189)', '9 total hours', '69 lectures', 'All Levels', 'Current price', '$13.99', 'Original Price', '$19.99']\n",
      "https://www.udemy.com/course/apache-spark-with-scala-hands-on-with-big-data/\n",
      "########################################\n"
     ]
    },
    {
     "name": "stdout",
     "output_type": "stream",
     "text": [
      "['Data Science and Machine Learning Bootcamp with R', 'Learn how to use the R programming language for data science and machine learning and data visualization!', 'Learn how to use the R programming language for data science and machine learning and data visualization!', 'Instructor:', 'Jose Portilla', 'Rating: 4.7 out of 5', '4.7', '(15,402)', '18 total hours', '128 lectures', 'All Levels', 'Current price', '$13.99', 'Original Price', '$84.99']\n",
      "https://www.udemy.com/course/data-science-and-machine-learning-bootcamp-with-r/\n",
      "########################################\n",
      "['Taming Big Data with Apache Spark and Python - Hands On!', 'PySpark tutorial with 20+ hands-on examples of analyzing large data sets on your desktop or on Hadoop with Python!', 'PySpark tutorial with 20+ hands-on examples of analyzing large data sets on your desktop or on Hadoop with Python!', 'Instructors:', 'Sundog Education by Frank Kane, Frank Kane, Sundog Education Team', 'Rating: 4.6 out of 5', '4.6', '(13,771)', '7 total hours', '66 lectures', 'All Levels', 'Current price', '$13.99', 'Original Price', '$24.99', 'Bestseller']\n",
      "https://www.udemy.com/course/taming-big-data-with-apache-spark-hands-on/\n",
      "########################################\n",
      "Page is ready!\n"
     ]
    },
    {
     "ename": "NoSuchWindowException",
     "evalue": "Message: no such window: target window already closed\nfrom unknown error: web view not found\n  (Session info: chrome=107.0.5304.63)\nStacktrace:\nBacktrace:\n\tOrdinal0 [0x01191ED3+2236115]\n\tOrdinal0 [0x011292F1+1807089]\n\tOrdinal0 [0x010366FD+812797]\n\tOrdinal0 [0x0101DFFA+712698]\n\tOrdinal0 [0x0108506B+1134699]\n\tOrdinal0 [0x0109514A+1200458]\n\tOrdinal0 [0x010818A6+1120422]\n\tOrdinal0 [0x0105A73D+960317]\n\tOrdinal0 [0x0105B71F+964383]\n\tGetHandleVerifier [0x0143E7E2+2743074]\n\tGetHandleVerifier [0x014308D4+2685972]\n\tGetHandleVerifier [0x01222BAA+532202]\n\tGetHandleVerifier [0x01221990+527568]\n\tOrdinal0 [0x0113080C+1837068]\n\tOrdinal0 [0x01134CD8+1854680]\n\tOrdinal0 [0x01134DC5+1854917]\n\tOrdinal0 [0x0113ED64+1895780]\n\tBaseThreadInitThunk [0x7768FA29+25]\n\tRtlGetAppContainerNamedObjectPath [0x779D7A9E+286]\n\tRtlGetAppContainerNamedObjectPath [0x779D7A6E+238]\n",
     "output_type": "error",
     "traceback": [
      "\u001b[1;31m---------------------------------------------------------------------------\u001b[0m",
      "\u001b[1;31mNoSuchWindowException\u001b[0m                     Traceback (most recent call last)",
      "\u001b[1;32m<ipython-input-100-782a6566074c>\u001b[0m in \u001b[0;36m<module>\u001b[1;34m\u001b[0m\n\u001b[0;32m      9\u001b[0m         \u001b[0mmyElem\u001b[0m \u001b[1;33m=\u001b[0m \u001b[0mWebDriverWait\u001b[0m\u001b[1;33m(\u001b[0m\u001b[0mdriver\u001b[0m\u001b[1;33m,\u001b[0m \u001b[0mdelay\u001b[0m\u001b[1;33m)\u001b[0m\u001b[1;33m.\u001b[0m\u001b[0muntil\u001b[0m\u001b[1;33m(\u001b[0m\u001b[0mEC\u001b[0m\u001b[1;33m.\u001b[0m\u001b[0mpresence_of_element_located\u001b[0m\u001b[1;33m(\u001b[0m\u001b[1;33m(\u001b[0m\u001b[0mBy\u001b[0m\u001b[1;33m.\u001b[0m\u001b[0mCLASS_NAME\u001b[0m\u001b[1;33m,\u001b[0m\u001b[1;34m'pagination--container--2jxm9'\u001b[0m\u001b[1;33m)\u001b[0m\u001b[1;33m)\u001b[0m\u001b[1;33m)\u001b[0m\u001b[1;33m\u001b[0m\u001b[1;33m\u001b[0m\u001b[0m\n\u001b[0;32m     10\u001b[0m         \u001b[0mcourses\u001b[0m \u001b[1;33m=\u001b[0m \u001b[0mdriver\u001b[0m\u001b[1;33m.\u001b[0m\u001b[0mfind_element\u001b[0m\u001b[1;33m(\u001b[0m\u001b[0mBy\u001b[0m\u001b[1;33m.\u001b[0m\u001b[0mCLASS_NAME\u001b[0m\u001b[1;33m,\u001b[0m\u001b[1;34m'course-list--container--3zXPS'\u001b[0m \u001b[1;33m)\u001b[0m\u001b[1;33m\u001b[0m\u001b[1;33m\u001b[0m\u001b[0m\n\u001b[1;32m---> 11\u001b[1;33m         \u001b[1;32mfor\u001b[0m \u001b[0ma\u001b[0m \u001b[1;32min\u001b[0m \u001b[0mcourses\u001b[0m\u001b[1;33m.\u001b[0m\u001b[0mfind_elements\u001b[0m\u001b[1;33m(\u001b[0m\u001b[0mby\u001b[0m \u001b[1;33m=\u001b[0m \u001b[0mBy\u001b[0m\u001b[1;33m.\u001b[0m\u001b[0mCLASS_NAME\u001b[0m \u001b[1;33m,\u001b[0m\u001b[0mvalue\u001b[0m \u001b[1;33m=\u001b[0m  \u001b[1;34m'popper--popper--2r2To'\u001b[0m\u001b[1;33m)\u001b[0m\u001b[1;33m:\u001b[0m\u001b[1;33m\u001b[0m\u001b[1;33m\u001b[0m\u001b[0m\n\u001b[0m\u001b[0;32m     12\u001b[0m             \u001b[0mprint\u001b[0m\u001b[1;33m(\u001b[0m\u001b[0ma\u001b[0m\u001b[1;33m.\u001b[0m\u001b[0mtext\u001b[0m\u001b[1;33m.\u001b[0m\u001b[0msplit\u001b[0m\u001b[1;33m(\u001b[0m\u001b[1;34m'\\n'\u001b[0m\u001b[1;33m)\u001b[0m\u001b[1;33m)\u001b[0m\u001b[1;33m\u001b[0m\u001b[1;33m\u001b[0m\u001b[0m\n\u001b[0;32m     13\u001b[0m             \u001b[0mprint\u001b[0m\u001b[1;33m(\u001b[0m\u001b[0ma\u001b[0m\u001b[1;33m.\u001b[0m\u001b[0mfind_element\u001b[0m\u001b[1;33m(\u001b[0m\u001b[0mBy\u001b[0m\u001b[1;33m.\u001b[0m\u001b[0mTAG_NAME\u001b[0m\u001b[1;33m,\u001b[0m \u001b[1;34m'a'\u001b[0m\u001b[1;33m)\u001b[0m\u001b[1;33m.\u001b[0m\u001b[0mget_attribute\u001b[0m\u001b[1;33m(\u001b[0m\u001b[1;34m'href'\u001b[0m\u001b[1;33m)\u001b[0m\u001b[1;33m)\u001b[0m\u001b[1;33m\u001b[0m\u001b[1;33m\u001b[0m\u001b[0m\n",
      "\u001b[1;32m~\\anaconda3\\lib\\site-packages\\selenium\\webdriver\\remote\\webelement.py\u001b[0m in \u001b[0;36mfind_elements\u001b[1;34m(self, by, value)\u001b[0m\n\u001b[0;32m    441\u001b[0m             \u001b[0mvalue\u001b[0m \u001b[1;33m=\u001b[0m \u001b[1;34m'[name=\"%s\"]'\u001b[0m \u001b[1;33m%\u001b[0m \u001b[0mvalue\u001b[0m\u001b[1;33m\u001b[0m\u001b[1;33m\u001b[0m\u001b[0m\n\u001b[0;32m    442\u001b[0m \u001b[1;33m\u001b[0m\u001b[0m\n\u001b[1;32m--> 443\u001b[1;33m         return self._execute(Command.FIND_CHILD_ELEMENTS,\n\u001b[0m\u001b[0;32m    444\u001b[0m                              {\"using\": by, \"value\": value})['value']\n\u001b[0;32m    445\u001b[0m \u001b[1;33m\u001b[0m\u001b[0m\n",
      "\u001b[1;32m~\\anaconda3\\lib\\site-packages\\selenium\\webdriver\\remote\\webelement.py\u001b[0m in \u001b[0;36m_execute\u001b[1;34m(self, command, params)\u001b[0m\n\u001b[0;32m    394\u001b[0m             \u001b[0mparams\u001b[0m \u001b[1;33m=\u001b[0m \u001b[1;33m{\u001b[0m\u001b[1;33m}\u001b[0m\u001b[1;33m\u001b[0m\u001b[1;33m\u001b[0m\u001b[0m\n\u001b[0;32m    395\u001b[0m         \u001b[0mparams\u001b[0m\u001b[1;33m[\u001b[0m\u001b[1;34m'id'\u001b[0m\u001b[1;33m]\u001b[0m \u001b[1;33m=\u001b[0m \u001b[0mself\u001b[0m\u001b[1;33m.\u001b[0m\u001b[0m_id\u001b[0m\u001b[1;33m\u001b[0m\u001b[1;33m\u001b[0m\u001b[0m\n\u001b[1;32m--> 396\u001b[1;33m         \u001b[1;32mreturn\u001b[0m \u001b[0mself\u001b[0m\u001b[1;33m.\u001b[0m\u001b[0m_parent\u001b[0m\u001b[1;33m.\u001b[0m\u001b[0mexecute\u001b[0m\u001b[1;33m(\u001b[0m\u001b[0mcommand\u001b[0m\u001b[1;33m,\u001b[0m \u001b[0mparams\u001b[0m\u001b[1;33m)\u001b[0m\u001b[1;33m\u001b[0m\u001b[1;33m\u001b[0m\u001b[0m\n\u001b[0m\u001b[0;32m    397\u001b[0m \u001b[1;33m\u001b[0m\u001b[0m\n\u001b[0;32m    398\u001b[0m     \u001b[1;32mdef\u001b[0m \u001b[0mfind_element\u001b[0m\u001b[1;33m(\u001b[0m\u001b[0mself\u001b[0m\u001b[1;33m,\u001b[0m \u001b[0mby\u001b[0m\u001b[1;33m=\u001b[0m\u001b[0mBy\u001b[0m\u001b[1;33m.\u001b[0m\u001b[0mID\u001b[0m\u001b[1;33m,\u001b[0m \u001b[0mvalue\u001b[0m\u001b[1;33m=\u001b[0m\u001b[1;32mNone\u001b[0m\u001b[1;33m)\u001b[0m \u001b[1;33m->\u001b[0m \u001b[0mWebElement\u001b[0m\u001b[1;33m:\u001b[0m\u001b[1;33m\u001b[0m\u001b[1;33m\u001b[0m\u001b[0m\n",
      "\u001b[1;32m~\\anaconda3\\lib\\site-packages\\selenium\\webdriver\\remote\\webdriver.py\u001b[0m in \u001b[0;36mexecute\u001b[1;34m(self, driver_command, params)\u001b[0m\n\u001b[0;32m    427\u001b[0m         \u001b[0mresponse\u001b[0m \u001b[1;33m=\u001b[0m \u001b[0mself\u001b[0m\u001b[1;33m.\u001b[0m\u001b[0mcommand_executor\u001b[0m\u001b[1;33m.\u001b[0m\u001b[0mexecute\u001b[0m\u001b[1;33m(\u001b[0m\u001b[0mdriver_command\u001b[0m\u001b[1;33m,\u001b[0m \u001b[0mparams\u001b[0m\u001b[1;33m)\u001b[0m\u001b[1;33m\u001b[0m\u001b[1;33m\u001b[0m\u001b[0m\n\u001b[0;32m    428\u001b[0m         \u001b[1;32mif\u001b[0m \u001b[0mresponse\u001b[0m\u001b[1;33m:\u001b[0m\u001b[1;33m\u001b[0m\u001b[1;33m\u001b[0m\u001b[0m\n\u001b[1;32m--> 429\u001b[1;33m             \u001b[0mself\u001b[0m\u001b[1;33m.\u001b[0m\u001b[0merror_handler\u001b[0m\u001b[1;33m.\u001b[0m\u001b[0mcheck_response\u001b[0m\u001b[1;33m(\u001b[0m\u001b[0mresponse\u001b[0m\u001b[1;33m)\u001b[0m\u001b[1;33m\u001b[0m\u001b[1;33m\u001b[0m\u001b[0m\n\u001b[0m\u001b[0;32m    430\u001b[0m             response['value'] = self._unwrap_value(\n\u001b[0;32m    431\u001b[0m                 response.get('value', None))\n",
      "\u001b[1;32m~\\anaconda3\\lib\\site-packages\\selenium\\webdriver\\remote\\errorhandler.py\u001b[0m in \u001b[0;36mcheck_response\u001b[1;34m(self, response)\u001b[0m\n\u001b[0;32m    241\u001b[0m                 \u001b[0malert_text\u001b[0m \u001b[1;33m=\u001b[0m \u001b[0mvalue\u001b[0m\u001b[1;33m[\u001b[0m\u001b[1;34m'alert'\u001b[0m\u001b[1;33m]\u001b[0m\u001b[1;33m.\u001b[0m\u001b[0mget\u001b[0m\u001b[1;33m(\u001b[0m\u001b[1;34m'text'\u001b[0m\u001b[1;33m)\u001b[0m\u001b[1;33m\u001b[0m\u001b[1;33m\u001b[0m\u001b[0m\n\u001b[0;32m    242\u001b[0m             \u001b[1;32mraise\u001b[0m \u001b[0mexception_class\u001b[0m\u001b[1;33m(\u001b[0m\u001b[0mmessage\u001b[0m\u001b[1;33m,\u001b[0m \u001b[0mscreen\u001b[0m\u001b[1;33m,\u001b[0m \u001b[0mstacktrace\u001b[0m\u001b[1;33m,\u001b[0m \u001b[0malert_text\u001b[0m\u001b[1;33m)\u001b[0m  \u001b[1;31m# type: ignore[call-arg]  # mypy is not smart enough here\u001b[0m\u001b[1;33m\u001b[0m\u001b[1;33m\u001b[0m\u001b[0m\n\u001b[1;32m--> 243\u001b[1;33m         \u001b[1;32mraise\u001b[0m \u001b[0mexception_class\u001b[0m\u001b[1;33m(\u001b[0m\u001b[0mmessage\u001b[0m\u001b[1;33m,\u001b[0m \u001b[0mscreen\u001b[0m\u001b[1;33m,\u001b[0m \u001b[0mstacktrace\u001b[0m\u001b[1;33m)\u001b[0m\u001b[1;33m\u001b[0m\u001b[1;33m\u001b[0m\u001b[0m\n\u001b[0m",
      "\u001b[1;31mNoSuchWindowException\u001b[0m: Message: no such window: target window already closed\nfrom unknown error: web view not found\n  (Session info: chrome=107.0.5304.63)\nStacktrace:\nBacktrace:\n\tOrdinal0 [0x01191ED3+2236115]\n\tOrdinal0 [0x011292F1+1807089]\n\tOrdinal0 [0x010366FD+812797]\n\tOrdinal0 [0x0101DFFA+712698]\n\tOrdinal0 [0x0108506B+1134699]\n\tOrdinal0 [0x0109514A+1200458]\n\tOrdinal0 [0x010818A6+1120422]\n\tOrdinal0 [0x0105A73D+960317]\n\tOrdinal0 [0x0105B71F+964383]\n\tGetHandleVerifier [0x0143E7E2+2743074]\n\tGetHandleVerifier [0x014308D4+2685972]\n\tGetHandleVerifier [0x01222BAA+532202]\n\tGetHandleVerifier [0x01221990+527568]\n\tOrdinal0 [0x0113080C+1837068]\n\tOrdinal0 [0x01134CD8+1854680]\n\tOrdinal0 [0x01134DC5+1854917]\n\tOrdinal0 [0x0113ED64+1895780]\n\tBaseThreadInitThunk [0x7768FA29+25]\n\tRtlGetAppContainerNamedObjectPath [0x779D7A9E+286]\n\tRtlGetAppContainerNamedObjectPath [0x779D7A6E+238]\n"
     ]
    }
   ],
   "source": [
    "# running\n",
    "for i in range(1,5):\n",
    "    driver = webdriver.Chrome('C:\\Chrome Driver\\chromedriver.exe')\n",
    "    url = f'https://www.udemy.com/courses/development/data-science/?p={i}'\n",
    "    driver.get(url)\n",
    "    driver.implicitly_wait(60)\n",
    "    delay = 10 # seconds\n",
    "    try:\n",
    "        myElem = WebDriverWait(driver, delay).until(EC.presence_of_element_located((By.CLASS_NAME,'pagination--container--2jxm9')))\n",
    "        courses = driver.find_element(By.CLASS_NAME,'course-list--container--3zXPS' )\n",
    "        for a in courses.find_elements(by = By.CLASS_NAME ,value =  'popper--popper--2r2To'):\n",
    "            print(a.text.split('\\n'))\n",
    "            print(a.find_element(By.TAG_NAME, 'a').get_attribute('href'))\n",
    "            print('#'*40)\n",
    "        print(\"Page is ready!\")\n",
    "    except TimeoutException:\n",
    "        print(\"Loading took too much time!\")"
   ]
  },
  {
   "cell_type": "code",
   "execution_count": null,
   "metadata": {},
   "outputs": [],
   "source": [
    "driver = webdriver.Chrome('C:\\Chrome Driver\\chromedriver.exe')\n",
    "for i in range(1,5): \n",
    "    url = f'https://www.udemy.com/courses/development/data-science/?p={i}'\n",
    "    driver.get(url)\n",
    "#     courses = driver.find_element(By.CLASS_NAME,'course-list--container--3zXPS' )\n",
    "    delay = 10 # seconds\n",
    "    try:\n",
    "#         myElem = WebDriverWait(driver, delay).until(EC.find_element(By.CLASS_NAME,'course-list--container--3zXPS' ))\n",
    "        myElem = WebDriverWait(driver, delay).until(EC.presence_of_element_located((By.CLASS_NAME,'course-list--container--3zXPS')))\n",
    "        print(myElem)\n",
    "        print(\"Page is ready!\")\n",
    "    except TimeoutException:\n",
    "        print(\"Loading took too much time!\")"
   ]
  },
  {
   "cell_type": "code",
   "execution_count": 70,
   "metadata": {
    "collapsed": true
   },
   "outputs": [
    {
     "ename": "NoSuchElementException",
     "evalue": "Message: no such element: Unable to locate element: {\"method\":\"css selector\",\"selector\":\".udlite-icon udlite-icon-small\"}\n  (Session info: chrome=107.0.5304.63)\nStacktrace:\nBacktrace:\n\tOrdinal0 [0x01191ED3+2236115]\n\tOrdinal0 [0x011292F1+1807089]\n\tOrdinal0 [0x010366FD+812797]\n\tOrdinal0 [0x010655DF+1005023]\n\tOrdinal0 [0x010657CB+1005515]\n\tOrdinal0 [0x0105BE01+966145]\n\tOrdinal0 [0x01081AD4+1120980]\n\tOrdinal0 [0x0105BD84+966020]\n\tOrdinal0 [0x01081CA4+1121444]\n\tOrdinal0 [0x010959E2+1202658]\n\tOrdinal0 [0x010818A6+1120422]\n\tOrdinal0 [0x0105A73D+960317]\n\tOrdinal0 [0x0105B71F+964383]\n\tGetHandleVerifier [0x0143E7E2+2743074]\n\tGetHandleVerifier [0x014308D4+2685972]\n\tGetHandleVerifier [0x01222BAA+532202]\n\tGetHandleVerifier [0x01221990+527568]\n\tOrdinal0 [0x0113080C+1837068]\n\tOrdinal0 [0x01134CD8+1854680]\n\tOrdinal0 [0x01134DC5+1854917]\n\tOrdinal0 [0x0113ED64+1895780]\n\tBaseThreadInitThunk [0x7768FA29+25]\n\tRtlGetAppContainerNamedObjectPath [0x779D7A9E+286]\n\tRtlGetAppContainerNamedObjectPath [0x779D7A6E+238]\n",
     "output_type": "error",
     "traceback": [
      "\u001b[1;31m---------------------------------------------------------------------------\u001b[0m",
      "\u001b[1;31mNoSuchElementException\u001b[0m                    Traceback (most recent call last)",
      "\u001b[1;32m<ipython-input-70-725f706b9c93>\u001b[0m in \u001b[0;36m<module>\u001b[1;34m\u001b[0m\n\u001b[0;32m      1\u001b[0m \u001b[0mpagination\u001b[0m \u001b[1;33m=\u001b[0m \u001b[0mdriver\u001b[0m\u001b[1;33m.\u001b[0m\u001b[0mfind_element\u001b[0m\u001b[1;33m(\u001b[0m\u001b[0mBy\u001b[0m\u001b[1;33m.\u001b[0m\u001b[0mCLASS_NAME\u001b[0m \u001b[1;33m,\u001b[0m \u001b[1;34m'pagination--container--2jxm9'\u001b[0m\u001b[1;33m)\u001b[0m\u001b[1;33m\u001b[0m\u001b[1;33m\u001b[0m\u001b[0m\n\u001b[1;32m----> 2\u001b[1;33m \u001b[0mpagination\u001b[0m\u001b[1;33m.\u001b[0m\u001b[0mfind_element\u001b[0m\u001b[1;33m(\u001b[0m\u001b[0mBy\u001b[0m\u001b[1;33m.\u001b[0m\u001b[0mCLASS_NAME\u001b[0m \u001b[1;33m,\u001b[0m \u001b[1;34m'udlite-icon udlite-icon-small'\u001b[0m\u001b[1;33m)\u001b[0m\u001b[1;33m\u001b[0m\u001b[1;33m\u001b[0m\u001b[0m\n\u001b[0m",
      "\u001b[1;32m~\\anaconda3\\lib\\site-packages\\selenium\\webdriver\\remote\\webelement.py\u001b[0m in \u001b[0;36mfind_element\u001b[1;34m(self, by, value)\u001b[0m\n\u001b[0;32m    417\u001b[0m             \u001b[0mvalue\u001b[0m \u001b[1;33m=\u001b[0m \u001b[1;34m'[name=\"%s\"]'\u001b[0m \u001b[1;33m%\u001b[0m \u001b[0mvalue\u001b[0m\u001b[1;33m\u001b[0m\u001b[1;33m\u001b[0m\u001b[0m\n\u001b[0;32m    418\u001b[0m \u001b[1;33m\u001b[0m\u001b[0m\n\u001b[1;32m--> 419\u001b[1;33m         return self._execute(Command.FIND_CHILD_ELEMENT,\n\u001b[0m\u001b[0;32m    420\u001b[0m                              {\"using\": by, \"value\": value})['value']\n\u001b[0;32m    421\u001b[0m \u001b[1;33m\u001b[0m\u001b[0m\n",
      "\u001b[1;32m~\\anaconda3\\lib\\site-packages\\selenium\\webdriver\\remote\\webelement.py\u001b[0m in \u001b[0;36m_execute\u001b[1;34m(self, command, params)\u001b[0m\n\u001b[0;32m    394\u001b[0m             \u001b[0mparams\u001b[0m \u001b[1;33m=\u001b[0m \u001b[1;33m{\u001b[0m\u001b[1;33m}\u001b[0m\u001b[1;33m\u001b[0m\u001b[1;33m\u001b[0m\u001b[0m\n\u001b[0;32m    395\u001b[0m         \u001b[0mparams\u001b[0m\u001b[1;33m[\u001b[0m\u001b[1;34m'id'\u001b[0m\u001b[1;33m]\u001b[0m \u001b[1;33m=\u001b[0m \u001b[0mself\u001b[0m\u001b[1;33m.\u001b[0m\u001b[0m_id\u001b[0m\u001b[1;33m\u001b[0m\u001b[1;33m\u001b[0m\u001b[0m\n\u001b[1;32m--> 396\u001b[1;33m         \u001b[1;32mreturn\u001b[0m \u001b[0mself\u001b[0m\u001b[1;33m.\u001b[0m\u001b[0m_parent\u001b[0m\u001b[1;33m.\u001b[0m\u001b[0mexecute\u001b[0m\u001b[1;33m(\u001b[0m\u001b[0mcommand\u001b[0m\u001b[1;33m,\u001b[0m \u001b[0mparams\u001b[0m\u001b[1;33m)\u001b[0m\u001b[1;33m\u001b[0m\u001b[1;33m\u001b[0m\u001b[0m\n\u001b[0m\u001b[0;32m    397\u001b[0m \u001b[1;33m\u001b[0m\u001b[0m\n\u001b[0;32m    398\u001b[0m     \u001b[1;32mdef\u001b[0m \u001b[0mfind_element\u001b[0m\u001b[1;33m(\u001b[0m\u001b[0mself\u001b[0m\u001b[1;33m,\u001b[0m \u001b[0mby\u001b[0m\u001b[1;33m=\u001b[0m\u001b[0mBy\u001b[0m\u001b[1;33m.\u001b[0m\u001b[0mID\u001b[0m\u001b[1;33m,\u001b[0m \u001b[0mvalue\u001b[0m\u001b[1;33m=\u001b[0m\u001b[1;32mNone\u001b[0m\u001b[1;33m)\u001b[0m \u001b[1;33m->\u001b[0m \u001b[0mWebElement\u001b[0m\u001b[1;33m:\u001b[0m\u001b[1;33m\u001b[0m\u001b[1;33m\u001b[0m\u001b[0m\n",
      "\u001b[1;32m~\\anaconda3\\lib\\site-packages\\selenium\\webdriver\\remote\\webdriver.py\u001b[0m in \u001b[0;36mexecute\u001b[1;34m(self, driver_command, params)\u001b[0m\n\u001b[0;32m    427\u001b[0m         \u001b[0mresponse\u001b[0m \u001b[1;33m=\u001b[0m \u001b[0mself\u001b[0m\u001b[1;33m.\u001b[0m\u001b[0mcommand_executor\u001b[0m\u001b[1;33m.\u001b[0m\u001b[0mexecute\u001b[0m\u001b[1;33m(\u001b[0m\u001b[0mdriver_command\u001b[0m\u001b[1;33m,\u001b[0m \u001b[0mparams\u001b[0m\u001b[1;33m)\u001b[0m\u001b[1;33m\u001b[0m\u001b[1;33m\u001b[0m\u001b[0m\n\u001b[0;32m    428\u001b[0m         \u001b[1;32mif\u001b[0m \u001b[0mresponse\u001b[0m\u001b[1;33m:\u001b[0m\u001b[1;33m\u001b[0m\u001b[1;33m\u001b[0m\u001b[0m\n\u001b[1;32m--> 429\u001b[1;33m             \u001b[0mself\u001b[0m\u001b[1;33m.\u001b[0m\u001b[0merror_handler\u001b[0m\u001b[1;33m.\u001b[0m\u001b[0mcheck_response\u001b[0m\u001b[1;33m(\u001b[0m\u001b[0mresponse\u001b[0m\u001b[1;33m)\u001b[0m\u001b[1;33m\u001b[0m\u001b[1;33m\u001b[0m\u001b[0m\n\u001b[0m\u001b[0;32m    430\u001b[0m             response['value'] = self._unwrap_value(\n\u001b[0;32m    431\u001b[0m                 response.get('value', None))\n",
      "\u001b[1;32m~\\anaconda3\\lib\\site-packages\\selenium\\webdriver\\remote\\errorhandler.py\u001b[0m in \u001b[0;36mcheck_response\u001b[1;34m(self, response)\u001b[0m\n\u001b[0;32m    241\u001b[0m                 \u001b[0malert_text\u001b[0m \u001b[1;33m=\u001b[0m \u001b[0mvalue\u001b[0m\u001b[1;33m[\u001b[0m\u001b[1;34m'alert'\u001b[0m\u001b[1;33m]\u001b[0m\u001b[1;33m.\u001b[0m\u001b[0mget\u001b[0m\u001b[1;33m(\u001b[0m\u001b[1;34m'text'\u001b[0m\u001b[1;33m)\u001b[0m\u001b[1;33m\u001b[0m\u001b[1;33m\u001b[0m\u001b[0m\n\u001b[0;32m    242\u001b[0m             \u001b[1;32mraise\u001b[0m \u001b[0mexception_class\u001b[0m\u001b[1;33m(\u001b[0m\u001b[0mmessage\u001b[0m\u001b[1;33m,\u001b[0m \u001b[0mscreen\u001b[0m\u001b[1;33m,\u001b[0m \u001b[0mstacktrace\u001b[0m\u001b[1;33m,\u001b[0m \u001b[0malert_text\u001b[0m\u001b[1;33m)\u001b[0m  \u001b[1;31m# type: ignore[call-arg]  # mypy is not smart enough here\u001b[0m\u001b[1;33m\u001b[0m\u001b[1;33m\u001b[0m\u001b[0m\n\u001b[1;32m--> 243\u001b[1;33m         \u001b[1;32mraise\u001b[0m \u001b[0mexception_class\u001b[0m\u001b[1;33m(\u001b[0m\u001b[0mmessage\u001b[0m\u001b[1;33m,\u001b[0m \u001b[0mscreen\u001b[0m\u001b[1;33m,\u001b[0m \u001b[0mstacktrace\u001b[0m\u001b[1;33m)\u001b[0m\u001b[1;33m\u001b[0m\u001b[1;33m\u001b[0m\u001b[0m\n\u001b[0m",
      "\u001b[1;31mNoSuchElementException\u001b[0m: Message: no such element: Unable to locate element: {\"method\":\"css selector\",\"selector\":\".udlite-icon udlite-icon-small\"}\n  (Session info: chrome=107.0.5304.63)\nStacktrace:\nBacktrace:\n\tOrdinal0 [0x01191ED3+2236115]\n\tOrdinal0 [0x011292F1+1807089]\n\tOrdinal0 [0x010366FD+812797]\n\tOrdinal0 [0x010655DF+1005023]\n\tOrdinal0 [0x010657CB+1005515]\n\tOrdinal0 [0x0105BE01+966145]\n\tOrdinal0 [0x01081AD4+1120980]\n\tOrdinal0 [0x0105BD84+966020]\n\tOrdinal0 [0x01081CA4+1121444]\n\tOrdinal0 [0x010959E2+1202658]\n\tOrdinal0 [0x010818A6+1120422]\n\tOrdinal0 [0x0105A73D+960317]\n\tOrdinal0 [0x0105B71F+964383]\n\tGetHandleVerifier [0x0143E7E2+2743074]\n\tGetHandleVerifier [0x014308D4+2685972]\n\tGetHandleVerifier [0x01222BAA+532202]\n\tGetHandleVerifier [0x01221990+527568]\n\tOrdinal0 [0x0113080C+1837068]\n\tOrdinal0 [0x01134CD8+1854680]\n\tOrdinal0 [0x01134DC5+1854917]\n\tOrdinal0 [0x0113ED64+1895780]\n\tBaseThreadInitThunk [0x7768FA29+25]\n\tRtlGetAppContainerNamedObjectPath [0x779D7A9E+286]\n\tRtlGetAppContainerNamedObjectPath [0x779D7A6E+238]\n"
     ]
    }
   ],
   "source": [
    "pagination = driver.find_element(By.CLASS_NAME , 'pagination--container--2jxm9')\n",
    "pagination.find_element(By.CLASS_NAME , 'udlite-icon udlite-icon-small')"
   ]
  }
 ],
 "metadata": {
  "kernelspec": {
   "display_name": "Python 3",
   "language": "python",
   "name": "python3"
  },
  "language_info": {
   "codemirror_mode": {
    "name": "ipython",
    "version": 3
   },
   "file_extension": ".py",
   "mimetype": "text/x-python",
   "name": "python",
   "nbconvert_exporter": "python",
   "pygments_lexer": "ipython3",
   "version": "3.8.5"
  }
 },
 "nbformat": 4,
 "nbformat_minor": 4
}
