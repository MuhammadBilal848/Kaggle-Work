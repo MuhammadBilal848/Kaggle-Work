{
 "cells": [
  {
   "cell_type": "code",
   "execution_count": 17,
   "metadata": {},
   "outputs": [],
   "source": [
    "import pandas as pd \n",
    "import numpy as np\n",
    "from selenium import webdriver\n",
    "from selenium.webdriver.common.by import By\n",
    "from selenium.webdriver.support.ui import WebDriverWait\n",
    "import warnings\n",
    "warnings.filterwarnings('ignore')\n",
    "from selenium.webdriver.support import expected_conditions as EC\n",
    "from selenium.common.exceptions import TimeoutException"
   ]
  },
  {
   "cell_type": "code",
   "execution_count": 18,
   "metadata": {},
   "outputs": [],
   "source": [
    "url= 'https://www.daraz.pk/#hp-just-for-you'"
   ]
  },
  {
   "cell_type": "code",
   "execution_count": 19,
   "metadata": {},
   "outputs": [],
   "source": [
    "driver = webdriver.Chrome('C:\\Chrome Driver\\chromedriver.exe')"
   ]
  },
  {
   "cell_type": "code",
   "execution_count": 20,
   "metadata": {},
   "outputs": [],
   "source": [
    "driver.get(url)"
   ]
  },
  {
   "cell_type": "code",
   "execution_count": 24,
   "metadata": {},
   "outputs": [
    {
     "data": {
      "text/plain": [
       "'Rs.1,199'"
      ]
     },
     "execution_count": 24,
     "metadata": {},
     "output_type": "execute_result"
    }
   ],
   "source": [
    "# driver.find_element(By.XPATH , '//*[@id=\"hp-just-for-you\"]/div[2]/div[1]/div/div[1]/div[1]/a').get_attribute('href')\n",
    "driver.find_element(By.XPATH , '//*[@id=\"hp-just-for-you\"]/div[2]/div[1]/div/div[2]/div[1]/a/div/div[2]/div[3]/div[1]').text"
   ]
  },
  {
   "cell_type": "code",
   "execution_count": null,
   "metadata": {},
   "outputs": [],
   "source": []
  },
  {
   "cell_type": "markdown",
   "metadata": {},
   "source": [
    "# LINK"
   ]
  },
  {
   "cell_type": "code",
   "execution_count": null,
   "metadata": {},
   "outputs": [],
   "source": [
    "//*[@id=\"hp-just-for-you\"]/div[2]/div[1]/div/div[1]/div[1]/a\n",
    "//*[@id=\"hp-just-for-you\"]/div[2]/div[1]/div/div[1]/div[2]/a\n",
    "\n",
    "//*[@id=\"hp-just-for-you\"]/div[2]/div[1]/div/div[2]/div[1]/a\n",
    "//*[@id=\"hp-just-for-you\"]/div[2]/div[1]/div/div[2]/div[2]/a\n",
    "\n",
    "//*[@id=\"hp-just-for-you\"]/div[2]/div[1]/div/div[3]/div[1]/a"
   ]
  },
  {
   "cell_type": "markdown",
   "metadata": {},
   "source": [
    "# TITLE"
   ]
  },
  {
   "cell_type": "code",
   "execution_count": null,
   "metadata": {},
   "outputs": [],
   "source": [
    "//*[@id=\"hp-just-for-you\"]/div[2]/div[1]/div/div[1]/div[3]/a/div/div[2]/div[2]/span\n",
    "//*[@id=\"hp-just-for-you\"]/div[2]/div[1]/div/div[1]/div[3]/a/div/div[2]/div[2]/span\n",
    "//*[@id=\"hp-just-for-you\"]/div[2]/div[1]/div/div[1]/div[3]/a/div/div[2]/div[2]/span\n",
    "//*[@id=\"hp-just-for-you\"]/div[2]/div[1]/div/div[1]/div[3]/a/div/div[2]/div[2]/span"
   ]
  },
  {
   "cell_type": "markdown",
   "metadata": {},
   "source": [
    "# PRICE"
   ]
  },
  {
   "cell_type": "code",
   "execution_count": null,
   "metadata": {},
   "outputs": [],
   "source": [
    "//*[@id=\"hp-just-for-you\"]/div[2]/div[1]/div/div[1]/div[1]/a/div/div[2]/div[3]/div[1]\n",
    "//*[@id=\"hp-just-for-you\"]/div[2]/div[1]/div/div[1]/div[2]/a/div/div[2]/div[3]/div[1]\n",
    "\n",
    "\n",
    "//*[@id=\"hp-just-for-you\"]/div[2]/div[1]/div/div[2]/div[1]/a/div/div[2]/div[3]/div[1]\n",
    "//*[@id=\"hp-just-for-you\"]/div[2]/div[1]/div/div[2]/div[2]/a/div/div[2]/div[3]/div[1]\n",
    "\n",
    "//*[@id=\"hp-just-for-you\"]/div[2]/div[1]/div/div[3]/div[1]/a/div/div[2]/div[3]/div[1]"
   ]
  },
  {
   "cell_type": "code",
   "execution_count": null,
   "metadata": {},
   "outputs": [],
   "source": []
  }
 ],
 "metadata": {
  "kernelspec": {
   "display_name": "Python 3",
   "language": "python",
   "name": "python3"
  },
  "language_info": {
   "codemirror_mode": {
    "name": "ipython",
    "version": 3
   },
   "file_extension": ".py",
   "mimetype": "text/x-python",
   "name": "python",
   "nbconvert_exporter": "python",
   "pygments_lexer": "ipython3",
   "version": "3.8.5"
  }
 },
 "nbformat": 4,
 "nbformat_minor": 4
}
