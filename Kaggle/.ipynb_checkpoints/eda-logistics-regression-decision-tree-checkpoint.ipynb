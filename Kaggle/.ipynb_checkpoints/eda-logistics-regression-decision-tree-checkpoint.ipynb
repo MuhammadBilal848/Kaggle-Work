{
 "cells": [
  {
   "cell_type": "code",
   "execution_count": 2,
   "metadata": {
    "_cell_guid": "b1076dfc-b9ad-4769-8c92-a6c4dae69d19",
    "_uuid": "8f2839f25d086af736a60e9eeb907d3b93b6e0e5",
    "execution": {
     "iopub.execute_input": "2022-09-10T23:55:04.818762Z",
     "iopub.status.busy": "2022-09-10T23:55:04.818326Z",
     "iopub.status.idle": "2022-09-10T23:55:04.829199Z",
     "shell.execute_reply": "2022-09-10T23:55:04.828007Z",
     "shell.execute_reply.started": "2022-09-10T23:55:04.818729Z"
    }
   },
   "outputs": [],
   "source": [
    "import numpy as np\n",
    "import pandas as pd\n",
    "import scipy.stats as stats\n",
    "import seaborn as sns\n",
    "import plotly.express as px\n",
    "import matplotlib.pyplot as plt\n",
    "from sklearn.model_selection import train_test_split\n",
    "from sklearn.linear_model import LogisticRegression\n",
    "from sklearn.tree import DecisionTreeClassifier\n",
    "from sklearn.preprocessing import LabelEncoder\n",
    "import warnings\n",
    "warnings.filterwarnings('ignore')"
   ]
  },
  {
   "cell_type": "markdown",
   "metadata": {},
   "source": [
    "# **Data Description**\n",
    "##### **Survival** : Survival\t0 = No, 1 = Yes. This is the **target variable**.\n",
    "\n",
    "##### **Pclass** : Ticket class , 1 = 1st, 2 = 2nd, 3 = 3rd.\n",
    "\n",
    "##### **Sex** : Gender.\n",
    "\n",
    "##### **Age** : Age in years.\n",
    "\n",
    "##### **SibSp** : # of siblings / spouses aboard the Titanic.\n",
    "\n",
    "##### **Parch** : # of parents / children aboard the Titanic.\n",
    "\n",
    "##### **Ticket** : Ticket number.\n",
    "\n",
    "##### **Fare** : Passenger fare.\n",
    "\n",
    "##### **Cabin** : Cabin number.\n",
    "\n",
    "##### **Embarked** : Port of Embarkation."
   ]
  },
  {
   "cell_type": "markdown",
   "metadata": {},
   "source": [
    "# **Importing the train and test data**."
   ]
  },
  {
   "cell_type": "code",
   "execution_count": 5,
   "metadata": {
    "execution": {
     "iopub.execute_input": "2022-09-10T23:55:07.813487Z",
     "iopub.status.busy": "2022-09-10T23:55:07.812136Z",
     "iopub.status.idle": "2022-09-10T23:55:07.834387Z",
     "shell.execute_reply": "2022-09-10T23:55:07.833454Z",
     "shell.execute_reply.started": "2022-09-10T23:55:07.813429Z"
    }
   },
   "outputs": [],
   "source": [
    "train = pd.read_csv(\"train.csv\")\n",
    "test = pd.read_csv(\"test.csv\")"
   ]
  },
  {
   "cell_type": "markdown",
   "metadata": {},
   "source": [
    "# **Exploring the dataset**."
   ]
  },
  {
   "cell_type": "code",
   "execution_count": 6,
   "metadata": {
    "execution": {
     "iopub.execute_input": "2022-09-10T23:55:08.266926Z",
     "iopub.status.busy": "2022-09-10T23:55:08.266031Z",
     "iopub.status.idle": "2022-09-10T23:55:08.288293Z",
     "shell.execute_reply": "2022-09-10T23:55:08.287060Z",
     "shell.execute_reply.started": "2022-09-10T23:55:08.266882Z"
    }
   },
   "outputs": [
    {
     "data": {
      "text/html": [
       "<div>\n",
       "<style scoped>\n",
       "    .dataframe tbody tr th:only-of-type {\n",
       "        vertical-align: middle;\n",
       "    }\n",
       "\n",
       "    .dataframe tbody tr th {\n",
       "        vertical-align: top;\n",
       "    }\n",
       "\n",
       "    .dataframe thead th {\n",
       "        text-align: right;\n",
       "    }\n",
       "</style>\n",
       "<table border=\"1\" class=\"dataframe\">\n",
       "  <thead>\n",
       "    <tr style=\"text-align: right;\">\n",
       "      <th></th>\n",
       "      <th>PassengerId</th>\n",
       "      <th>Survived</th>\n",
       "      <th>Pclass</th>\n",
       "      <th>Name</th>\n",
       "      <th>Sex</th>\n",
       "      <th>Age</th>\n",
       "      <th>SibSp</th>\n",
       "      <th>Parch</th>\n",
       "      <th>Ticket</th>\n",
       "      <th>Fare</th>\n",
       "      <th>Cabin</th>\n",
       "      <th>Embarked</th>\n",
       "    </tr>\n",
       "  </thead>\n",
       "  <tbody>\n",
       "    <tr>\n",
       "      <th>0</th>\n",
       "      <td>1</td>\n",
       "      <td>0</td>\n",
       "      <td>3</td>\n",
       "      <td>Braund, Mr. Owen Harris</td>\n",
       "      <td>male</td>\n",
       "      <td>22.0</td>\n",
       "      <td>1</td>\n",
       "      <td>0</td>\n",
       "      <td>A/5 21171</td>\n",
       "      <td>7.2500</td>\n",
       "      <td>NaN</td>\n",
       "      <td>S</td>\n",
       "    </tr>\n",
       "    <tr>\n",
       "      <th>1</th>\n",
       "      <td>2</td>\n",
       "      <td>1</td>\n",
       "      <td>1</td>\n",
       "      <td>Cumings, Mrs. John Bradley (Florence Briggs Th...</td>\n",
       "      <td>female</td>\n",
       "      <td>38.0</td>\n",
       "      <td>1</td>\n",
       "      <td>0</td>\n",
       "      <td>PC 17599</td>\n",
       "      <td>71.2833</td>\n",
       "      <td>C85</td>\n",
       "      <td>C</td>\n",
       "    </tr>\n",
       "    <tr>\n",
       "      <th>2</th>\n",
       "      <td>3</td>\n",
       "      <td>1</td>\n",
       "      <td>3</td>\n",
       "      <td>Heikkinen, Miss. Laina</td>\n",
       "      <td>female</td>\n",
       "      <td>26.0</td>\n",
       "      <td>0</td>\n",
       "      <td>0</td>\n",
       "      <td>STON/O2. 3101282</td>\n",
       "      <td>7.9250</td>\n",
       "      <td>NaN</td>\n",
       "      <td>S</td>\n",
       "    </tr>\n",
       "    <tr>\n",
       "      <th>3</th>\n",
       "      <td>4</td>\n",
       "      <td>1</td>\n",
       "      <td>1</td>\n",
       "      <td>Futrelle, Mrs. Jacques Heath (Lily May Peel)</td>\n",
       "      <td>female</td>\n",
       "      <td>35.0</td>\n",
       "      <td>1</td>\n",
       "      <td>0</td>\n",
       "      <td>113803</td>\n",
       "      <td>53.1000</td>\n",
       "      <td>C123</td>\n",
       "      <td>S</td>\n",
       "    </tr>\n",
       "    <tr>\n",
       "      <th>4</th>\n",
       "      <td>5</td>\n",
       "      <td>0</td>\n",
       "      <td>3</td>\n",
       "      <td>Allen, Mr. William Henry</td>\n",
       "      <td>male</td>\n",
       "      <td>35.0</td>\n",
       "      <td>0</td>\n",
       "      <td>0</td>\n",
       "      <td>373450</td>\n",
       "      <td>8.0500</td>\n",
       "      <td>NaN</td>\n",
       "      <td>S</td>\n",
       "    </tr>\n",
       "    <tr>\n",
       "      <th>5</th>\n",
       "      <td>6</td>\n",
       "      <td>0</td>\n",
       "      <td>3</td>\n",
       "      <td>Moran, Mr. James</td>\n",
       "      <td>male</td>\n",
       "      <td>NaN</td>\n",
       "      <td>0</td>\n",
       "      <td>0</td>\n",
       "      <td>330877</td>\n",
       "      <td>8.4583</td>\n",
       "      <td>NaN</td>\n",
       "      <td>Q</td>\n",
       "    </tr>\n",
       "    <tr>\n",
       "      <th>6</th>\n",
       "      <td>7</td>\n",
       "      <td>0</td>\n",
       "      <td>1</td>\n",
       "      <td>McCarthy, Mr. Timothy J</td>\n",
       "      <td>male</td>\n",
       "      <td>54.0</td>\n",
       "      <td>0</td>\n",
       "      <td>0</td>\n",
       "      <td>17463</td>\n",
       "      <td>51.8625</td>\n",
       "      <td>E46</td>\n",
       "      <td>S</td>\n",
       "    </tr>\n",
       "    <tr>\n",
       "      <th>7</th>\n",
       "      <td>8</td>\n",
       "      <td>0</td>\n",
       "      <td>3</td>\n",
       "      <td>Palsson, Master. Gosta Leonard</td>\n",
       "      <td>male</td>\n",
       "      <td>2.0</td>\n",
       "      <td>3</td>\n",
       "      <td>1</td>\n",
       "      <td>349909</td>\n",
       "      <td>21.0750</td>\n",
       "      <td>NaN</td>\n",
       "      <td>S</td>\n",
       "    </tr>\n",
       "    <tr>\n",
       "      <th>8</th>\n",
       "      <td>9</td>\n",
       "      <td>1</td>\n",
       "      <td>3</td>\n",
       "      <td>Johnson, Mrs. Oscar W (Elisabeth Vilhelmina Berg)</td>\n",
       "      <td>female</td>\n",
       "      <td>27.0</td>\n",
       "      <td>0</td>\n",
       "      <td>2</td>\n",
       "      <td>347742</td>\n",
       "      <td>11.1333</td>\n",
       "      <td>NaN</td>\n",
       "      <td>S</td>\n",
       "    </tr>\n",
       "    <tr>\n",
       "      <th>9</th>\n",
       "      <td>10</td>\n",
       "      <td>1</td>\n",
       "      <td>2</td>\n",
       "      <td>Nasser, Mrs. Nicholas (Adele Achem)</td>\n",
       "      <td>female</td>\n",
       "      <td>14.0</td>\n",
       "      <td>1</td>\n",
       "      <td>0</td>\n",
       "      <td>237736</td>\n",
       "      <td>30.0708</td>\n",
       "      <td>NaN</td>\n",
       "      <td>C</td>\n",
       "    </tr>\n",
       "  </tbody>\n",
       "</table>\n",
       "</div>"
      ],
      "text/plain": [
       "   PassengerId  Survived  Pclass  \\\n",
       "0            1         0       3   \n",
       "1            2         1       1   \n",
       "2            3         1       3   \n",
       "3            4         1       1   \n",
       "4            5         0       3   \n",
       "5            6         0       3   \n",
       "6            7         0       1   \n",
       "7            8         0       3   \n",
       "8            9         1       3   \n",
       "9           10         1       2   \n",
       "\n",
       "                                                Name     Sex   Age  SibSp  \\\n",
       "0                            Braund, Mr. Owen Harris    male  22.0      1   \n",
       "1  Cumings, Mrs. John Bradley (Florence Briggs Th...  female  38.0      1   \n",
       "2                             Heikkinen, Miss. Laina  female  26.0      0   \n",
       "3       Futrelle, Mrs. Jacques Heath (Lily May Peel)  female  35.0      1   \n",
       "4                           Allen, Mr. William Henry    male  35.0      0   \n",
       "5                                   Moran, Mr. James    male   NaN      0   \n",
       "6                            McCarthy, Mr. Timothy J    male  54.0      0   \n",
       "7                     Palsson, Master. Gosta Leonard    male   2.0      3   \n",
       "8  Johnson, Mrs. Oscar W (Elisabeth Vilhelmina Berg)  female  27.0      0   \n",
       "9                Nasser, Mrs. Nicholas (Adele Achem)  female  14.0      1   \n",
       "\n",
       "   Parch            Ticket     Fare Cabin Embarked  \n",
       "0      0         A/5 21171   7.2500   NaN        S  \n",
       "1      0          PC 17599  71.2833   C85        C  \n",
       "2      0  STON/O2. 3101282   7.9250   NaN        S  \n",
       "3      0            113803  53.1000  C123        S  \n",
       "4      0            373450   8.0500   NaN        S  \n",
       "5      0            330877   8.4583   NaN        Q  \n",
       "6      0             17463  51.8625   E46        S  \n",
       "7      1            349909  21.0750   NaN        S  \n",
       "8      2            347742  11.1333   NaN        S  \n",
       "9      0            237736  30.0708   NaN        C  "
      ]
     },
     "execution_count": 6,
     "metadata": {},
     "output_type": "execute_result"
    }
   ],
   "source": [
    "train.head(10)"
   ]
  },
  {
   "cell_type": "code",
   "execution_count": 7,
   "metadata": {
    "execution": {
     "iopub.execute_input": "2022-09-10T23:55:08.447094Z",
     "iopub.status.busy": "2022-09-10T23:55:08.446612Z",
     "iopub.status.idle": "2022-09-10T23:55:08.465656Z",
     "shell.execute_reply": "2022-09-10T23:55:08.464611Z",
     "shell.execute_reply.started": "2022-09-10T23:55:08.447056Z"
    }
   },
   "outputs": [
    {
     "data": {
      "text/html": [
       "<div>\n",
       "<style scoped>\n",
       "    .dataframe tbody tr th:only-of-type {\n",
       "        vertical-align: middle;\n",
       "    }\n",
       "\n",
       "    .dataframe tbody tr th {\n",
       "        vertical-align: top;\n",
       "    }\n",
       "\n",
       "    .dataframe thead th {\n",
       "        text-align: right;\n",
       "    }\n",
       "</style>\n",
       "<table border=\"1\" class=\"dataframe\">\n",
       "  <thead>\n",
       "    <tr style=\"text-align: right;\">\n",
       "      <th></th>\n",
       "      <th>PassengerId</th>\n",
       "      <th>Pclass</th>\n",
       "      <th>Name</th>\n",
       "      <th>Sex</th>\n",
       "      <th>Age</th>\n",
       "      <th>SibSp</th>\n",
       "      <th>Parch</th>\n",
       "      <th>Ticket</th>\n",
       "      <th>Fare</th>\n",
       "      <th>Cabin</th>\n",
       "      <th>Embarked</th>\n",
       "    </tr>\n",
       "  </thead>\n",
       "  <tbody>\n",
       "    <tr>\n",
       "      <th>0</th>\n",
       "      <td>892</td>\n",
       "      <td>3</td>\n",
       "      <td>Kelly, Mr. James</td>\n",
       "      <td>male</td>\n",
       "      <td>34.5</td>\n",
       "      <td>0</td>\n",
       "      <td>0</td>\n",
       "      <td>330911</td>\n",
       "      <td>7.8292</td>\n",
       "      <td>NaN</td>\n",
       "      <td>Q</td>\n",
       "    </tr>\n",
       "    <tr>\n",
       "      <th>1</th>\n",
       "      <td>893</td>\n",
       "      <td>3</td>\n",
       "      <td>Wilkes, Mrs. James (Ellen Needs)</td>\n",
       "      <td>female</td>\n",
       "      <td>47.0</td>\n",
       "      <td>1</td>\n",
       "      <td>0</td>\n",
       "      <td>363272</td>\n",
       "      <td>7.0000</td>\n",
       "      <td>NaN</td>\n",
       "      <td>S</td>\n",
       "    </tr>\n",
       "    <tr>\n",
       "      <th>2</th>\n",
       "      <td>894</td>\n",
       "      <td>2</td>\n",
       "      <td>Myles, Mr. Thomas Francis</td>\n",
       "      <td>male</td>\n",
       "      <td>62.0</td>\n",
       "      <td>0</td>\n",
       "      <td>0</td>\n",
       "      <td>240276</td>\n",
       "      <td>9.6875</td>\n",
       "      <td>NaN</td>\n",
       "      <td>Q</td>\n",
       "    </tr>\n",
       "    <tr>\n",
       "      <th>3</th>\n",
       "      <td>895</td>\n",
       "      <td>3</td>\n",
       "      <td>Wirz, Mr. Albert</td>\n",
       "      <td>male</td>\n",
       "      <td>27.0</td>\n",
       "      <td>0</td>\n",
       "      <td>0</td>\n",
       "      <td>315154</td>\n",
       "      <td>8.6625</td>\n",
       "      <td>NaN</td>\n",
       "      <td>S</td>\n",
       "    </tr>\n",
       "    <tr>\n",
       "      <th>4</th>\n",
       "      <td>896</td>\n",
       "      <td>3</td>\n",
       "      <td>Hirvonen, Mrs. Alexander (Helga E Lindqvist)</td>\n",
       "      <td>female</td>\n",
       "      <td>22.0</td>\n",
       "      <td>1</td>\n",
       "      <td>1</td>\n",
       "      <td>3101298</td>\n",
       "      <td>12.2875</td>\n",
       "      <td>NaN</td>\n",
       "      <td>S</td>\n",
       "    </tr>\n",
       "    <tr>\n",
       "      <th>5</th>\n",
       "      <td>897</td>\n",
       "      <td>3</td>\n",
       "      <td>Svensson, Mr. Johan Cervin</td>\n",
       "      <td>male</td>\n",
       "      <td>14.0</td>\n",
       "      <td>0</td>\n",
       "      <td>0</td>\n",
       "      <td>7538</td>\n",
       "      <td>9.2250</td>\n",
       "      <td>NaN</td>\n",
       "      <td>S</td>\n",
       "    </tr>\n",
       "    <tr>\n",
       "      <th>6</th>\n",
       "      <td>898</td>\n",
       "      <td>3</td>\n",
       "      <td>Connolly, Miss. Kate</td>\n",
       "      <td>female</td>\n",
       "      <td>30.0</td>\n",
       "      <td>0</td>\n",
       "      <td>0</td>\n",
       "      <td>330972</td>\n",
       "      <td>7.6292</td>\n",
       "      <td>NaN</td>\n",
       "      <td>Q</td>\n",
       "    </tr>\n",
       "    <tr>\n",
       "      <th>7</th>\n",
       "      <td>899</td>\n",
       "      <td>2</td>\n",
       "      <td>Caldwell, Mr. Albert Francis</td>\n",
       "      <td>male</td>\n",
       "      <td>26.0</td>\n",
       "      <td>1</td>\n",
       "      <td>1</td>\n",
       "      <td>248738</td>\n",
       "      <td>29.0000</td>\n",
       "      <td>NaN</td>\n",
       "      <td>S</td>\n",
       "    </tr>\n",
       "    <tr>\n",
       "      <th>8</th>\n",
       "      <td>900</td>\n",
       "      <td>3</td>\n",
       "      <td>Abrahim, Mrs. Joseph (Sophie Halaut Easu)</td>\n",
       "      <td>female</td>\n",
       "      <td>18.0</td>\n",
       "      <td>0</td>\n",
       "      <td>0</td>\n",
       "      <td>2657</td>\n",
       "      <td>7.2292</td>\n",
       "      <td>NaN</td>\n",
       "      <td>C</td>\n",
       "    </tr>\n",
       "    <tr>\n",
       "      <th>9</th>\n",
       "      <td>901</td>\n",
       "      <td>3</td>\n",
       "      <td>Davies, Mr. John Samuel</td>\n",
       "      <td>male</td>\n",
       "      <td>21.0</td>\n",
       "      <td>2</td>\n",
       "      <td>0</td>\n",
       "      <td>A/4 48871</td>\n",
       "      <td>24.1500</td>\n",
       "      <td>NaN</td>\n",
       "      <td>S</td>\n",
       "    </tr>\n",
       "  </tbody>\n",
       "</table>\n",
       "</div>"
      ],
      "text/plain": [
       "   PassengerId  Pclass                                          Name     Sex  \\\n",
       "0          892       3                              Kelly, Mr. James    male   \n",
       "1          893       3              Wilkes, Mrs. James (Ellen Needs)  female   \n",
       "2          894       2                     Myles, Mr. Thomas Francis    male   \n",
       "3          895       3                              Wirz, Mr. Albert    male   \n",
       "4          896       3  Hirvonen, Mrs. Alexander (Helga E Lindqvist)  female   \n",
       "5          897       3                    Svensson, Mr. Johan Cervin    male   \n",
       "6          898       3                          Connolly, Miss. Kate  female   \n",
       "7          899       2                  Caldwell, Mr. Albert Francis    male   \n",
       "8          900       3     Abrahim, Mrs. Joseph (Sophie Halaut Easu)  female   \n",
       "9          901       3                       Davies, Mr. John Samuel    male   \n",
       "\n",
       "    Age  SibSp  Parch     Ticket     Fare Cabin Embarked  \n",
       "0  34.5      0      0     330911   7.8292   NaN        Q  \n",
       "1  47.0      1      0     363272   7.0000   NaN        S  \n",
       "2  62.0      0      0     240276   9.6875   NaN        Q  \n",
       "3  27.0      0      0     315154   8.6625   NaN        S  \n",
       "4  22.0      1      1    3101298  12.2875   NaN        S  \n",
       "5  14.0      0      0       7538   9.2250   NaN        S  \n",
       "6  30.0      0      0     330972   7.6292   NaN        Q  \n",
       "7  26.0      1      1     248738  29.0000   NaN        S  \n",
       "8  18.0      0      0       2657   7.2292   NaN        C  \n",
       "9  21.0      2      0  A/4 48871  24.1500   NaN        S  "
      ]
     },
     "execution_count": 7,
     "metadata": {},
     "output_type": "execute_result"
    }
   ],
   "source": [
    "test.head(10)"
   ]
  },
  {
   "cell_type": "code",
   "execution_count": 10,
   "metadata": {
    "execution": {
     "iopub.execute_input": "2022-09-10T23:55:08.640219Z",
     "iopub.status.busy": "2022-09-10T23:55:08.639700Z",
     "iopub.status.idle": "2022-09-10T23:55:08.657995Z",
     "shell.execute_reply": "2022-09-10T23:55:08.657098Z",
     "shell.execute_reply.started": "2022-09-10T23:55:08.640178Z"
    }
   },
   "outputs": [],
   "source": [
    "# train.info()"
   ]
  },
  {
   "cell_type": "code",
   "execution_count": 11,
   "metadata": {
    "execution": {
     "iopub.execute_input": "2022-09-10T23:55:09.177888Z",
     "iopub.status.busy": "2022-09-10T23:55:09.176794Z",
     "iopub.status.idle": "2022-09-10T23:55:09.191537Z",
     "shell.execute_reply": "2022-09-10T23:55:09.189962Z",
     "shell.execute_reply.started": "2022-09-10T23:55:09.177795Z"
    }
   },
   "outputs": [],
   "source": [
    "# test.info()"
   ]
  },
  {
   "cell_type": "markdown",
   "metadata": {},
   "source": [
    "* We have 177 null values in Age, 687 in Cabin and 2 in Embarked."
   ]
  },
  {
   "cell_type": "code",
   "execution_count": 12,
   "metadata": {
    "execution": {
     "iopub.execute_input": "2022-09-10T23:55:09.667916Z",
     "iopub.status.busy": "2022-09-10T23:55:09.666594Z",
     "iopub.status.idle": "2022-09-10T23:55:09.678476Z",
     "shell.execute_reply": "2022-09-10T23:55:09.677104Z",
     "shell.execute_reply.started": "2022-09-10T23:55:09.667876Z"
    }
   },
   "outputs": [
    {
     "data": {
      "text/plain": [
       "PassengerId      0\n",
       "Survived         0\n",
       "Pclass           0\n",
       "Name             0\n",
       "Sex              0\n",
       "Age            177\n",
       "SibSp            0\n",
       "Parch            0\n",
       "Ticket           0\n",
       "Fare             0\n",
       "Cabin          687\n",
       "Embarked         2\n",
       "dtype: int64"
      ]
     },
     "execution_count": 12,
     "metadata": {},
     "output_type": "execute_result"
    }
   ],
   "source": [
    "# cheking how many values we have null in each column of train data\n",
    "train.isnull().sum()"
   ]
  },
  {
   "cell_type": "markdown",
   "metadata": {},
   "source": [
    "* We have 86 null values in Age, 327 in Cabin and 1 in Fare."
   ]
  },
  {
   "cell_type": "code",
   "execution_count": 13,
   "metadata": {
    "execution": {
     "iopub.execute_input": "2022-09-10T23:55:10.253358Z",
     "iopub.status.busy": "2022-09-10T23:55:10.252638Z",
     "iopub.status.idle": "2022-09-10T23:55:10.267165Z",
     "shell.execute_reply": "2022-09-10T23:55:10.265290Z",
     "shell.execute_reply.started": "2022-09-10T23:55:10.253320Z"
    }
   },
   "outputs": [
    {
     "data": {
      "text/plain": [
       "PassengerId      0\n",
       "Pclass           0\n",
       "Name             0\n",
       "Sex              0\n",
       "Age             86\n",
       "SibSp            0\n",
       "Parch            0\n",
       "Ticket           0\n",
       "Fare             1\n",
       "Cabin          327\n",
       "Embarked         0\n",
       "dtype: int64"
      ]
     },
     "execution_count": 13,
     "metadata": {},
     "output_type": "execute_result"
    }
   ],
   "source": [
    "# cheking how many values we have null in each column of test data\n",
    "test.isnull().sum()\n"
   ]
  },
  {
   "cell_type": "markdown",
   "metadata": {},
   "source": [
    "# **Explanatory Data Analysis**\n",
    "* We try to apply a bit of EDA on some features to get a better understanding through amazing visuals."
   ]
  },
  {
   "cell_type": "markdown",
   "metadata": {},
   "source": [
    "#### The visual below representing how many male and female survived along with their respective ages."
   ]
  },
  {
   "cell_type": "code",
   "execution_count": null,
   "metadata": {
    "execution": {
     "iopub.execute_input": "2022-09-10T23:55:10.917777Z",
     "iopub.status.busy": "2022-09-10T23:55:10.917170Z",
     "iopub.status.idle": "2022-09-10T23:55:11.034115Z",
     "shell.execute_reply": "2022-09-10T23:55:11.032882Z",
     "shell.execute_reply.started": "2022-09-10T23:55:10.917743Z"
    }
   },
   "outputs": [],
   "source": [
    "px.bar(data_frame=train, x = 'Survived' , y = 'Age' ,color='Sex',\n",
    "                                       color_discrete_sequence = px.colors.diverging.Temps).update_layout(\n",
    "                                                    template=\"plotly_dark\",barmode = 'group').update_layout(template=\"plotly_dark\") "
   ]
  },
  {
   "cell_type": "markdown",
   "metadata": {},
   "source": [
    "#### The visual below representing how many ppl suvived, what was their respective ages and which passenger class(Pclass) they belonged to.\n",
    "* As we can see the ppl belonging to class 3 were the ones not survived(there are a few that survived many lost their lives,see yourself by hovering over the visual).\n",
    "* Similarly ppl belonging to class 1 survived the most(there are a few that lost their lives while majority survived,see yourself by hovering over the visual)."
   ]
  },
  {
   "cell_type": "code",
   "execution_count": 306,
   "metadata": {
    "execution": {
     "iopub.execute_input": "2022-09-10T23:55:11.951282Z",
     "iopub.status.busy": "2022-09-10T23:55:11.950865Z",
     "iopub.status.idle": "2022-09-10T23:55:12.042403Z",
     "shell.execute_reply": "2022-09-10T23:55:12.041226Z",
     "shell.execute_reply.started": "2022-09-10T23:55:11.951249Z"
    }
   },
   "outputs": [],
   "source": [
    "px.scatter(train , x = 'Age' , y = 'Pclass',color = 'Survived',color_continuous_scale=px.colors.diverging.Temps).update_layout(template=\"plotly_dark\")"
   ]
  },
  {
   "cell_type": "markdown",
   "metadata": {},
   "source": [
    "#### The visual below representing how much ppl of different ages are paying for passenger class(Pclass) 1, 2 & 3."
   ]
  },
  {
   "cell_type": "code",
   "execution_count": 307,
   "metadata": {
    "execution": {
     "iopub.execute_input": "2022-09-10T23:55:12.466137Z",
     "iopub.status.busy": "2022-09-10T23:55:12.465288Z",
     "iopub.status.idle": "2022-09-10T23:55:12.554980Z",
     "shell.execute_reply": "2022-09-10T23:55:12.553696Z",
     "shell.execute_reply.started": "2022-09-10T23:55:12.466097Z"
    }
   },
   "outputs": [],
   "source": [
    "px.scatter(train,'Age','Fare',color = 'Pclass',color_continuous_scale=px.colors.sequential.BuGn).update_layout(template=\"plotly_dark\")"
   ]
  },
  {
   "cell_type": "markdown",
   "metadata": {},
   "source": [
    "#### The visual below is representing how many ppl with varying no. of siblings survived the disaster.\n",
    "* As we can see that passengers with no siblings survived the most."
   ]
  },
  {
   "cell_type": "code",
   "execution_count": 308,
   "metadata": {
    "execution": {
     "iopub.execute_input": "2022-09-10T23:55:13.084017Z",
     "iopub.status.busy": "2022-09-10T23:55:13.082844Z",
     "iopub.status.idle": "2022-09-10T23:55:13.160034Z",
     "shell.execute_reply": "2022-09-10T23:55:13.158922Z",
     "shell.execute_reply.started": "2022-09-10T23:55:13.083973Z"
    }
   },
   "outputs": [],
   "source": [
    "px.pie(train,names = 'SibSp',values = 'Survived',color_discrete_sequence=px.colors.diverging.Temps).update_layout(template=\"plotly_dark\")"
   ]
  },
  {
   "cell_type": "markdown",
   "metadata": {},
   "source": [
    "#### The visual below helps in outlier detection by this visual we can choose best imputation techinque to apply on fare and age(if need be).\n",
    "* We can see age does not have that much of outliers but on the other hand fare is having a picnic with outliers -_-."
   ]
  },
  {
   "cell_type": "code",
   "execution_count": 309,
   "metadata": {
    "execution": {
     "iopub.execute_input": "2022-09-10T23:55:15.553838Z",
     "iopub.status.busy": "2022-09-10T23:55:15.553388Z",
     "iopub.status.idle": "2022-09-10T23:55:15.651058Z",
     "shell.execute_reply": "2022-09-10T23:55:15.649881Z",
     "shell.execute_reply.started": "2022-09-10T23:55:15.553786Z"
    }
   },
   "outputs": [],
   "source": [
    "px.box(train,y = ['Age','Fare',],color_discrete_sequence=px.colors.diverging.Temps).update_layout(template=\"plotly_dark\")"
   ]
  },
  {
   "cell_type": "markdown",
   "metadata": {},
   "source": [
    "#### Histogram tells us the distribution the data is following.\n",
    "* The histogram is also representing that fare is certainly not following gaussian distribution and is rightly skewed.\n",
    "* Rightly skewed means that outliers are at the end of the tail."
   ]
  },
  {
   "cell_type": "code",
   "execution_count": 310,
   "metadata": {
    "execution": {
     "iopub.execute_input": "2022-09-10T23:55:17.684595Z",
     "iopub.status.busy": "2022-09-10T23:55:17.684100Z",
     "iopub.status.idle": "2022-09-10T23:55:17.778453Z",
     "shell.execute_reply": "2022-09-10T23:55:17.776948Z",
     "shell.execute_reply.started": "2022-09-10T23:55:17.684554Z"
    }
   },
   "outputs": [],
   "source": [
    "px.histogram(train,'Fare',color = 'Survived'\n",
    "                                         ,color_discrete_sequence=px.colors.diverging.Temps).update_layout(\n",
    "                                            template=\"plotly_dark\",bargap = 0.1)"
   ]
  },
  {
   "cell_type": "markdown",
   "metadata": {},
   "source": [
    "#### Histogram tells us the distribution the data is following.\n",
    "* This histogram is representing that age is nearly following gaussian distribution."
   ]
  },
  {
   "cell_type": "code",
   "execution_count": 311,
   "metadata": {
    "execution": {
     "iopub.execute_input": "2022-09-10T23:55:19.166455Z",
     "iopub.status.busy": "2022-09-10T23:55:19.166045Z",
     "iopub.status.idle": "2022-09-10T23:55:19.262418Z",
     "shell.execute_reply": "2022-09-10T23:55:19.261124Z",
     "shell.execute_reply.started": "2022-09-10T23:55:19.166419Z"
    }
   },
   "outputs": [],
   "source": [
    "px.histogram(train,'Age',color = 'Survived'\n",
    "                                         ,color_discrete_sequence=px.colors.diverging.Temps,histnorm='probability').update_layout(\n",
    "                                            template=\"plotly_dark\",bargap = 0.05)"
   ]
  },
  {
   "cell_type": "markdown",
   "metadata": {},
   "source": [
    "## **Data Cleaning**\n",
    "* In this section we will deal with imputation using statistical methods."
   ]
  },
  {
   "cell_type": "code",
   "execution_count": 312,
   "metadata": {
    "execution": {
     "iopub.execute_input": "2022-09-10T23:55:21.972362Z",
     "iopub.status.busy": "2022-09-10T23:55:21.971551Z",
     "iopub.status.idle": "2022-09-10T23:55:21.982604Z",
     "shell.execute_reply": "2022-09-10T23:55:21.981096Z",
     "shell.execute_reply.started": "2022-09-10T23:55:21.972320Z"
    }
   },
   "outputs": [],
   "source": [
    "# replacing the null values of age with mean.\n",
    "train.Age.fillna(train.Age.mean(),inplace = True)\n",
    "\n",
    "# replacing the null values of cabin with most occuring value.\n",
    "train.Cabin.fillna(train.Cabin.mode()[0],inplace = True)\n",
    "\n",
    "# replacing the null values of cabin with most occuring value.\n",
    "train.Embarked.fillna(train.Embarked.mode()[0],inplace = True)"
   ]
  },
  {
   "cell_type": "markdown",
   "metadata": {},
   "source": [
    "* Applying everything on test dataset similar to train dataset."
   ]
  },
  {
   "cell_type": "code",
   "execution_count": 323,
   "metadata": {
    "execution": {
     "iopub.execute_input": "2022-09-10T23:57:02.774885Z",
     "iopub.status.busy": "2022-09-10T23:57:02.774429Z",
     "iopub.status.idle": "2022-09-10T23:57:02.785788Z",
     "shell.execute_reply": "2022-09-10T23:57:02.784174Z",
     "shell.execute_reply.started": "2022-09-10T23:57:02.774829Z"
    }
   },
   "outputs": [],
   "source": [
    "test.Age.fillna(test.Age.mean(),inplace = True)\n",
    "test.Cabin.fillna(test.Cabin.mode()[0],inplace = True)\n",
    "\n",
    "# replacing the null values of fare with median, choosing median because we detected outliers in age box visual.\n",
    "test.Fare.fillna(test.Fare.median(),inplace = True)"
   ]
  },
  {
   "cell_type": "markdown",
   "metadata": {},
   "source": [
    "# **Feature Engineering**\n",
    "* In this section we select the best features for our model by using the information from the visuals."
   ]
  },
  {
   "cell_type": "code",
   "execution_count": 324,
   "metadata": {
    "execution": {
     "iopub.execute_input": "2022-09-10T23:57:04.426222Z",
     "iopub.status.busy": "2022-09-10T23:57:04.425402Z",
     "iopub.status.idle": "2022-09-10T23:57:04.444350Z",
     "shell.execute_reply": "2022-09-10T23:57:04.443160Z",
     "shell.execute_reply.started": "2022-09-10T23:57:04.426170Z"
    }
   },
   "outputs": [],
   "source": [
    "xtrain = train[['Age','Pclass','Fare','SibSp','Parch','PassengerId']]\n",
    "ytrain = train.Survived\n",
    "xtrain.head(5)"
   ]
  },
  {
   "cell_type": "code",
   "execution_count": 325,
   "metadata": {
    "execution": {
     "iopub.execute_input": "2022-09-10T23:57:04.705145Z",
     "iopub.status.busy": "2022-09-10T23:57:04.704654Z",
     "iopub.status.idle": "2022-09-10T23:57:04.723058Z",
     "shell.execute_reply": "2022-09-10T23:57:04.721309Z",
     "shell.execute_reply.started": "2022-09-10T23:57:04.705107Z"
    }
   },
   "outputs": [],
   "source": [
    "xtest = test[['Age','Pclass','Fare','SibSp','Parch','PassengerId']]\n",
    "xtest.head(5)"
   ]
  },
  {
   "cell_type": "markdown",
   "metadata": {},
   "source": [
    "#### Applying log transformation on fare on both train and test dataset.\n",
    "* Adding 1 just in case if a value is 0 then log(0) will upset this cell :("
   ]
  },
  {
   "cell_type": "code",
   "execution_count": 326,
   "metadata": {
    "execution": {
     "iopub.execute_input": "2022-09-10T23:57:05.277934Z",
     "iopub.status.busy": "2022-09-10T23:57:05.277477Z",
     "iopub.status.idle": "2022-09-10T23:57:05.286885Z",
     "shell.execute_reply": "2022-09-10T23:57:05.285259Z",
     "shell.execute_reply.started": "2022-09-10T23:57:05.277898Z"
    }
   },
   "outputs": [],
   "source": [
    "xtrain['Fare'] = np.log(xtrain['Fare']+1) \n",
    "xtest['Fare'] = np.log(xtest['Fare']+1) "
   ]
  },
  {
   "cell_type": "markdown",
   "metadata": {},
   "source": [
    "* Creating dummies for Embarket and Sex features of train and test."
   ]
  },
  {
   "cell_type": "code",
   "execution_count": 327,
   "metadata": {
    "execution": {
     "iopub.execute_input": "2022-09-10T23:57:06.262988Z",
     "iopub.status.busy": "2022-09-10T23:57:06.261524Z",
     "iopub.status.idle": "2022-09-10T23:57:06.270453Z",
     "shell.execute_reply": "2022-09-10T23:57:06.269169Z",
     "shell.execute_reply.started": "2022-09-10T23:57:06.262940Z"
    }
   },
   "outputs": [],
   "source": [
    "emb = LabelEncoder()\n",
    "sex = LabelEncoder()\n",
    "xtrain['Embarked'] = emb.fit_transform(train.Embarked)\n",
    "xtrain['Sex'] = sex.fit_transform(train.Sex)"
   ]
  },
  {
   "cell_type": "code",
   "execution_count": 328,
   "metadata": {
    "execution": {
     "iopub.execute_input": "2022-09-10T23:57:06.584692Z",
     "iopub.status.busy": "2022-09-10T23:57:06.583496Z",
     "iopub.status.idle": "2022-09-10T23:57:06.593971Z",
     "shell.execute_reply": "2022-09-10T23:57:06.592209Z",
     "shell.execute_reply.started": "2022-09-10T23:57:06.584646Z"
    }
   },
   "outputs": [],
   "source": [
    "embt = LabelEncoder()\n",
    "sext = LabelEncoder()\n",
    "xtest['Embarked'] = embt.fit_transform(test.Embarked)\n",
    "xtest['Sex'] = sext.fit_transform(test.Sex)"
   ]
  },
  {
   "cell_type": "markdown",
   "metadata": {},
   "source": [
    "# **Logistics Regression Model**"
   ]
  },
  {
   "cell_type": "code",
   "execution_count": 330,
   "metadata": {
    "execution": {
     "iopub.execute_input": "2022-09-10T23:57:08.786853Z",
     "iopub.status.busy": "2022-09-10T23:57:08.786149Z",
     "iopub.status.idle": "2022-09-10T23:57:08.791306Z",
     "shell.execute_reply": "2022-09-10T23:57:08.790148Z",
     "shell.execute_reply.started": "2022-09-10T23:57:08.786798Z"
    }
   },
   "outputs": [],
   "source": [
    "lr = LogisticRegression()"
   ]
  },
  {
   "cell_type": "code",
   "execution_count": 331,
   "metadata": {
    "execution": {
     "iopub.execute_input": "2022-09-10T23:57:09.160651Z",
     "iopub.status.busy": "2022-09-10T23:57:09.159957Z",
     "iopub.status.idle": "2022-09-10T23:57:09.202703Z",
     "shell.execute_reply": "2022-09-10T23:57:09.201865Z",
     "shell.execute_reply.started": "2022-09-10T23:57:09.160613Z"
    }
   },
   "outputs": [],
   "source": [
    "lr.fit(xtrain,ytrain)"
   ]
  },
  {
   "cell_type": "code",
   "execution_count": 332,
   "metadata": {
    "execution": {
     "iopub.execute_input": "2022-09-10T23:57:09.622960Z",
     "iopub.status.busy": "2022-09-10T23:57:09.621612Z",
     "iopub.status.idle": "2022-09-10T23:57:09.631038Z",
     "shell.execute_reply": "2022-09-10T23:57:09.629747Z",
     "shell.execute_reply.started": "2022-09-10T23:57:09.622915Z"
    }
   },
   "outputs": [],
   "source": [
    "ypred = lr.predict(xtest)"
   ]
  },
  {
   "cell_type": "code",
   "execution_count": 334,
   "metadata": {
    "execution": {
     "iopub.execute_input": "2022-09-10T23:57:18.504302Z",
     "iopub.status.busy": "2022-09-10T23:57:18.503797Z",
     "iopub.status.idle": "2022-09-10T23:57:18.517586Z",
     "shell.execute_reply": "2022-09-10T23:57:18.516350Z",
     "shell.execute_reply.started": "2022-09-10T23:57:18.504263Z"
    }
   },
   "outputs": [],
   "source": [
    "lr.score(xtest,ypred)"
   ]
  },
  {
   "cell_type": "markdown",
   "metadata": {},
   "source": [
    "# **Decision Tree Classifier Model**"
   ]
  },
  {
   "cell_type": "code",
   "execution_count": 335,
   "metadata": {
    "execution": {
     "iopub.execute_input": "2022-09-10T23:57:19.675886Z",
     "iopub.status.busy": "2022-09-10T23:57:19.675182Z",
     "iopub.status.idle": "2022-09-10T23:57:19.690958Z",
     "shell.execute_reply": "2022-09-10T23:57:19.689486Z",
     "shell.execute_reply.started": "2022-09-10T23:57:19.675837Z"
    }
   },
   "outputs": [],
   "source": [
    "dt = DecisionTreeClassifier()\n",
    "dt.fit(xtrain,ytrain)"
   ]
  },
  {
   "cell_type": "code",
   "execution_count": 336,
   "metadata": {
    "execution": {
     "iopub.execute_input": "2022-09-10T23:57:20.059077Z",
     "iopub.status.busy": "2022-09-10T23:57:20.058449Z",
     "iopub.status.idle": "2022-09-10T23:57:20.065683Z",
     "shell.execute_reply": "2022-09-10T23:57:20.064696Z",
     "shell.execute_reply.started": "2022-09-10T23:57:20.059041Z"
    }
   },
   "outputs": [],
   "source": [
    "dt_ypred = dt.predict(xtest)"
   ]
  },
  {
   "cell_type": "code",
   "execution_count": 337,
   "metadata": {
    "execution": {
     "iopub.execute_input": "2022-09-10T23:57:20.489579Z",
     "iopub.status.busy": "2022-09-10T23:57:20.489121Z",
     "iopub.status.idle": "2022-09-10T23:57:20.502310Z",
     "shell.execute_reply": "2022-09-10T23:57:20.500272Z",
     "shell.execute_reply.started": "2022-09-10T23:57:20.489543Z"
    }
   },
   "outputs": [],
   "source": [
    "dt.score(xtest,dt_ypred)"
   ]
  },
  {
   "cell_type": "markdown",
   "metadata": {
    "execution": {
     "iopub.execute_input": "2022-09-10T23:31:52.194546Z",
     "iopub.status.busy": "2022-09-10T23:31:52.194112Z",
     "iopub.status.idle": "2022-09-10T23:31:52.200327Z",
     "shell.execute_reply": "2022-09-10T23:31:52.198878Z",
     "shell.execute_reply.started": "2022-09-10T23:31:52.194512Z"
    }
   },
   "source": [
    "## **Submission**"
   ]
  },
  {
   "cell_type": "code",
   "execution_count": 339,
   "metadata": {
    "execution": {
     "iopub.execute_input": "2022-09-10T23:57:42.108203Z",
     "iopub.status.busy": "2022-09-10T23:57:42.107560Z",
     "iopub.status.idle": "2022-09-10T23:57:42.118763Z",
     "shell.execute_reply": "2022-09-10T23:57:42.117024Z",
     "shell.execute_reply.started": "2022-09-10T23:57:42.108146Z"
    }
   },
   "outputs": [],
   "source": [
    "PassengerId = xtest.PassengerId\n",
    "Survived = pd.Series(ypred,name = 'Survived')"
   ]
  },
  {
   "cell_type": "code",
   "execution_count": 340,
   "metadata": {
    "execution": {
     "iopub.execute_input": "2022-09-10T23:58:07.341128Z",
     "iopub.status.busy": "2022-09-10T23:58:07.340721Z",
     "iopub.status.idle": "2022-09-10T23:58:07.357250Z",
     "shell.execute_reply": "2022-09-10T23:58:07.355733Z",
     "shell.execute_reply.started": "2022-09-10T23:58:07.341096Z"
    }
   },
   "outputs": [],
   "source": [
    "submission = pd.concat([PassengerId,Survived],axis = 1)"
   ]
  },
  {
   "cell_type": "code",
   "execution_count": 342,
   "metadata": {
    "execution": {
     "iopub.execute_input": "2022-09-10T23:59:31.259651Z",
     "iopub.status.busy": "2022-09-10T23:59:31.259198Z",
     "iopub.status.idle": "2022-09-10T23:59:31.268303Z",
     "shell.execute_reply": "2022-09-10T23:59:31.267411Z",
     "shell.execute_reply.started": "2022-09-10T23:59:31.259616Z"
    }
   },
   "outputs": [],
   "source": [
    "submission.to_csv('submission.csv')"
   ]
  }
 ],
 "metadata": {
  "kernelspec": {
   "display_name": "Python 3",
   "language": "python",
   "name": "python3"
  },
  "language_info": {
   "codemirror_mode": {
    "name": "ipython",
    "version": 3
   },
   "file_extension": ".py",
   "mimetype": "text/x-python",
   "name": "python",
   "nbconvert_exporter": "python",
   "pygments_lexer": "ipython3",
   "version": "3.7.1"
  }
 },
 "nbformat": 4,
 "nbformat_minor": 4
}
