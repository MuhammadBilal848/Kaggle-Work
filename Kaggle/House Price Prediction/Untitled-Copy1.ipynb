{
 "cells": [
  {
   "cell_type": "code",
   "execution_count": 651,
   "metadata": {},
   "outputs": [],
   "source": [
    "import numpy as np\n",
    "import pandas as pd\n",
    "import matplotlib.pyplot as plt \n",
    "import seaborn as sns\n",
    "import plotly.express as px\n",
    "from sklearn.linear_model import LinearRegression\n",
    "from sklearn.tree import DecisionTreeRegressor\n",
    "from sklearn.ensemble import RandomForestRegressor\n",
    "from sklearn.svm import SVR\n",
    "from sklearn.model_selection import train_test_split\n",
    "from sklearn.model_selection import KFold\n",
    "from sklearn.impute import SimpleImputer\n",
    "from sklearn.preprocessing import OneHotEncoder\n",
    "import warnings\n",
    "warnings.filterwarnings('ignore')"
   ]
  },
  {
   "cell_type": "code",
   "execution_count": 652,
   "metadata": {},
   "outputs": [],
   "source": [
    "train = pd.read_csv('train.csv')\n",
    "test = pd.read_csv('test.csv')"
   ]
  },
  {
   "cell_type": "code",
   "execution_count": 653,
   "metadata": {
    "scrolled": true
   },
   "outputs": [
    {
     "data": {
      "text/plain": [
       "((1460, 81), (1459, 80))"
      ]
     },
     "execution_count": 653,
     "metadata": {},
     "output_type": "execute_result"
    }
   ],
   "source": [
    "train.shape , test.shape"
   ]
  },
  {
   "cell_type": "markdown",
   "metadata": {},
   "source": [
    "###### LotFrontage: Linear feet of street connected to property\n",
    "###### Alley: Type of alley access\n",
    "###### FireplaceQu: Fireplace quality\n",
    "###### PoolQC: Pool quality\n",
    "###### Fence: Fence quality\n",
    "###### MiscFeature: Miscellaneous feature not covered in other categories"
   ]
  },
  {
   "cell_type": "code",
   "execution_count": 654,
   "metadata": {},
   "outputs": [
    {
     "data": {
      "text/plain": [
       "Alley          1369\n",
       "PoolQC         1453\n",
       "Fence          1179\n",
       "MiscFeature    1406\n",
       "dtype: int64"
      ]
     },
     "execution_count": 654,
     "metadata": {},
     "output_type": "execute_result"
    }
   ],
   "source": [
    "train.isnull().sum()[train.isnull().sum()>1000]"
   ]
  },
  {
   "cell_type": "code",
   "execution_count": 655,
   "metadata": {},
   "outputs": [
    {
     "data": {
      "text/plain": [
       "Alley          1352\n",
       "PoolQC         1456\n",
       "Fence          1169\n",
       "MiscFeature    1408\n",
       "dtype: int64"
      ]
     },
     "execution_count": 655,
     "metadata": {},
     "output_type": "execute_result"
    }
   ],
   "source": [
    "test.isnull().sum()[test.isnull().sum()>1000]"
   ]
  },
  {
   "cell_type": "markdown",
   "metadata": {},
   "source": [
    "# IMPUTATION"
   ]
  },
  {
   "cell_type": "code",
   "execution_count": 656,
   "metadata": {},
   "outputs": [],
   "source": [
    "train = train.drop(['Alley','PoolQC','Fence','MiscFeature'] , axis = 1)\n",
    "test = test.drop(['Alley','PoolQC','Fence','MiscFeature'] , axis = 1)"
   ]
  },
  {
   "cell_type": "code",
   "execution_count": 658,
   "metadata": {},
   "outputs": [],
   "source": [
    "num_imp_median = SimpleImputer(strategy='median')\n",
    "# train[['LotFrontage','MasVnrArea']] = num_imp_median.fit_transform(train[['LotFrontage','MasVnrArea']])\n",
    "# test[['LotFrontage','MasVnrArea']] = num_imp_median.transform(test[['LotFrontage','MasVnrArea']])\n",
    "\n",
    "train[['LotFrontage', 'MasVnrArea', 'BsmtFinSF1', 'BsmtFinSF2', 'BsmtUnfSF',\n",
    "       'TotalBsmtSF', 'BsmtFullBath', 'BsmtHalfBath', 'GarageYrBlt',\n",
    "       'GarageCars', 'GarageArea']] = num_imp_median.fit_transform(train[['LotFrontage', 'MasVnrArea', 'BsmtFinSF1', 'BsmtFinSF2', 'BsmtUnfSF',\n",
    "       'TotalBsmtSF', 'BsmtFullBath', 'BsmtHalfBath', 'GarageYrBlt',\n",
    "       'GarageCars', 'GarageArea']])\n",
    "test[['LotFrontage', 'MasVnrArea', 'BsmtFinSF1', 'BsmtFinSF2', 'BsmtUnfSF',\n",
    "       'TotalBsmtSF', 'BsmtFullBath', 'BsmtHalfBath', 'GarageYrBlt',\n",
    "       'GarageCars', 'GarageArea']] = num_imp_median.transform(test[['LotFrontage', 'MasVnrArea', 'BsmtFinSF1', 'BsmtFinSF2', 'BsmtUnfSF',\n",
    "       'TotalBsmtSF', 'BsmtFullBath', 'BsmtHalfBath', 'GarageYrBlt',\n",
    "       'GarageCars', 'GarageArea']])\n",
    "\n",
    "# num_imp_mean = SimpleImputer(strategy='mean')\n",
    "# train[['GarageYrBlt']] = num_imp_mean.fit_transform(train[['GarageYrBlt']])\n",
    "# test[['GarageYrBlt']] = num_imp_mean.transform(test[['GarageYrBlt']])"
   ]
  },
  {
   "cell_type": "code",
   "execution_count": 659,
   "metadata": {},
   "outputs": [],
   "source": [
    "cat_col = SimpleImputer(strategy='most_frequent')\n",
    "# train[['MasVnrType', 'BsmtQual', 'BsmtCond', 'BsmtExposure', 'BsmtFinType1',\n",
    "#        'BsmtFinType2', 'Electrical', 'FireplaceQu', 'GarageType',\n",
    "#        'GarageFinish', 'GarageQual', 'GarageCond']] = cat_col.fit_transform(train[['MasVnrType', 'BsmtQual', 'BsmtCond', 'BsmtExposure', 'BsmtFinType1',\n",
    "#        'BsmtFinType2', 'Electrical', 'FireplaceQu', 'GarageType',\n",
    "#        'GarageFinish', 'GarageQual', 'GarageCond']])\n",
    "\n",
    "# test[['MasVnrType', 'BsmtQual', 'BsmtCond', 'BsmtExposure', 'BsmtFinType1',\n",
    "#        'BsmtFinType2', 'FireplaceQu', 'GarageType', 'GarageFinish',\n",
    "#        'GarageQual', 'GarageCond','Utilities']] = cat_col.transform(test[['MasVnrType', 'BsmtQual', 'BsmtCond', 'BsmtExposure', 'BsmtFinType1',\n",
    "#        'BsmtFinType2', 'FireplaceQu', 'GarageType', 'GarageFinish',\n",
    "#        'GarageQual', 'GarageCond','Utilities']])\n",
    "\n",
    "train[['MSZoning', 'Utilities', 'Exterior1st', 'Exterior2nd', 'MasVnrType',\n",
    "       'BsmtQual', 'BsmtCond', 'BsmtExposure', 'BsmtFinType1', 'BsmtFinType2',\n",
    "       'KitchenQual', 'Functional', 'FireplaceQu', 'GarageType',\n",
    "       'GarageFinish', 'GarageQual', 'GarageCond', 'SaleType','Electrical']] = cat_col.fit_transform(train[['MSZoning', 'Utilities', 'Exterior1st', 'Exterior2nd', 'MasVnrType',\n",
    "       'BsmtQual', 'BsmtCond', 'BsmtExposure', 'BsmtFinType1', 'BsmtFinType2',\n",
    "       'KitchenQual', 'Functional', 'FireplaceQu', 'GarageType',\n",
    "       'GarageFinish', 'GarageQual', 'GarageCond', 'SaleType','Electrical']])\n",
    "test[['MSZoning', 'Utilities', 'Exterior1st', 'Exterior2nd', 'MasVnrType',\n",
    "       'BsmtQual', 'BsmtCond', 'BsmtExposure', 'BsmtFinType1', 'BsmtFinType2',\n",
    "       'KitchenQual', 'Functional', 'FireplaceQu', 'GarageType',\n",
    "       'GarageFinish', 'GarageQual', 'GarageCond', 'SaleType','Electrical']] = cat_col.fit_transform(test[['MSZoning', 'Utilities', 'Exterior1st', 'Exterior2nd', 'MasVnrType',\n",
    "       'BsmtQual', 'BsmtCond', 'BsmtExposure', 'BsmtFinType1', 'BsmtFinType2',\n",
    "       'KitchenQual', 'Functional', 'FireplaceQu', 'GarageType',\n",
    "       'GarageFinish', 'GarageQual', 'GarageCond', 'SaleType','Electrical']])"
   ]
  },
  {
   "cell_type": "code",
   "execution_count": 680,
   "metadata": {},
   "outputs": [
    {
     "data": {
      "text/plain": [
       "(14, 14, 38, 37)"
      ]
     },
     "execution_count": 680,
     "metadata": {},
     "output_type": "execute_result"
    }
   ],
   "source": [
    "low_cardinality_cols_train = [cname for cname in train.columns if train[cname].nunique() < 5 and train[cname].dtype == \"object\"]\n",
    "low_cardinality_cols_test = [cname for cname in test.columns if train[cname].nunique() < 5 and test[cname].dtype == \"object\"]\n",
    "num_col_train = train.select_dtypes(include = 'number').columns\n",
    "num_col_test = test.select_dtypes(include = 'number').columns\n",
    "len(low_cardinality_cols_train),len(low_cardinality_cols_test) , len(num_col_train) , len(num_col_test)"
   ]
  },
  {
   "cell_type": "code",
   "execution_count": 681,
   "metadata": {},
   "outputs": [],
   "source": [
    "total_train_col = np.concatenate((low_cardinality_cols_train,num_col_train))\n",
    "total_test_col = np.concatenate((low_cardinality_cols_test,num_col_test))"
   ]
  },
  {
   "cell_type": "code",
   "execution_count": 682,
   "metadata": {},
   "outputs": [
    {
     "data": {
      "text/plain": [
       "((1460, 52), (1459, 51))"
      ]
     },
     "execution_count": 682,
     "metadata": {},
     "output_type": "execute_result"
    }
   ],
   "source": [
    "ftrain = train[total_train_col]\n",
    "ftest = test[total_test_col]\n",
    "ftrain.shape , ftest.shape "
   ]
  },
  {
   "cell_type": "code",
   "execution_count": null,
   "metadata": {},
   "outputs": [],
   "source": []
  },
  {
   "cell_type": "markdown",
   "metadata": {},
   "source": [
    "# ENCODING"
   ]
  },
  {
   "cell_type": "code",
   "execution_count": 684,
   "metadata": {},
   "outputs": [
    {
     "data": {
      "text/plain": [
       "46"
      ]
     },
     "execution_count": 684,
     "metadata": {},
     "output_type": "execute_result"
    }
   ],
   "source": [
    "ftest.select_dtypes(include='object').nunique().sum()"
   ]
  },
  {
   "cell_type": "code",
   "execution_count": null,
   "metadata": {},
   "outputs": [],
   "source": [
    "ohe = OneHotEncoder(handle_unknown='ignore',sparse=False)\n",
    "ohe = "
   ]
  }
 ],
 "metadata": {
  "kernelspec": {
   "display_name": "Python 3",
   "language": "python",
   "name": "python3"
  },
  "language_info": {
   "codemirror_mode": {
    "name": "ipython",
    "version": 3
   },
   "file_extension": ".py",
   "mimetype": "text/x-python",
   "name": "python",
   "nbconvert_exporter": "python",
   "pygments_lexer": "ipython3",
   "version": "3.8.5"
  }
 },
 "nbformat": 4,
 "nbformat_minor": 4
}
