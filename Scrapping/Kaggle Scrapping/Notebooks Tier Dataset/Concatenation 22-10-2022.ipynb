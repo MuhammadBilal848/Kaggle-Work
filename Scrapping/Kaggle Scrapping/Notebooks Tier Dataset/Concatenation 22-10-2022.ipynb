{
 "cells": [
  {
   "cell_type": "code",
   "execution_count": 1,
   "metadata": {},
   "outputs": [],
   "source": [
    "import numpy as np\n",
    "import pandas as pd"
   ]
  },
  {
   "cell_type": "code",
   "execution_count": 3,
   "metadata": {},
   "outputs": [],
   "source": [
    "one = pd.read_csv('1.csv')\n",
    "two = pd.read_csv('2.csv')\n",
    "three = pd.read_csv('3.csv')\n",
    "four = pd.read_csv('4.csv')\n",
    "five = pd.read_csv('5.csv')\n",
    "six = pd.read_csv('6.csv')\n",
    "seven = pd.read_csv('7.csv')\n",
    "eight = pd.read_csv('8.csv')\n",
    "nine = pd.read_csv('9.csv')"
   ]
  },
  {
   "cell_type": "code",
   "execution_count": 14,
   "metadata": {},
   "outputs": [
    {
     "data": {
      "text/plain": [
       "(188, 8)"
      ]
     },
     "execution_count": 14,
     "metadata": {},
     "output_type": "execute_result"
    }
   ],
   "source": [
    "one.shape"
   ]
  },
  {
   "cell_type": "code",
   "execution_count": 15,
   "metadata": {},
   "outputs": [
    {
     "data": {
      "text/plain": [
       "(655, 8)"
      ]
     },
     "execution_count": 15,
     "metadata": {},
     "output_type": "execute_result"
    }
   ],
   "source": [
    "two.shape"
   ]
  },
  {
   "cell_type": "code",
   "execution_count": 16,
   "metadata": {},
   "outputs": [
    {
     "data": {
      "text/plain": [
       "(94, 8)"
      ]
     },
     "execution_count": 16,
     "metadata": {},
     "output_type": "execute_result"
    }
   ],
   "source": [
    "three.shape"
   ]
  },
  {
   "cell_type": "code",
   "execution_count": 17,
   "metadata": {},
   "outputs": [
    {
     "data": {
      "text/plain": [
       "(922, 8)"
      ]
     },
     "execution_count": 17,
     "metadata": {},
     "output_type": "execute_result"
    }
   ],
   "source": [
    "four.shape"
   ]
  },
  {
   "cell_type": "code",
   "execution_count": 18,
   "metadata": {},
   "outputs": [
    {
     "data": {
      "text/plain": [
       "(67, 8)"
      ]
     },
     "execution_count": 18,
     "metadata": {},
     "output_type": "execute_result"
    }
   ],
   "source": [
    "five.shape"
   ]
  },
  {
   "cell_type": "code",
   "execution_count": 19,
   "metadata": {},
   "outputs": [
    {
     "data": {
      "text/plain": [
       "(160, 8)"
      ]
     },
     "execution_count": 19,
     "metadata": {},
     "output_type": "execute_result"
    }
   ],
   "source": [
    "six.shape"
   ]
  },
  {
   "cell_type": "code",
   "execution_count": 20,
   "metadata": {},
   "outputs": [
    {
     "data": {
      "text/plain": [
       "(26, 8)"
      ]
     },
     "execution_count": 20,
     "metadata": {},
     "output_type": "execute_result"
    }
   ],
   "source": [
    "seven.shape"
   ]
  },
  {
   "cell_type": "code",
   "execution_count": 21,
   "metadata": {},
   "outputs": [
    {
     "data": {
      "text/plain": [
       "(1848, 8)"
      ]
     },
     "execution_count": 21,
     "metadata": {},
     "output_type": "execute_result"
    }
   ],
   "source": [
    "eight.shape"
   ]
  },
  {
   "cell_type": "code",
   "execution_count": 22,
   "metadata": {},
   "outputs": [
    {
     "data": {
      "text/plain": [
       "(315, 8)"
      ]
     },
     "execution_count": 22,
     "metadata": {},
     "output_type": "execute_result"
    }
   ],
   "source": [
    "nine.shape"
   ]
  },
  {
   "cell_type": "code",
   "execution_count": 23,
   "metadata": {},
   "outputs": [
    {
     "data": {
      "text/plain": [
       "4275"
      ]
     },
     "execution_count": 23,
     "metadata": {},
     "output_type": "execute_result"
    }
   ],
   "source": [
    "one.shape[0] + two.shape[0] + three.shape[0] + four.shape[0] + five.shape[0] + six.shape[0] + seven.shape[0] + eight.shape[0] + nine.shape[0]"
   ]
  },
  {
   "cell_type": "code",
   "execution_count": 31,
   "metadata": {},
   "outputs": [
    {
     "data": {
      "text/plain": [
       "(4275, 9)"
      ]
     },
     "execution_count": 31,
     "metadata": {},
     "output_type": "execute_result"
    }
   ],
   "source": [
    "fst = pd.read_csv('Kaggle Notebook Tier Dataset.csv')\n",
    "fst.shape"
   ]
  },
  {
   "cell_type": "code",
   "execution_count": 32,
   "metadata": {},
   "outputs": [
    {
     "data": {
      "text/plain": [
       "(4275, 8)"
      ]
     },
     "execution_count": 32,
     "metadata": {},
     "output_type": "execute_result"
    }
   ],
   "source": [
    "rest = pd.concat([one,two,three,four,five,six,seven,eight,nine]).reset_index(drop = True)\n",
    "rest.shape"
   ]
  },
  {
   "cell_type": "code",
   "execution_count": 60,
   "metadata": {},
   "outputs": [],
   "source": [
    "df = pd.concat([fst,rest],axis = 1)\n",
    "df.to_csv('Kaggle Notebook Tier Data.csv',index = False)"
   ]
  },
  {
   "cell_type": "code",
   "execution_count": 59,
   "metadata": {},
   "outputs": [
    {
     "data": {
      "text/plain": [
       "Name                                        mihir paghdal\n",
       "Rank                                                 1134\n",
       "Level                                              expert\n",
       "Link                  https://www.kaggle.com/mihirpaghdal\n",
       "Gold                                                    0\n",
       "Silver                                                  3\n",
       "Bronze                                                  4\n",
       "Points                                                 90\n",
       "Joined                                         a year ago\n",
       "Country                        Mumbai, Maharashtra, India\n",
       "Total Competitions                                      2\n",
       "Total Datasets                                          1\n",
       "Total Codes                                             7\n",
       "Total Discussions                                      71\n",
       "Highest Rank                                          661\n",
       "Current Rank                                         1141\n",
       "Current Level                            Notebooks Expert\n",
       "Name: 1133, dtype: object"
      ]
     },
     "execution_count": 59,
     "metadata": {},
     "output_type": "execute_result"
    }
   ],
   "source": [
    "df.loc[np.random.randint(1,df.shape[0])]"
   ]
  },
  {
   "cell_type": "markdown",
   "metadata": {},
   "source": [
    "# DataFrame"
   ]
  },
  {
   "cell_type": "code",
   "execution_count": 116,
   "metadata": {},
   "outputs": [
    {
     "data": {
      "text/html": [
       "<div>\n",
       "<style scoped>\n",
       "    .dataframe tbody tr th:only-of-type {\n",
       "        vertical-align: middle;\n",
       "    }\n",
       "\n",
       "    .dataframe tbody tr th {\n",
       "        vertical-align: top;\n",
       "    }\n",
       "\n",
       "    .dataframe thead th {\n",
       "        text-align: right;\n",
       "    }\n",
       "</style>\n",
       "<table border=\"1\" class=\"dataframe\">\n",
       "  <thead>\n",
       "    <tr style=\"text-align: right;\">\n",
       "      <th></th>\n",
       "      <th>Name</th>\n",
       "      <th>Rank</th>\n",
       "      <th>Level</th>\n",
       "      <th>Link</th>\n",
       "      <th>Gold</th>\n",
       "      <th>Silver</th>\n",
       "      <th>Bronze</th>\n",
       "      <th>Points</th>\n",
       "      <th>Joined</th>\n",
       "      <th>Country</th>\n",
       "      <th>Total Competitions</th>\n",
       "      <th>Total Datasets</th>\n",
       "      <th>Total Codes</th>\n",
       "      <th>Total Discussions</th>\n",
       "      <th>Highest Rank</th>\n",
       "      <th>Current Rank</th>\n",
       "      <th>Current Level</th>\n",
       "    </tr>\n",
       "  </thead>\n",
       "  <tbody>\n",
       "    <tr>\n",
       "      <th>0</th>\n",
       "      <td>Chris Deotte</td>\n",
       "      <td>1</td>\n",
       "      <td>grandmaster</td>\n",
       "      <td>https://www.kaggle.com/cdeotte</td>\n",
       "      <td>71</td>\n",
       "      <td>17</td>\n",
       "      <td>3</td>\n",
       "      <td>4,949</td>\n",
       "      <td>5 years ago</td>\n",
       "      <td>San Diego, California, United States</td>\n",
       "      <td>53.0</td>\n",
       "      <td>103.0</td>\n",
       "      <td>93</td>\n",
       "      <td>7,910</td>\n",
       "      <td>NaN</td>\n",
       "      <td>1.0</td>\n",
       "      <td>Competitions Grandmaster</td>\n",
       "    </tr>\n",
       "    <tr>\n",
       "      <th>1</th>\n",
       "      <td>Marília Prata</td>\n",
       "      <td>2</td>\n",
       "      <td>master</td>\n",
       "      <td>https://www.kaggle.com/mpwolke</td>\n",
       "      <td>12</td>\n",
       "      <td>39</td>\n",
       "      <td>448</td>\n",
       "      <td>3,614</td>\n",
       "      <td>4 years ago</td>\n",
       "      <td>Rio de Janeiro, State of Rio de Janeiro, Brazil</td>\n",
       "      <td>21.0</td>\n",
       "      <td>227.0</td>\n",
       "      <td>1,820</td>\n",
       "      <td>18,274</td>\n",
       "      <td>NaN</td>\n",
       "      <td>2.0</td>\n",
       "      <td>Discussion Grandmaster</td>\n",
       "    </tr>\n",
       "    <tr>\n",
       "      <th>2</th>\n",
       "      <td>Abhishek Thakur</td>\n",
       "      <td>3</td>\n",
       "      <td>grandmaster</td>\n",
       "      <td>https://www.kaggle.com/abhishek</td>\n",
       "      <td>65</td>\n",
       "      <td>28</td>\n",
       "      <td>24</td>\n",
       "      <td>3,176</td>\n",
       "      <td>12 years ago</td>\n",
       "      <td>Stavanger, Rogaland, Norway</td>\n",
       "      <td>229.0</td>\n",
       "      <td>106.0</td>\n",
       "      <td>137</td>\n",
       "      <td>2,305</td>\n",
       "      <td>1.0</td>\n",
       "      <td>3.0</td>\n",
       "      <td>Competitions Grandmaster</td>\n",
       "    </tr>\n",
       "    <tr>\n",
       "      <th>3</th>\n",
       "      <td>AmbrosM</td>\n",
       "      <td>4</td>\n",
       "      <td>grandmaster</td>\n",
       "      <td>https://www.kaggle.com/ambrosm</td>\n",
       "      <td>28</td>\n",
       "      <td>8</td>\n",
       "      <td>8</td>\n",
       "      <td>2,739</td>\n",
       "      <td>a year ago</td>\n",
       "      <td>NaN</td>\n",
       "      <td>14.0</td>\n",
       "      <td>2.0</td>\n",
       "      <td>44</td>\n",
       "      <td>634</td>\n",
       "      <td>NaN</td>\n",
       "      <td>4.0</td>\n",
       "      <td>Notebooks Grandmaster</td>\n",
       "    </tr>\n",
       "    <tr>\n",
       "      <th>4</th>\n",
       "      <td>Y.Nakama</td>\n",
       "      <td>5</td>\n",
       "      <td>grandmaster</td>\n",
       "      <td>https://www.kaggle.com/yasufuminakama</td>\n",
       "      <td>37</td>\n",
       "      <td>9</td>\n",
       "      <td>6</td>\n",
       "      <td>2,629</td>\n",
       "      <td>5 years ago</td>\n",
       "      <td>Tokyo, Tokyo, Japan</td>\n",
       "      <td>65.0</td>\n",
       "      <td>20.0</td>\n",
       "      <td>55</td>\n",
       "      <td>400</td>\n",
       "      <td>4.0</td>\n",
       "      <td>5.0</td>\n",
       "      <td>Competitions Grandmaster</td>\n",
       "    </tr>\n",
       "  </tbody>\n",
       "</table>\n",
       "</div>"
      ],
      "text/plain": [
       "              Name  Rank        Level                                   Link  \\\n",
       "0     Chris Deotte     1  grandmaster         https://www.kaggle.com/cdeotte   \n",
       "1    Marília Prata     2       master         https://www.kaggle.com/mpwolke   \n",
       "2  Abhishek Thakur     3  grandmaster        https://www.kaggle.com/abhishek   \n",
       "3          AmbrosM     4  grandmaster         https://www.kaggle.com/ambrosm   \n",
       "4         Y.Nakama     5  grandmaster  https://www.kaggle.com/yasufuminakama   \n",
       "\n",
       "   Gold  Silver  Bronze Points        Joined  \\\n",
       "0    71      17       3  4,949   5 years ago   \n",
       "1    12      39     448  3,614   4 years ago   \n",
       "2    65      28      24  3,176  12 years ago   \n",
       "3    28       8       8  2,739    a year ago   \n",
       "4    37       9       6  2,629   5 years ago   \n",
       "\n",
       "                                           Country  Total Competitions  \\\n",
       "0             San Diego, California, United States                53.0   \n",
       "1  Rio de Janeiro, State of Rio de Janeiro, Brazil                21.0   \n",
       "2                      Stavanger, Rogaland, Norway               229.0   \n",
       "3                                              NaN                14.0   \n",
       "4                              Tokyo, Tokyo, Japan                65.0   \n",
       "\n",
       "  Total Datasets Total Codes Total Discussions  Highest Rank  Current Rank  \\\n",
       "0          103.0          93             7,910           NaN           1.0   \n",
       "1          227.0       1,820            18,274           NaN           2.0   \n",
       "2          106.0         137             2,305           1.0           3.0   \n",
       "3            2.0          44               634           NaN           4.0   \n",
       "4           20.0          55               400           4.0           5.0   \n",
       "\n",
       "              Current Level  \n",
       "0  Competitions Grandmaster  \n",
       "1    Discussion Grandmaster  \n",
       "2  Competitions Grandmaster  \n",
       "3     Notebooks Grandmaster  \n",
       "4  Competitions Grandmaster  "
      ]
     },
     "execution_count": 116,
     "metadata": {},
     "output_type": "execute_result"
    }
   ],
   "source": [
    "df = pd.read_csv(\"(Final) Kaggle Notebook Tier Data.csv\")\n",
    "df.head()"
   ]
  },
  {
   "cell_type": "code",
   "execution_count": 117,
   "metadata": {},
   "outputs": [],
   "source": [
    "df.Country.replace('NA',np.nan,inplace = True)"
   ]
  },
  {
   "cell_type": "code",
   "execution_count": 118,
   "metadata": {},
   "outputs": [],
   "source": [
    "df[['City','State','Country']] = df.Country.str.split(',',expand= True)\n",
    "df.Country = df.Country.str.strip()"
   ]
  },
  {
   "cell_type": "code",
   "execution_count": 128,
   "metadata": {},
   "outputs": [
    {
     "data": {
      "text/html": [
       "<div>\n",
       "<style scoped>\n",
       "    .dataframe tbody tr th:only-of-type {\n",
       "        vertical-align: middle;\n",
       "    }\n",
       "\n",
       "    .dataframe tbody tr th {\n",
       "        vertical-align: top;\n",
       "    }\n",
       "\n",
       "    .dataframe thead th {\n",
       "        text-align: right;\n",
       "    }\n",
       "</style>\n",
       "<table border=\"1\" class=\"dataframe\">\n",
       "  <thead>\n",
       "    <tr style=\"text-align: right;\">\n",
       "      <th></th>\n",
       "      <th>Name</th>\n",
       "      <th>Rank</th>\n",
       "      <th>Level</th>\n",
       "      <th>Link</th>\n",
       "      <th>Gold</th>\n",
       "      <th>Silver</th>\n",
       "      <th>Bronze</th>\n",
       "      <th>Points</th>\n",
       "      <th>Joined</th>\n",
       "      <th>Country</th>\n",
       "      <th>Total Competitions</th>\n",
       "      <th>Total Datasets</th>\n",
       "      <th>Total Codes</th>\n",
       "      <th>Total Discussions</th>\n",
       "      <th>Highest Rank</th>\n",
       "      <th>Current Rank</th>\n",
       "      <th>Current Level</th>\n",
       "      <th>City</th>\n",
       "      <th>State</th>\n",
       "    </tr>\n",
       "  </thead>\n",
       "  <tbody>\n",
       "    <tr>\n",
       "      <th>0</th>\n",
       "      <td>Chris Deotte</td>\n",
       "      <td>1</td>\n",
       "      <td>grandmaster</td>\n",
       "      <td>https://www.kaggle.com/cdeotte</td>\n",
       "      <td>71</td>\n",
       "      <td>17</td>\n",
       "      <td>3</td>\n",
       "      <td>4,949</td>\n",
       "      <td>5 years ago</td>\n",
       "      <td>United States</td>\n",
       "      <td>53.0</td>\n",
       "      <td>103.0</td>\n",
       "      <td>93</td>\n",
       "      <td>7,910</td>\n",
       "      <td>NaN</td>\n",
       "      <td>1.0</td>\n",
       "      <td>Competitions Grandmaster</td>\n",
       "      <td>San Diego</td>\n",
       "      <td>California</td>\n",
       "    </tr>\n",
       "    <tr>\n",
       "      <th>1</th>\n",
       "      <td>Marília Prata</td>\n",
       "      <td>2</td>\n",
       "      <td>master</td>\n",
       "      <td>https://www.kaggle.com/mpwolke</td>\n",
       "      <td>12</td>\n",
       "      <td>39</td>\n",
       "      <td>448</td>\n",
       "      <td>3,614</td>\n",
       "      <td>4 years ago</td>\n",
       "      <td>Brazil</td>\n",
       "      <td>21.0</td>\n",
       "      <td>227.0</td>\n",
       "      <td>1,820</td>\n",
       "      <td>18,274</td>\n",
       "      <td>NaN</td>\n",
       "      <td>2.0</td>\n",
       "      <td>Discussion Grandmaster</td>\n",
       "      <td>Rio de Janeiro</td>\n",
       "      <td>State of Rio de Janeiro</td>\n",
       "    </tr>\n",
       "    <tr>\n",
       "      <th>2</th>\n",
       "      <td>Abhishek Thakur</td>\n",
       "      <td>3</td>\n",
       "      <td>grandmaster</td>\n",
       "      <td>https://www.kaggle.com/abhishek</td>\n",
       "      <td>65</td>\n",
       "      <td>28</td>\n",
       "      <td>24</td>\n",
       "      <td>3,176</td>\n",
       "      <td>12 years ago</td>\n",
       "      <td>Norway</td>\n",
       "      <td>229.0</td>\n",
       "      <td>106.0</td>\n",
       "      <td>137</td>\n",
       "      <td>2,305</td>\n",
       "      <td>1.0</td>\n",
       "      <td>3.0</td>\n",
       "      <td>Competitions Grandmaster</td>\n",
       "      <td>Stavanger</td>\n",
       "      <td>Rogaland</td>\n",
       "    </tr>\n",
       "    <tr>\n",
       "      <th>3</th>\n",
       "      <td>AmbrosM</td>\n",
       "      <td>4</td>\n",
       "      <td>grandmaster</td>\n",
       "      <td>https://www.kaggle.com/ambrosm</td>\n",
       "      <td>28</td>\n",
       "      <td>8</td>\n",
       "      <td>8</td>\n",
       "      <td>2,739</td>\n",
       "      <td>a year ago</td>\n",
       "      <td>NaN</td>\n",
       "      <td>14.0</td>\n",
       "      <td>2.0</td>\n",
       "      <td>44</td>\n",
       "      <td>634</td>\n",
       "      <td>NaN</td>\n",
       "      <td>4.0</td>\n",
       "      <td>Notebooks Grandmaster</td>\n",
       "      <td>NaN</td>\n",
       "      <td>NaN</td>\n",
       "    </tr>\n",
       "    <tr>\n",
       "      <th>4</th>\n",
       "      <td>Y.Nakama</td>\n",
       "      <td>5</td>\n",
       "      <td>grandmaster</td>\n",
       "      <td>https://www.kaggle.com/yasufuminakama</td>\n",
       "      <td>37</td>\n",
       "      <td>9</td>\n",
       "      <td>6</td>\n",
       "      <td>2,629</td>\n",
       "      <td>5 years ago</td>\n",
       "      <td>Japan</td>\n",
       "      <td>65.0</td>\n",
       "      <td>20.0</td>\n",
       "      <td>55</td>\n",
       "      <td>400</td>\n",
       "      <td>4.0</td>\n",
       "      <td>5.0</td>\n",
       "      <td>Competitions Grandmaster</td>\n",
       "      <td>Tokyo</td>\n",
       "      <td>Tokyo</td>\n",
       "    </tr>\n",
       "    <tr>\n",
       "      <th>...</th>\n",
       "      <td>...</td>\n",
       "      <td>...</td>\n",
       "      <td>...</td>\n",
       "      <td>...</td>\n",
       "      <td>...</td>\n",
       "      <td>...</td>\n",
       "      <td>...</td>\n",
       "      <td>...</td>\n",
       "      <td>...</td>\n",
       "      <td>...</td>\n",
       "      <td>...</td>\n",
       "      <td>...</td>\n",
       "      <td>...</td>\n",
       "      <td>...</td>\n",
       "      <td>...</td>\n",
       "      <td>...</td>\n",
       "      <td>...</td>\n",
       "      <td>...</td>\n",
       "      <td>...</td>\n",
       "    </tr>\n",
       "    <tr>\n",
       "      <th>4270</th>\n",
       "      <td>shubh24</td>\n",
       "      <td>4271</td>\n",
       "      <td>expert</td>\n",
       "      <td>https://www.kaggle.com/shubh24</td>\n",
       "      <td>0</td>\n",
       "      <td>0</td>\n",
       "      <td>9</td>\n",
       "      <td>1</td>\n",
       "      <td>8 years ago</td>\n",
       "      <td>None</td>\n",
       "      <td>10.0</td>\n",
       "      <td>NaN</td>\n",
       "      <td>15</td>\n",
       "      <td>52</td>\n",
       "      <td>50.0</td>\n",
       "      <td>4297.0</td>\n",
       "      <td>Notebooks Expert</td>\n",
       "      <td>Singapore</td>\n",
       "      <td>None</td>\n",
       "    </tr>\n",
       "    <tr>\n",
       "      <th>4271</th>\n",
       "      <td>Ben Watson</td>\n",
       "      <td>4272</td>\n",
       "      <td>expert</td>\n",
       "      <td>https://www.kaggle.com/benwatson</td>\n",
       "      <td>0</td>\n",
       "      <td>0</td>\n",
       "      <td>5</td>\n",
       "      <td>0</td>\n",
       "      <td>11 years ago</td>\n",
       "      <td>Canada</td>\n",
       "      <td>NaN</td>\n",
       "      <td>NaN</td>\n",
       "      <td>8</td>\n",
       "      <td>10</td>\n",
       "      <td>44.0</td>\n",
       "      <td>4298.0</td>\n",
       "      <td>Notebooks Expert</td>\n",
       "      <td>Ottawa</td>\n",
       "      <td>Ontario</td>\n",
       "    </tr>\n",
       "    <tr>\n",
       "      <th>4272</th>\n",
       "      <td>udit</td>\n",
       "      <td>4273</td>\n",
       "      <td>expert</td>\n",
       "      <td>https://www.kaggle.com/uditsaini</td>\n",
       "      <td>0</td>\n",
       "      <td>0</td>\n",
       "      <td>5</td>\n",
       "      <td>0</td>\n",
       "      <td>9 years ago</td>\n",
       "      <td>NaN</td>\n",
       "      <td>35.0</td>\n",
       "      <td>2.0</td>\n",
       "      <td>63</td>\n",
       "      <td>16</td>\n",
       "      <td>4259.0</td>\n",
       "      <td>4299.0</td>\n",
       "      <td>Notebooks Expert</td>\n",
       "      <td>NaN</td>\n",
       "      <td>NaN</td>\n",
       "    </tr>\n",
       "    <tr>\n",
       "      <th>4273</th>\n",
       "      <td>VirgoData</td>\n",
       "      <td>4274</td>\n",
       "      <td>expert</td>\n",
       "      <td>https://www.kaggle.com/virgodata</td>\n",
       "      <td>0</td>\n",
       "      <td>0</td>\n",
       "      <td>5</td>\n",
       "      <td>0</td>\n",
       "      <td>5 years ago</td>\n",
       "      <td>Pakistan</td>\n",
       "      <td>3.0</td>\n",
       "      <td>1.0</td>\n",
       "      <td>5</td>\n",
       "      <td>14</td>\n",
       "      <td>97.0</td>\n",
       "      <td>4300.0</td>\n",
       "      <td>Notebooks Expert</td>\n",
       "      <td>Lahore</td>\n",
       "      <td>Punjab</td>\n",
       "    </tr>\n",
       "    <tr>\n",
       "      <th>4274</th>\n",
       "      <td>MHA</td>\n",
       "      <td>4275</td>\n",
       "      <td>expert</td>\n",
       "      <td>https://www.kaggle.com/hamzaashraf</td>\n",
       "      <td>0</td>\n",
       "      <td>0</td>\n",
       "      <td>5</td>\n",
       "      <td>0</td>\n",
       "      <td>5 years ago</td>\n",
       "      <td>None</td>\n",
       "      <td>5.0</td>\n",
       "      <td>NaN</td>\n",
       "      <td>6</td>\n",
       "      <td>4</td>\n",
       "      <td>99.0</td>\n",
       "      <td>4301.0</td>\n",
       "      <td>Competitions Expert</td>\n",
       "      <td>Pakistan</td>\n",
       "      <td>None</td>\n",
       "    </tr>\n",
       "  </tbody>\n",
       "</table>\n",
       "<p>4275 rows × 19 columns</p>\n",
       "</div>"
      ],
      "text/plain": [
       "                 Name  Rank        Level  \\\n",
       "0        Chris Deotte     1  grandmaster   \n",
       "1       Marília Prata     2       master   \n",
       "2     Abhishek Thakur     3  grandmaster   \n",
       "3             AmbrosM     4  grandmaster   \n",
       "4            Y.Nakama     5  grandmaster   \n",
       "...               ...   ...          ...   \n",
       "4270          shubh24  4271       expert   \n",
       "4271       Ben Watson  4272       expert   \n",
       "4272             udit  4273       expert   \n",
       "4273        VirgoData  4274       expert   \n",
       "4274              MHA  4275       expert   \n",
       "\n",
       "                                       Link  Gold  Silver  Bronze Points  \\\n",
       "0            https://www.kaggle.com/cdeotte    71      17       3  4,949   \n",
       "1            https://www.kaggle.com/mpwolke    12      39     448  3,614   \n",
       "2           https://www.kaggle.com/abhishek    65      28      24  3,176   \n",
       "3            https://www.kaggle.com/ambrosm    28       8       8  2,739   \n",
       "4     https://www.kaggle.com/yasufuminakama    37       9       6  2,629   \n",
       "...                                     ...   ...     ...     ...    ...   \n",
       "4270         https://www.kaggle.com/shubh24     0       0       9      1   \n",
       "4271       https://www.kaggle.com/benwatson     0       0       5      0   \n",
       "4272       https://www.kaggle.com/uditsaini     0       0       5      0   \n",
       "4273       https://www.kaggle.com/virgodata     0       0       5      0   \n",
       "4274     https://www.kaggle.com/hamzaashraf     0       0       5      0   \n",
       "\n",
       "            Joined        Country  Total Competitions Total Datasets  \\\n",
       "0      5 years ago  United States                53.0          103.0   \n",
       "1      4 years ago         Brazil                21.0          227.0   \n",
       "2     12 years ago         Norway               229.0          106.0   \n",
       "3       a year ago            NaN                14.0            2.0   \n",
       "4      5 years ago          Japan                65.0           20.0   \n",
       "...            ...            ...                 ...            ...   \n",
       "4270   8 years ago           None                10.0            NaN   \n",
       "4271  11 years ago         Canada                 NaN            NaN   \n",
       "4272   9 years ago            NaN                35.0            2.0   \n",
       "4273   5 years ago       Pakistan                 3.0            1.0   \n",
       "4274   5 years ago           None                 5.0            NaN   \n",
       "\n",
       "     Total Codes Total Discussions  Highest Rank  Current Rank  \\\n",
       "0             93             7,910           NaN           1.0   \n",
       "1          1,820            18,274           NaN           2.0   \n",
       "2            137             2,305           1.0           3.0   \n",
       "3             44               634           NaN           4.0   \n",
       "4             55               400           4.0           5.0   \n",
       "...          ...               ...           ...           ...   \n",
       "4270          15                52          50.0        4297.0   \n",
       "4271           8                10          44.0        4298.0   \n",
       "4272          63                16        4259.0        4299.0   \n",
       "4273           5                14          97.0        4300.0   \n",
       "4274           6                 4          99.0        4301.0   \n",
       "\n",
       "                 Current Level            City                     State  \n",
       "0     Competitions Grandmaster       San Diego                California  \n",
       "1       Discussion Grandmaster  Rio de Janeiro   State of Rio de Janeiro  \n",
       "2     Competitions Grandmaster       Stavanger                  Rogaland  \n",
       "3        Notebooks Grandmaster             NaN                       NaN  \n",
       "4     Competitions Grandmaster           Tokyo                     Tokyo  \n",
       "...                        ...             ...                       ...  \n",
       "4270          Notebooks Expert       Singapore                      None  \n",
       "4271          Notebooks Expert          Ottawa                   Ontario  \n",
       "4272          Notebooks Expert             NaN                       NaN  \n",
       "4273          Notebooks Expert          Lahore                    Punjab  \n",
       "4274       Competitions Expert        Pakistan                      None  \n",
       "\n",
       "[4275 rows x 19 columns]"
      ]
     },
     "execution_count": 128,
     "metadata": {},
     "output_type": "execute_result"
    }
   ],
   "source": [
    "df"
   ]
  },
  {
   "cell_type": "code",
   "execution_count": 148,
   "metadata": {},
   "outputs": [
    {
     "data": {
      "text/html": [
       "<div>\n",
       "<style scoped>\n",
       "    .dataframe tbody tr th:only-of-type {\n",
       "        vertical-align: middle;\n",
       "    }\n",
       "\n",
       "    .dataframe tbody tr th {\n",
       "        vertical-align: top;\n",
       "    }\n",
       "\n",
       "    .dataframe thead th {\n",
       "        text-align: right;\n",
       "    }\n",
       "</style>\n",
       "<table border=\"1\" class=\"dataframe\">\n",
       "  <thead>\n",
       "    <tr style=\"text-align: right;\">\n",
       "      <th></th>\n",
       "      <th>Name</th>\n",
       "      <th>Rank</th>\n",
       "      <th>Level</th>\n",
       "      <th>Link</th>\n",
       "      <th>Gold</th>\n",
       "      <th>Silver</th>\n",
       "      <th>Bronze</th>\n",
       "      <th>Points</th>\n",
       "      <th>Joined</th>\n",
       "      <th>Country</th>\n",
       "      <th>Total Competitions</th>\n",
       "      <th>Total Datasets</th>\n",
       "      <th>Total Codes</th>\n",
       "      <th>Total Discussions</th>\n",
       "      <th>Highest Rank</th>\n",
       "      <th>Current Rank</th>\n",
       "      <th>Current Level</th>\n",
       "      <th>City</th>\n",
       "      <th>State</th>\n",
       "    </tr>\n",
       "  </thead>\n",
       "  <tbody>\n",
       "  </tbody>\n",
       "</table>\n",
       "</div>"
      ],
      "text/plain": [
       "Empty DataFrame\n",
       "Columns: [Name, Rank, Level, Link, Gold, Silver, Bronze, Points, Joined, Country, Total Competitions, Total Datasets, Total Codes, Total Discussions, Highest Rank, Current Rank, Current Level, City, State]\n",
       "Index: []"
      ]
     },
     "execution_count": 148,
     "metadata": {},
     "output_type": "execute_result"
    }
   ],
   "source": [
    "df[(df.Country == 'Pakistan') & (df['Current Level'] == 'Datasets Grandmaster')]"
   ]
  },
  {
   "cell_type": "code",
   "execution_count": 158,
   "metadata": {},
   "outputs": [
    {
     "data": {
      "text/plain": [
       "'Datasets Grandmaster'"
      ]
     },
     "execution_count": 158,
     "metadata": {},
     "output_type": "execute_result"
    }
   ],
   "source": [
    "df[df.Name == 'Zeeshan-ul-hassan Usmani']['Current Level'].loc[1247]"
   ]
  },
  {
   "cell_type": "code",
   "execution_count": 163,
   "metadata": {},
   "outputs": [
    {
     "data": {
      "text/plain": [
       "19"
      ]
     },
     "execution_count": 163,
     "metadata": {},
     "output_type": "execute_result"
    }
   ],
   "source": [
    "len(df.columns)"
   ]
  },
  {
   "cell_type": "code",
   "execution_count": null,
   "metadata": {},
   "outputs": [],
   "source": []
  }
 ],
 "metadata": {
  "kernelspec": {
   "display_name": "Python 3",
   "language": "python",
   "name": "python3"
  },
  "language_info": {
   "codemirror_mode": {
    "name": "ipython",
    "version": 3
   },
   "file_extension": ".py",
   "mimetype": "text/x-python",
   "name": "python",
   "nbconvert_exporter": "python",
   "pygments_lexer": "ipython3",
   "version": "3.8.5"
  }
 },
 "nbformat": 4,
 "nbformat_minor": 4
}
