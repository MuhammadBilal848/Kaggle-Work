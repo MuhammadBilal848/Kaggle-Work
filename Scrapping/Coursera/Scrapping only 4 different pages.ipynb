{
 "cells": [
  {
   "cell_type": "code",
   "execution_count": 1,
   "metadata": {},
   "outputs": [],
   "source": [
    "import requests\n",
    "from bs4 import BeautifulSoup\n",
    "import numpy as np\n",
    "import pandas as pd\n",
    "import warnings\n",
    "warnings.filterwarnings('ignore')"
   ]
  },
  {
   "cell_type": "code",
   "execution_count": 424,
   "metadata": {},
   "outputs": [],
   "source": [
    "baseurl = 'https://www.coursera.org'"
   ]
  },
  {
   "cell_type": "code",
   "execution_count": 425,
   "metadata": {},
   "outputs": [],
   "source": [
    "header = {\n",
    "    'User-Agents': 'Mozilla/5.0 (Windows NT 6.1; WOW64) AppleWebKit/537.36 (KHTML, like Gecko) Chrome/47.0.2526.111 Safari/537.36'\n",
    "}"
   ]
  },
  {
   "cell_type": "markdown",
   "metadata": {},
   "source": [
    "# Scrapping Links"
   ]
  },
  {
   "cell_type": "code",
   "execution_count": 426,
   "metadata": {},
   "outputs": [],
   "source": [
    "r = requests.get('https://www.coursera.org/certificates/data-science')\n",
    "soup = BeautifulSoup(r.content, 'lxml')"
   ]
  },
  {
   "cell_type": "code",
   "execution_count": 427,
   "metadata": {},
   "outputs": [],
   "source": [
    "course_list = soup.find_all('div',class_= 'cds-63 css-qsaw8 cds-65 cds-grid-item cds-134')"
   ]
  },
  {
   "cell_type": "code",
   "execution_count": 428,
   "metadata": {},
   "outputs": [],
   "source": [
    "course_link = []"
   ]
  },
  {
   "cell_type": "code",
   "execution_count": 429,
   "metadata": {},
   "outputs": [],
   "source": [
    "for i in course_list:\n",
    "    for link in i.find_all('a',href = True):\n",
    "        course_link.append(baseurl + link['href'])"
   ]
  },
  {
   "cell_type": "code",
   "execution_count": 430,
   "metadata": {},
   "outputs": [
    {
     "data": {
      "text/plain": [
       "['https://www.coursera.org/professional-certificates/google-data-analytics',\n",
       " 'https://www.coursera.org/professional-certificates/ibm-data-science',\n",
       " 'https://www.coursera.org/professional-certificates/ibm-data-analyst',\n",
       " 'https://www.coursera.org/professional-certificates/ibm-data-engineer',\n",
       " 'https://www.coursera.org/professional-certificates/meta-database-engineer',\n",
       " 'https://www.coursera.org/professional-certificates/ibm-data-analyst-r-excel',\n",
       " 'https://www.coursera.org/professional-certificates/data-warehouse-engineering',\n",
       " 'https://www.coursera.org/professional-certificates/tensorflow-in-practice',\n",
       " 'https://www.coursera.org/professional-certificates/azure-data-scientist',\n",
       " 'https://www.coursera.org/professional-certificates/microsoft-azure-dp-203-data-engineering',\n",
       " 'https://www.coursera.org/professional-certificates/ibm-machine-learning',\n",
       " 'https://www.coursera.org/professional-certificates/sas-advanced-programmer',\n",
       " 'https://www.coursera.org/professional-certificates/certified-data-science-practitioner',\n",
       " 'https://www.coursera.org/professional-certificates/certified-ethical-emerging-technologist',\n",
       " 'https://www.coursera.org/professional-certificates/ai-engineer',\n",
       " 'https://www.coursera.org/professional-certificates/applied-artifical-intelligence-ibm-watson-ai',\n",
       " 'https://www.coursera.org/professional-certificates/gcp-data-engineering',\n",
       " 'https://www.coursera.org/professional-certificates/sas-programming',\n",
       " 'https://www.coursera.org/professional-certificates/sas-visual-business-analytics',\n",
       " 'https://www.coursera.org/mastertrack/data-analytics-managers-tufts',\n",
       " 'https://www.coursera.org/mastertrack/machine-learning-analytics-chicago',\n",
       " 'https://www.coursera.org/mastertrack/health-informatics-yale',\n",
       " 'https://www.coursera.org/mastertrack/big-data-asu',\n",
       " 'https://www.coursera.org/mastertrack/analitica-datos-visualizacion-prediccion-toma-decisiones-uniandes',\n",
       " 'https://www.coursera.org/mastertrack/introduccion-ciencia-datos-ucchile',\n",
       " 'https://www.coursera.org/certificates/data-science-machine-learning-iitr',\n",
       " 'https://www.coursera.org/certificates/digital-transformation-dartmouth',\n",
       " 'https://www.coursera.org/certificates/strategic-supply-chain-management-ai-iitr',\n",
       " 'https://www.coursera.org/certificates/data-driven-decision-making-iimk',\n",
       " 'https://www.coursera.org/certificates/machine-learning-finance-iitr',\n",
       " 'https://www.coursera.org/certificates/advanced-ai-ml-iitr',\n",
       " 'https://www.coursera.org/certificates/data-science-boulder']"
      ]
     },
     "execution_count": 430,
     "metadata": {},
     "output_type": "execute_result"
    }
   ],
   "source": [
    "course_link"
   ]
  },
  {
   "cell_type": "markdown",
   "metadata": {},
   "source": [
    "# **Scrapping Course Name , Ratings , Financial Aid , No. of Students Enrolled**"
   ]
  },
  {
   "cell_type": "code",
   "execution_count": 415,
   "metadata": {},
   "outputs": [],
   "source": [
    "testlink = 'https://www.coursera.org/professional-certificates/google-data-analytics'"
   ]
  },
  {
   "cell_type": "code",
   "execution_count": 416,
   "metadata": {},
   "outputs": [],
   "source": [
    "r = requests.get(testlink , headers = header)\n",
    "soup = BeautifulSoup(r.content, 'lxml')"
   ]
  },
  {
   "cell_type": "markdown",
   "metadata": {},
   "source": [
    "# Name"
   ]
  },
  {
   "cell_type": "code",
   "execution_count": 421,
   "metadata": {},
   "outputs": [
    {
     "data": {
      "text/plain": [
       "'IBM Data Engineering Professional Certificate'"
      ]
     },
     "execution_count": 421,
     "metadata": {},
     "output_type": "execute_result"
    }
   ],
   "source": [
    "name = soup.find('h1',class_ = 'cds-33 css-1shw822 cds-35').text.strip()\n",
    "name"
   ]
  },
  {
   "cell_type": "markdown",
   "metadata": {},
   "source": [
    "# UpperGrid - Ratings ,  Duration , Langugage , Level "
   ]
  },
  {
   "cell_type": "code",
   "execution_count": 360,
   "metadata": {},
   "outputs": [
    {
     "data": {
      "text/plain": [
       "array(['4.8/5', '6 Months', 'English', 'Beginner Level',\n",
       "       '100% Self-Paced'], dtype='<U15')"
      ]
     },
     "execution_count": 360,
     "metadata": {},
     "output_type": "execute_result"
    }
   ],
   "source": [
    "grid = soup.find('div',class_ = 'cds-71 css-0 cds-72')\n",
    "upper_grid = grid.find_all('p',class_ = 'cds-33 css-bku0rr cds-35')\n",
    "upper_grid = np.array(upper_grid).reshape(-1)\n",
    "upper_grid"
   ]
  },
  {
   "cell_type": "markdown",
   "metadata": {},
   "source": [
    "# Ratings"
   ]
  },
  {
   "cell_type": "code",
   "execution_count": 361,
   "metadata": {},
   "outputs": [
    {
     "data": {
      "text/plain": [
       "'4.8/5'"
      ]
     },
     "execution_count": 361,
     "metadata": {},
     "output_type": "execute_result"
    }
   ],
   "source": [
    "ratings = upper_grid[0]\n",
    "ratings"
   ]
  },
  {
   "cell_type": "markdown",
   "metadata": {},
   "source": [
    "# Duration"
   ]
  },
  {
   "cell_type": "code",
   "execution_count": 362,
   "metadata": {},
   "outputs": [
    {
     "data": {
      "text/plain": [
       "'6 Months'"
      ]
     },
     "execution_count": 362,
     "metadata": {},
     "output_type": "execute_result"
    }
   ],
   "source": [
    "duration = upper_grid[1]\n",
    "duration"
   ]
  },
  {
   "cell_type": "markdown",
   "metadata": {},
   "source": [
    "# Language"
   ]
  },
  {
   "cell_type": "code",
   "execution_count": 363,
   "metadata": {},
   "outputs": [
    {
     "data": {
      "text/plain": [
       "'English'"
      ]
     },
     "execution_count": 363,
     "metadata": {},
     "output_type": "execute_result"
    }
   ],
   "source": [
    "lang = upper_grid[2]\n",
    "lang"
   ]
  },
  {
   "cell_type": "markdown",
   "metadata": {},
   "source": [
    "# Level"
   ]
  },
  {
   "cell_type": "code",
   "execution_count": 364,
   "metadata": {},
   "outputs": [
    {
     "data": {
      "text/plain": [
       "'Beginner Level'"
      ]
     },
     "execution_count": 364,
     "metadata": {},
     "output_type": "execute_result"
    }
   ],
   "source": [
    "lvl = upper_grid[3]\n",
    "lvl"
   ]
  },
  {
   "cell_type": "markdown",
   "metadata": {},
   "source": [
    "# LowerGrid - Total Ratings , Hours Per Week , Subtitles , Experience Required"
   ]
  },
  {
   "cell_type": "code",
   "execution_count": 365,
   "metadata": {},
   "outputs": [
    {
     "data": {
      "text/plain": [
       "array([<span>77,398 ratings <br/>1,114,824 already enrolled</span>,\n",
       "       'Under 10 hours of study a week', 'Subtitles: English',\n",
       "       'No prior experience required.', 'Learn on your own time'],\n",
       "      dtype=object)"
      ]
     },
     "execution_count": 365,
     "metadata": {},
     "output_type": "execute_result"
    }
   ],
   "source": [
    "l_grid = soup.find('div',class_ = 'cds-71 css-0 cds-72')\n",
    "lower_grid = l_grid.find_all('p',class_ = 'cds-33 css-14d8ngk cds-35')\n",
    "lower_grid = np.array(lower_grid).reshape(-1)\n",
    "lower_grid"
   ]
  },
  {
   "cell_type": "markdown",
   "metadata": {},
   "source": [
    "# Total Ratings"
   ]
  },
  {
   "cell_type": "code",
   "execution_count": 366,
   "metadata": {},
   "outputs": [
    {
     "data": {
      "text/plain": [
       "'77,398'"
      ]
     },
     "execution_count": 366,
     "metadata": {},
     "output_type": "execute_result"
    }
   ],
   "source": [
    "tot_rat = np.array(lower_grid[0])[0].split(' ')[0]\n",
    "# tot_rat = tot_rat.split(' ')[0]\n",
    "tot_rat"
   ]
  },
  {
   "cell_type": "markdown",
   "metadata": {},
   "source": [
    "# Enrolled"
   ]
  },
  {
   "cell_type": "code",
   "execution_count": 367,
   "metadata": {},
   "outputs": [
    {
     "data": {
      "text/plain": [
       "'1,114,824'"
      ]
     },
     "execution_count": 367,
     "metadata": {},
     "output_type": "execute_result"
    }
   ],
   "source": [
    "enroll = np.array(lower_grid[0])[2]\n",
    "enroll = enroll.split(' ')[0]\n",
    "enroll"
   ]
  },
  {
   "cell_type": "markdown",
   "metadata": {},
   "source": [
    "# Hours Per Week"
   ]
  },
  {
   "cell_type": "code",
   "execution_count": 368,
   "metadata": {},
   "outputs": [
    {
     "data": {
      "text/plain": [
       "'10'"
      ]
     },
     "execution_count": 368,
     "metadata": {},
     "output_type": "execute_result"
    }
   ],
   "source": [
    "hpw = lower_grid[1].split(' ')[1]\n",
    "hpw"
   ]
  },
  {
   "cell_type": "markdown",
   "metadata": {},
   "source": [
    "# Subtitles"
   ]
  },
  {
   "cell_type": "code",
   "execution_count": 371,
   "metadata": {},
   "outputs": [
    {
     "data": {
      "text/plain": [
       "['English']"
      ]
     },
     "execution_count": 371,
     "metadata": {},
     "output_type": "execute_result"
    }
   ],
   "source": [
    "sub = lower_grid[2].split(' ')[1:]\n",
    "sub"
   ]
  },
  {
   "cell_type": "markdown",
   "metadata": {},
   "source": [
    "# Prior Experience"
   ]
  },
  {
   "cell_type": "code",
   "execution_count": 343,
   "metadata": {},
   "outputs": [
    {
     "data": {
      "text/plain": [
       "'No'"
      ]
     },
     "execution_count": 343,
     "metadata": {},
     "output_type": "execute_result"
    }
   ],
   "source": [
    "p_ex = lower_grid[3].split(' ')[0]\n",
    "p_ex"
   ]
  },
  {
   "cell_type": "markdown",
   "metadata": {},
   "source": [
    "# DataFrame"
   ]
  },
  {
   "cell_type": "code",
   "execution_count": 431,
   "metadata": {},
   "outputs": [],
   "source": [
    "lst = []"
   ]
  },
  {
   "cell_type": "code",
   "execution_count": 432,
   "metadata": {
    "scrolled": false
   },
   "outputs": [
    {
     "name": "stdout",
     "output_type": "stream",
     "text": [
      "{'Name': 'NA', 'Ratings': 'NA', 'Duration': 'NA', 'Language': 'NA', 'Level': 'NA', 'Total Ratings': 'NA', 'Enrolled': 'NA', 'Hours Per Week': 'NA', 'Subtitles': 'NA', 'Prerequisite': 'NA'}\n",
      "{'Name': 'IBM Data Science Professional Certificate', 'Ratings': '4.6/5', 'Duration': '11 Months', 'Language': 'English', 'Level': 'Beginner Level', 'Total Ratings': '57,528', 'Enrolled': '127,465', 'Hours Per Week': '4', 'Subtitles': ['English,', 'Arabic,', 'French,', 'Portuguese', '(European),', 'Italian,', 'Vietnamese,', 'German,', 'Russian,', 'Turkish,', 'Spanish,', 'Persian,', 'Korean'], 'Prerequisite': 'No'}\n",
      "{'Name': 'NA', 'Ratings': 'NA', 'Duration': 'NA', 'Language': 'NA', 'Level': 'NA', 'Total Ratings': 'NA', 'Enrolled': 'NA', 'Hours Per Week': 'NA', 'Subtitles': 'NA', 'Prerequisite': 'NA'}\n",
      "{'Name': 'IBM Data Engineering Professional Certificate', 'Ratings': '4.6/5', 'Duration': '15 Months', 'Language': 'English', 'Level': 'Beginner Level', 'Total Ratings': '1,978', 'Enrolled': '25,900', 'Hours Per Week': '4', 'Subtitles': ['English,', 'Korean,', 'Arabic,', 'Persian'], 'Prerequisite': 'No'}\n"
     ]
    }
   ],
   "source": [
    "for i,link in enumerate(course_link):\n",
    "    if i == 4:\n",
    "        break\n",
    "    else:\n",
    "        r = requests.get(link , headers = header)\n",
    "        soup = BeautifulSoup(r.content, 'lxml')\n",
    "        try:\n",
    "            name = soup.find('h1',class_ = 'cds-33 css-1shw822 cds-35').text.strip()\n",
    "            grid = soup.find('div',class_ = 'cds-71 css-0 cds-72')\n",
    "            upper_grid = grid.find_all('p',class_ = 'cds-33 css-bku0rr cds-35')\n",
    "            upper_grid = np.array(upper_grid).reshape(-1)    \n",
    "            l_grid = soup.find('div',class_ = 'cds-71 css-0 cds-72')\n",
    "            lower_grid = l_grid.find_all('p',class_ = 'cds-33 css-14d8ngk cds-35')\n",
    "            lower_grid = np.array(lower_grid).reshape(-1)\n",
    "            ratings = upper_grid[0]\n",
    "            duration = upper_grid[1]\n",
    "            lang = upper_grid[2]       \n",
    "            lvl = upper_grid[3]\n",
    "            tot_rat = np.array(lower_grid[0])[0].split(' ')[0]\n",
    "            enroll = np.array(lower_grid[0])[2].split(' ')[0]\n",
    "            hpw = lower_grid[1].split(' ')[1]\n",
    "            sub = lower_grid[2].split(' ')[1:]\n",
    "            p_ex = lower_grid[3].split(' ')[0]\n",
    "        except:\n",
    "            name = 'NA'\n",
    "            ratings = 'NA'\n",
    "            duration = 'NA'\n",
    "            lang = 'NA'\n",
    "            lvl = 'NA'\n",
    "            tot_rat = 'NA'\n",
    "            enroll = 'NA'\n",
    "            hpw = 'NA'\n",
    "            sub = 'NA'\n",
    "            p_ex = 'NA'\n",
    "        course = {\n",
    "                  'Name':name,\n",
    "                  'Ratings': ratings,\n",
    "                  'Duration': duration,\n",
    "                  'Language': lang, \n",
    "                  'Level': lvl,\n",
    "                  'Total Ratings': tot_rat,\n",
    "                  'Enrolled': enroll,\n",
    "                  'Hours Per Week': hpw, \n",
    "                  'Subtitles': sub,\n",
    "                  'Prerequisite': p_ex\n",
    "        }\n",
    "        print(course)"
   ]
  },
  {
   "cell_type": "code",
   "execution_count": 433,
   "metadata": {},
   "outputs": [
    {
     "name": "stdout",
     "output_type": "stream",
     "text": [
      "{'Name': 'Google Data Analytics Professional Certificate', 'Ratings': '4.8/5', 'Duration': '6 Months', 'Language': 'English', 'Level': 'Beginner Level', 'Total Ratings': '77,398', 'Enrolled': '1,114,824', 'Hours Per Week': '10', 'Subtitles': ['English'], 'Prerequisite': 'No'}\n",
      "{'Name': 'IBM Data Science Professional Certificate', 'Ratings': '4.6/5', 'Duration': '11 Months', 'Language': 'English', 'Level': 'Beginner Level', 'Total Ratings': '57,528', 'Enrolled': '127,465', 'Hours Per Week': '4', 'Subtitles': ['English,', 'Arabic,', 'French,', 'Portuguese', '(European),', 'Italian,', 'Vietnamese,', 'German,', 'Russian,', 'Turkish,', 'Spanish,', 'Persian,', 'Korean'], 'Prerequisite': 'No'}\n",
      "{'Name': 'IBM Data Analyst Professional Certificate', 'Ratings': '4.6/5', 'Duration': '11 Months', 'Language': 'English', 'Level': 'Beginner Level', 'Total Ratings': '9,551', 'Enrolled': '85,586', 'Hours Per Week': '3', 'Subtitles': ['English,', 'Arabic,', 'French,', 'Portuguese', '(European),', 'Italian,', 'Vietnamese,', 'German,', 'Russian,', 'Spanish,', 'Korean,', 'Persian,', 'Turkish'], 'Prerequisite': 'No'}\n"
     ]
    },
    {
     "ename": "AttributeError",
     "evalue": "'NoneType' object has no attribute 'text'",
     "output_type": "error",
     "traceback": [
      "\u001b[1;31m---------------------------------------------------------------------------\u001b[0m",
      "\u001b[1;31mAttributeError\u001b[0m                            Traceback (most recent call last)",
      "\u001b[1;32m<ipython-input-433-0cf63fe9b29d>\u001b[0m in \u001b[0;36m<module>\u001b[1;34m\u001b[0m\n\u001b[0;32m      5\u001b[0m         \u001b[0mr\u001b[0m \u001b[1;33m=\u001b[0m \u001b[0mrequests\u001b[0m\u001b[1;33m.\u001b[0m\u001b[0mget\u001b[0m\u001b[1;33m(\u001b[0m\u001b[0mlink\u001b[0m \u001b[1;33m,\u001b[0m \u001b[0mheaders\u001b[0m \u001b[1;33m=\u001b[0m \u001b[0mheader\u001b[0m\u001b[1;33m)\u001b[0m\u001b[1;33m\u001b[0m\u001b[1;33m\u001b[0m\u001b[0m\n\u001b[0;32m      6\u001b[0m         \u001b[0msoup\u001b[0m \u001b[1;33m=\u001b[0m \u001b[0mBeautifulSoup\u001b[0m\u001b[1;33m(\u001b[0m\u001b[0mr\u001b[0m\u001b[1;33m.\u001b[0m\u001b[0mcontent\u001b[0m\u001b[1;33m,\u001b[0m \u001b[1;34m'lxml'\u001b[0m\u001b[1;33m)\u001b[0m\u001b[1;33m\u001b[0m\u001b[1;33m\u001b[0m\u001b[0m\n\u001b[1;32m----> 7\u001b[1;33m         \u001b[0mname\u001b[0m \u001b[1;33m=\u001b[0m \u001b[0msoup\u001b[0m\u001b[1;33m.\u001b[0m\u001b[0mfind\u001b[0m\u001b[1;33m(\u001b[0m\u001b[1;34m'h1'\u001b[0m\u001b[1;33m,\u001b[0m\u001b[0mclass_\u001b[0m \u001b[1;33m=\u001b[0m \u001b[1;34m'cds-33 css-1shw822 cds-35'\u001b[0m\u001b[1;33m)\u001b[0m\u001b[1;33m.\u001b[0m\u001b[0mtext\u001b[0m\u001b[1;33m.\u001b[0m\u001b[0mstrip\u001b[0m\u001b[1;33m(\u001b[0m\u001b[1;33m)\u001b[0m\u001b[1;33m\u001b[0m\u001b[1;33m\u001b[0m\u001b[0m\n\u001b[0m\u001b[0;32m      8\u001b[0m         \u001b[1;32mtry\u001b[0m\u001b[1;33m:\u001b[0m\u001b[1;33m\u001b[0m\u001b[1;33m\u001b[0m\u001b[0m\n\u001b[0;32m      9\u001b[0m             \u001b[0mgrid\u001b[0m \u001b[1;33m=\u001b[0m \u001b[0msoup\u001b[0m\u001b[1;33m.\u001b[0m\u001b[0mfind\u001b[0m\u001b[1;33m(\u001b[0m\u001b[1;34m'div'\u001b[0m\u001b[1;33m,\u001b[0m\u001b[0mclass_\u001b[0m \u001b[1;33m=\u001b[0m \u001b[1;34m'cds-71 css-0 cds-72'\u001b[0m\u001b[1;33m)\u001b[0m\u001b[1;33m\u001b[0m\u001b[1;33m\u001b[0m\u001b[0m\n",
      "\u001b[1;31mAttributeError\u001b[0m: 'NoneType' object has no attribute 'text'"
     ]
    }
   ],
   "source": [
    "for i,link in enumerate(course_link):\n",
    "    if i == 4:\n",
    "        break\n",
    "    else:\n",
    "        r = requests.get(link , headers = header)\n",
    "        soup = BeautifulSoup(r.content, 'lxml')\n",
    "        name = soup.find('h1',class_ = 'cds-33 css-1shw822 cds-35').text.strip()\n",
    "        try:\n",
    "            grid = soup.find('div',class_ = 'cds-71 css-0 cds-72')\n",
    "            upper_grid = grid.find_all('p',class_ = 'cds-33 css-bku0rr cds-35')\n",
    "            upper_grid = np.array(upper_grid).reshape(-1)    \n",
    "            l_grid = soup.find('div',class_ = 'cds-71 css-0 cds-72')\n",
    "            lower_grid = l_grid.find_all('p',class_ = 'cds-33 css-14d8ngk cds-35')\n",
    "            lower_grid = np.array(lower_grid).reshape(-1)\n",
    "            ratings = upper_grid[0]\n",
    "            duration = upper_grid[1]\n",
    "            lang = upper_grid[2]       \n",
    "            lvl = upper_grid[3]\n",
    "            tot_rat = np.array(lower_grid[0])[0].split(' ')[0]\n",
    "            enroll = np.array(lower_grid[0])[2].split(' ')[0]\n",
    "            hpw = lower_grid[1].split(' ')[1]\n",
    "            sub = lower_grid[2].split(' ')[1:]\n",
    "            p_ex = lower_grid[3].split(' ')[0]\n",
    "        except:\n",
    "#             name = 'NA'\n",
    "            ratings = 'NA'\n",
    "            duration = 'NA'\n",
    "            lang = 'NA'\n",
    "            lvl = 'NA'\n",
    "            tot_rat = 'NA'\n",
    "            enroll = 'NA'\n",
    "            hpw = 'NA'\n",
    "            sub = 'NA'\n",
    "            p_ex = 'NA'\n",
    "        course = {\n",
    "                  'Name':name,\n",
    "                  'Ratings': ratings,\n",
    "                  'Duration': duration,\n",
    "                  'Language': lang, \n",
    "                  'Level': lvl,\n",
    "                  'Total Ratings': tot_rat,\n",
    "                  'Enrolled': enroll,\n",
    "                  'Hours Per Week': hpw, \n",
    "                  'Subtitles': sub,\n",
    "                  'Prerequisite': p_ex\n",
    "        }\n",
    "        print(course)"
   ]
  },
  {
   "cell_type": "code",
   "execution_count": null,
   "metadata": {},
   "outputs": [],
   "source": []
  },
  {
   "cell_type": "code",
   "execution_count": null,
   "metadata": {},
   "outputs": [],
   "source": []
  },
  {
   "cell_type": "code",
   "execution_count": 345,
   "metadata": {
    "collapsed": true
   },
   "outputs": [
    {
     "name": "stdout",
     "output_type": "stream",
     "text": [
      "{'Name': 'NA', 'Ratings': '4.8/5', 'Duration': '6 Months', 'Language': 'English', 'Level': 'Beginner Level', 'Total Ratings': '77,398', 'Enrolled': '1,114,824', 'Hours Per Week': '10', 'Subtitles': 'English', 'Prerequisite': 'No'}\n",
      "{'Name': 'IBM Data Science Professional Certificate', 'Ratings': '4.6/5', 'Duration': '11 Months', 'Language': 'English', 'Level': 'Beginner Level', 'Total Ratings': '57,528', 'Enrolled': '127,465', 'Hours Per Week': '4', 'Subtitles': 'English,', 'Prerequisite': 'No'}\n",
      "{'Name': 'NA', 'Ratings': '4.6/5', 'Duration': '11 Months', 'Language': 'English', 'Level': 'Beginner Level', 'Total Ratings': '57,528', 'Enrolled': '127,465', 'Hours Per Week': '4', 'Subtitles': 'English,', 'Prerequisite': 'No'}\n",
      "{'Name': 'NA', 'Ratings': '4.6/5', 'Duration': '11 Months', 'Language': 'English', 'Level': 'Beginner Level', 'Total Ratings': '57,528', 'Enrolled': '127,465', 'Hours Per Week': '4', 'Subtitles': 'English,', 'Prerequisite': 'No'}\n",
      "{'Name': 'NA', 'Ratings': '4.6/5', 'Duration': '11 Months', 'Language': 'English', 'Level': 'Beginner Level', 'Total Ratings': '57,528', 'Enrolled': '127,465', 'Hours Per Week': '4', 'Subtitles': 'English,', 'Prerequisite': 'No'}\n",
      "{'Name': 'NA', 'Ratings': '4.6/5', 'Duration': '11 Months', 'Language': 'English', 'Level': 'Beginner Level', 'Total Ratings': '57,528', 'Enrolled': '127,465', 'Hours Per Week': '4', 'Subtitles': 'English,', 'Prerequisite': 'No'}\n",
      "{'Name': 'NA', 'Ratings': '4.6/5', 'Duration': '11 Months', 'Language': 'English', 'Level': 'Beginner Level', 'Total Ratings': '57,528', 'Enrolled': '127,465', 'Hours Per Week': '4', 'Subtitles': 'English,', 'Prerequisite': 'No'}\n",
      "{'Name': 'NA', 'Ratings': '4.6/5', 'Duration': '11 Months', 'Language': 'English', 'Level': 'Beginner Level', 'Total Ratings': '57,528', 'Enrolled': '127,465', 'Hours Per Week': '4', 'Subtitles': 'English,', 'Prerequisite': 'No'}\n",
      "{'Name': 'NA', 'Ratings': '4.6/5', 'Duration': '11 Months', 'Language': 'English', 'Level': 'Beginner Level', 'Total Ratings': '57,528', 'Enrolled': '127,465', 'Hours Per Week': '4', 'Subtitles': 'English,', 'Prerequisite': 'No'}\n",
      "{'Name': 'NA', 'Ratings': '4.6/5', 'Duration': '11 Months', 'Language': 'English', 'Level': 'Beginner Level', 'Total Ratings': '57,528', 'Enrolled': '127,465', 'Hours Per Week': '4', 'Subtitles': 'English,', 'Prerequisite': 'No'}\n",
      "{'Name': 'NA', 'Ratings': '4.6/5', 'Duration': '11 Months', 'Language': 'English', 'Level': 'Beginner Level', 'Total Ratings': '57,528', 'Enrolled': '127,465', 'Hours Per Week': '4', 'Subtitles': 'English,', 'Prerequisite': 'No'}\n",
      "{'Name': 'NA', 'Ratings': '4.6/5', 'Duration': '11 Months', 'Language': 'English', 'Level': 'Beginner Level', 'Total Ratings': '57,528', 'Enrolled': '127,465', 'Hours Per Week': '4', 'Subtitles': 'English,', 'Prerequisite': 'No'}\n",
      "{'Name': 'NA', 'Ratings': '4.6/5', 'Duration': '11 Months', 'Language': 'English', 'Level': 'Beginner Level', 'Total Ratings': '57,528', 'Enrolled': '127,465', 'Hours Per Week': '4', 'Subtitles': 'English,', 'Prerequisite': 'No'}\n",
      "{'Name': 'NA', 'Ratings': '4.6/5', 'Duration': '11 Months', 'Language': 'English', 'Level': 'Beginner Level', 'Total Ratings': '57,528', 'Enrolled': '127,465', 'Hours Per Week': '4', 'Subtitles': 'English,', 'Prerequisite': 'No'}\n",
      "{'Name': 'NA', 'Ratings': '4.6/5', 'Duration': '11 Months', 'Language': 'English', 'Level': 'Beginner Level', 'Total Ratings': '57,528', 'Enrolled': '127,465', 'Hours Per Week': '4', 'Subtitles': 'English,', 'Prerequisite': 'No'}\n",
      "{'Name': 'NA', 'Ratings': '4.6/5', 'Duration': '11 Months', 'Language': 'English', 'Level': 'Beginner Level', 'Total Ratings': '57,528', 'Enrolled': '127,465', 'Hours Per Week': '4', 'Subtitles': 'English,', 'Prerequisite': 'No'}\n",
      "{'Name': 'NA', 'Ratings': '4.6/5', 'Duration': '11 Months', 'Language': 'English', 'Level': 'Beginner Level', 'Total Ratings': '57,528', 'Enrolled': '127,465', 'Hours Per Week': '4', 'Subtitles': 'English,', 'Prerequisite': 'No'}\n",
      "{'Name': 'NA', 'Ratings': '4.6/5', 'Duration': '11 Months', 'Language': 'English', 'Level': 'Beginner Level', 'Total Ratings': '57,528', 'Enrolled': '127,465', 'Hours Per Week': '4', 'Subtitles': 'English,', 'Prerequisite': 'No'}\n",
      "{'Name': 'NA', 'Ratings': '4.6/5', 'Duration': '11 Months', 'Language': 'English', 'Level': 'Beginner Level', 'Total Ratings': '57,528', 'Enrolled': '127,465', 'Hours Per Week': '4', 'Subtitles': 'English,', 'Prerequisite': 'No'}\n",
      "{'Name': 'NA', 'Ratings': '4.6/5', 'Duration': '11 Months', 'Language': 'English', 'Level': 'Beginner Level', 'Total Ratings': '57,528', 'Enrolled': '127,465', 'Hours Per Week': '4', 'Subtitles': 'English,', 'Prerequisite': 'No'}\n",
      "{'Name': 'NA', 'Ratings': '4.6/5', 'Duration': '11 Months', 'Language': 'English', 'Level': 'Beginner Level', 'Total Ratings': '57,528', 'Enrolled': '127,465', 'Hours Per Week': '4', 'Subtitles': 'English,', 'Prerequisite': 'No'}\n",
      "{'Name': 'NA', 'Ratings': '4.6/5', 'Duration': '11 Months', 'Language': 'English', 'Level': 'Beginner Level', 'Total Ratings': '57,528', 'Enrolled': '127,465', 'Hours Per Week': '4', 'Subtitles': 'English,', 'Prerequisite': 'No'}\n",
      "{'Name': 'NA', 'Ratings': '4.6/5', 'Duration': '11 Months', 'Language': 'English', 'Level': 'Beginner Level', 'Total Ratings': '57,528', 'Enrolled': '127,465', 'Hours Per Week': '4', 'Subtitles': 'English,', 'Prerequisite': 'No'}\n",
      "{'Name': 'NA', 'Ratings': '4.6/5', 'Duration': '11 Months', 'Language': 'English', 'Level': 'Beginner Level', 'Total Ratings': '57,528', 'Enrolled': '127,465', 'Hours Per Week': '4', 'Subtitles': 'English,', 'Prerequisite': 'No'}\n",
      "{'Name': 'NA', 'Ratings': '4.6/5', 'Duration': '11 Months', 'Language': 'English', 'Level': 'Beginner Level', 'Total Ratings': '57,528', 'Enrolled': '127,465', 'Hours Per Week': '4', 'Subtitles': 'English,', 'Prerequisite': 'No'}\n",
      "{'Name': 'NA', 'Ratings': '4.6/5', 'Duration': '11 Months', 'Language': 'English', 'Level': 'Beginner Level', 'Total Ratings': '57,528', 'Enrolled': '127,465', 'Hours Per Week': '4', 'Subtitles': 'English,', 'Prerequisite': 'No'}\n",
      "{'Name': 'NA', 'Ratings': '4.6/5', 'Duration': '11 Months', 'Language': 'English', 'Level': 'Beginner Level', 'Total Ratings': '57,528', 'Enrolled': '127,465', 'Hours Per Week': '4', 'Subtitles': 'English,', 'Prerequisite': 'No'}\n",
      "{'Name': 'NA', 'Ratings': '4.6/5', 'Duration': '11 Months', 'Language': 'English', 'Level': 'Beginner Level', 'Total Ratings': '57,528', 'Enrolled': '127,465', 'Hours Per Week': '4', 'Subtitles': 'English,', 'Prerequisite': 'No'}\n",
      "{'Name': 'NA', 'Ratings': '4.6/5', 'Duration': '11 Months', 'Language': 'English', 'Level': 'Beginner Level', 'Total Ratings': '57,528', 'Enrolled': '127,465', 'Hours Per Week': '4', 'Subtitles': 'English,', 'Prerequisite': 'No'}\n",
      "{'Name': 'NA', 'Ratings': '4.6/5', 'Duration': '11 Months', 'Language': 'English', 'Level': 'Beginner Level', 'Total Ratings': '57,528', 'Enrolled': '127,465', 'Hours Per Week': '4', 'Subtitles': 'English,', 'Prerequisite': 'No'}\n",
      "{'Name': 'NA', 'Ratings': '4.6/5', 'Duration': '11 Months', 'Language': 'English', 'Level': 'Beginner Level', 'Total Ratings': '57,528', 'Enrolled': '127,465', 'Hours Per Week': '4', 'Subtitles': 'English,', 'Prerequisite': 'No'}\n",
      "{'Name': 'NA', 'Ratings': '4.6/5', 'Duration': '11 Months', 'Language': 'English', 'Level': 'Beginner Level', 'Total Ratings': '57,528', 'Enrolled': '127,465', 'Hours Per Week': '4', 'Subtitles': 'English,', 'Prerequisite': 'No'}\n"
     ]
    }
   ],
   "source": [
    "for link in course_link:\n",
    "    r = requests.get(link , headers = header)\n",
    "    soup = BeautifulSoup(r.content, 'lxml')\n",
    "    try:\n",
    "        grid = soup.find('div',class_ = 'cds-71 css-0 cds-72')\n",
    "        upper_grid = grid.find_all('p',class_ = 'cds-33 css-bku0rr cds-35')\n",
    "        upper_grid = np.array(upper_grid).reshape(-1)    \n",
    "        l_grid = soup.find('div',class_ = 'cds-71 css-0 cds-72')\n",
    "        lower_grid = l_grid.find_all('p',class_ = 'cds-33 css-14d8ngk cds-35')\n",
    "        lower_grid = np.array(lower_grid).reshape(-1)\n",
    "    except:\n",
    "        grid = 'NA'\n",
    "        l_grid = 'NA'\n",
    "    try:\n",
    "        name = soup.find('h1',class_ = 'cds-33 css-1shw822 cds-35').text.strip()\n",
    "    except:\n",
    "        name = 'NA'\n",
    "    try:\n",
    "        ratings = upper_grid[0]\n",
    "    except:\n",
    "        ratings = 'NA'\n",
    "    try:\n",
    "        duration = upper_grid[1]\n",
    "    except:\n",
    "        duration = 'NA'\n",
    "    try: \n",
    "        lang = upper_grid[2]       \n",
    "    except:\n",
    "        lang = 'NA'\n",
    "    try:\n",
    "        lvl = upper_grid[3]\n",
    "    except:\n",
    "        lvl = 'NA'\n",
    "    try:\n",
    "        tot_rat = np.array(lower_grid[0])[0].split(' ')[0]\n",
    "    except: \n",
    "        tot_rat = 'NA'\n",
    "    try: \n",
    "        enroll = np.array(lower_grid[0])[2].split(' ')[0]\n",
    "    except:\n",
    "        enroll = 'NA'\n",
    "    try:\n",
    "        hpw = lower_grid[1].split(' ')[1]\n",
    "    except:\n",
    "        hpw = 'NA'\n",
    "    try:\n",
    "        sub = lower_grid[2].split(' ')[1]\n",
    "    except:\n",
    "        sub = 'NA'\n",
    "    try:  \n",
    "        p_ex = lower_grid[3].split(' ')[0]\n",
    "    except:\n",
    "        p_ex = 'NA'\n",
    "# #     try:\n",
    "# #         duration = upper_grid[1]\n",
    "# #     except: \n",
    "# #         duration = 'NA'\n",
    "# #     try\n",
    "#     lang = upper_grid[2]\n",
    "#     lvl = upper_grid[3]\n",
    "#     tot_rat = np.array(lower_grid[0])[0].split(' ')[0]\n",
    "#     enroll = np.array(lower_grid[0])[2].split(' ')[0]\n",
    "#     hpw = lower_grid[1].split(' ')[1]\n",
    "#     sub = lower_grid[2].split(' ')[1]\n",
    "#     p_ex = lower_grid[3].split(' ')[0]\n",
    "\n",
    "    course = {\n",
    "              'Name':name,\n",
    "              'Ratings': ratings,\n",
    "              'Duration': duration,\n",
    "              'Language': lang, \n",
    "              'Level': lvl,\n",
    "              'Total Ratings': tot_rat,\n",
    "              'Enrolled': enroll,\n",
    "              'Hours Per Week': hpw, \n",
    "              'Subtitles': sub,\n",
    "              'Prerequisite': p_ex\n",
    "    }\n",
    "    print(course)"
   ]
  },
  {
   "cell_type": "code",
   "execution_count": null,
   "metadata": {},
   "outputs": [],
   "source": []
  },
  {
   "cell_type": "code",
   "execution_count": null,
   "metadata": {},
   "outputs": [],
   "source": []
  },
  {
   "cell_type": "code",
   "execution_count": null,
   "metadata": {},
   "outputs": [],
   "source": []
  },
  {
   "cell_type": "code",
   "execution_count": null,
   "metadata": {},
   "outputs": [],
   "source": []
  },
  {
   "cell_type": "code",
   "execution_count": 348,
   "metadata": {},
   "outputs": [
    {
     "name": "stdout",
     "output_type": "stream",
     "text": [
      "https://www.coursera.org/professional-certificates/google-data-analytics\n",
      "https://www.coursera.org/professional-certificates/ibm-data-science\n",
      "https://www.coursera.org/professional-certificates/ibm-data-analyst\n",
      "https://www.coursera.org/professional-certificates/ibm-data-engineer\n",
      "https://www.coursera.org/professional-certificates/meta-database-engineer\n",
      "https://www.coursera.org/professional-certificates/ibm-data-analyst-r-excel\n",
      "https://www.coursera.org/professional-certificates/data-warehouse-engineering\n",
      "https://www.coursera.org/professional-certificates/tensorflow-in-practice\n",
      "https://www.coursera.org/professional-certificates/azure-data-scientist\n",
      "https://www.coursera.org/professional-certificates/microsoft-azure-dp-203-data-engineering\n",
      "https://www.coursera.org/professional-certificates/ibm-machine-learning\n",
      "https://www.coursera.org/professional-certificates/sas-advanced-programmer\n",
      "https://www.coursera.org/professional-certificates/certified-data-science-practitioner\n",
      "https://www.coursera.org/professional-certificates/certified-ethical-emerging-technologist\n",
      "https://www.coursera.org/professional-certificates/ai-engineer\n",
      "https://www.coursera.org/professional-certificates/applied-artifical-intelligence-ibm-watson-ai\n",
      "https://www.coursera.org/professional-certificates/gcp-data-engineering\n",
      "https://www.coursera.org/professional-certificates/sas-programming\n",
      "https://www.coursera.org/professional-certificates/sas-visual-business-analytics\n",
      "https://www.coursera.org/mastertrack/data-analytics-managers-tufts\n",
      "https://www.coursera.org/mastertrack/machine-learning-analytics-chicago\n",
      "https://www.coursera.org/mastertrack/health-informatics-yale\n",
      "https://www.coursera.org/mastertrack/big-data-asu\n",
      "https://www.coursera.org/mastertrack/analitica-datos-visualizacion-prediccion-toma-decisiones-uniandes\n",
      "https://www.coursera.org/mastertrack/introduccion-ciencia-datos-ucchile\n",
      "https://www.coursera.org/certificates/data-science-machine-learning-iitr\n",
      "https://www.coursera.org/certificates/digital-transformation-dartmouth\n",
      "https://www.coursera.org/certificates/strategic-supply-chain-management-ai-iitr\n",
      "https://www.coursera.org/certificates/data-driven-decision-making-iimk\n",
      "https://www.coursera.org/certificates/machine-learning-finance-iitr\n",
      "https://www.coursera.org/certificates/advanced-ai-ml-iitr\n",
      "https://www.coursera.org/certificates/data-science-boulder\n"
     ]
    }
   ],
   "source": [
    "for a in course_link:\n",
    "    print(a)"
   ]
  },
  {
   "cell_type": "code",
   "execution_count": null,
   "metadata": {},
   "outputs": [],
   "source": []
  },
  {
   "cell_type": "code",
   "execution_count": null,
   "metadata": {},
   "outputs": [],
   "source": []
  }
 ],
 "metadata": {
  "kernelspec": {
   "display_name": "Python 3",
   "language": "python",
   "name": "python3"
  },
  "language_info": {
   "codemirror_mode": {
    "name": "ipython",
    "version": 3
   },
   "file_extension": ".py",
   "mimetype": "text/x-python",
   "name": "python",
   "nbconvert_exporter": "python",
   "pygments_lexer": "ipython3",
   "version": "3.8.5"
  }
 },
 "nbformat": 4,
 "nbformat_minor": 4
}
