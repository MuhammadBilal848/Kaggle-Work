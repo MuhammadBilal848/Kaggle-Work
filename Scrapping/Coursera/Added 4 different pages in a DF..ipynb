{
 "cells": [
  {
   "cell_type": "code",
   "execution_count": 6,
   "metadata": {},
   "outputs": [],
   "source": [
    "import requests\n",
    "from bs4 import BeautifulSoup\n",
    "import numpy as np\n",
    "import pandas as pd\n",
    "import warnings\n",
    "warnings.filterwarnings('ignore')"
   ]
  },
  {
   "cell_type": "code",
   "execution_count": 31,
   "metadata": {},
   "outputs": [],
   "source": [
    "baseurl = 'https://www.coursera.org'"
   ]
  },
  {
   "cell_type": "code",
   "execution_count": 32,
   "metadata": {},
   "outputs": [],
   "source": [
    "header = {\n",
    "    'User-Agents': 'Mozilla/5.0 (Windows NT 6.1; WOW64) AppleWebKit/537.36 (KHTML, like Gecko) Chrome/47.0.2526.111 Safari/537.36'\n",
    "}"
   ]
  },
  {
   "cell_type": "markdown",
   "metadata": {},
   "source": [
    "# Scrapping Links"
   ]
  },
  {
   "cell_type": "code",
   "execution_count": 33,
   "metadata": {},
   "outputs": [],
   "source": [
    "r = requests.get('https://www.coursera.org/certificates/data-science')\n",
    "soup = BeautifulSoup(r.content, 'lxml')"
   ]
  },
  {
   "cell_type": "code",
   "execution_count": 34,
   "metadata": {},
   "outputs": [],
   "source": [
    "course_list = soup.find_all('div',class_= 'cds-63 css-qsaw8 cds-65 cds-grid-item cds-134')"
   ]
  },
  {
   "cell_type": "code",
   "execution_count": 35,
   "metadata": {},
   "outputs": [],
   "source": [
    "course_link = []"
   ]
  },
  {
   "cell_type": "code",
   "execution_count": 36,
   "metadata": {},
   "outputs": [],
   "source": [
    "for i in course_list:\n",
    "    for link in i.find_all('a',href = True):\n",
    "        course_link.append(baseurl + link['href'])"
   ]
  },
  {
   "cell_type": "code",
   "execution_count": 37,
   "metadata": {},
   "outputs": [
    {
     "data": {
      "text/plain": [
       "['https://www.coursera.org/professional-certificates/google-data-analytics',\n",
       " 'https://www.coursera.org/professional-certificates/ibm-data-science',\n",
       " 'https://www.coursera.org/professional-certificates/ibm-data-analyst',\n",
       " 'https://www.coursera.org/professional-certificates/ibm-data-engineer',\n",
       " 'https://www.coursera.org/professional-certificates/meta-database-engineer',\n",
       " 'https://www.coursera.org/professional-certificates/ibm-data-analyst-r-excel',\n",
       " 'https://www.coursera.org/professional-certificates/data-warehouse-engineering',\n",
       " 'https://www.coursera.org/professional-certificates/tensorflow-in-practice',\n",
       " 'https://www.coursera.org/professional-certificates/azure-data-scientist',\n",
       " 'https://www.coursera.org/professional-certificates/microsoft-azure-dp-203-data-engineering',\n",
       " 'https://www.coursera.org/professional-certificates/ibm-machine-learning',\n",
       " 'https://www.coursera.org/professional-certificates/sas-advanced-programmer',\n",
       " 'https://www.coursera.org/professional-certificates/certified-data-science-practitioner',\n",
       " 'https://www.coursera.org/professional-certificates/certified-ethical-emerging-technologist',\n",
       " 'https://www.coursera.org/professional-certificates/ai-engineer',\n",
       " 'https://www.coursera.org/professional-certificates/applied-artifical-intelligence-ibm-watson-ai',\n",
       " 'https://www.coursera.org/professional-certificates/gcp-data-engineering',\n",
       " 'https://www.coursera.org/professional-certificates/sas-programming',\n",
       " 'https://www.coursera.org/professional-certificates/sas-visual-business-analytics',\n",
       " 'https://www.coursera.org/mastertrack/data-analytics-managers-tufts',\n",
       " 'https://www.coursera.org/mastertrack/machine-learning-analytics-chicago',\n",
       " 'https://www.coursera.org/mastertrack/health-informatics-yale',\n",
       " 'https://www.coursera.org/mastertrack/big-data-asu',\n",
       " 'https://www.coursera.org/mastertrack/analitica-datos-visualizacion-prediccion-toma-decisiones-uniandes',\n",
       " 'https://www.coursera.org/mastertrack/introduccion-ciencia-datos-ucchile',\n",
       " 'https://www.coursera.org/certificates/data-science-machine-learning-iitr',\n",
       " 'https://www.coursera.org/certificates/digital-transformation-dartmouth',\n",
       " 'https://www.coursera.org/certificates/strategic-supply-chain-management-ai-iitr',\n",
       " 'https://www.coursera.org/certificates/data-driven-decision-making-iimk',\n",
       " 'https://www.coursera.org/certificates/machine-learning-finance-iitr',\n",
       " 'https://www.coursera.org/certificates/advanced-ai-ml-iitr',\n",
       " 'https://www.coursera.org/certificates/data-science-boulder']"
      ]
     },
     "execution_count": 37,
     "metadata": {},
     "output_type": "execute_result"
    }
   ],
   "source": [
    "course_link"
   ]
  },
  {
   "cell_type": "markdown",
   "metadata": {},
   "source": [
    "# **Scrapping Course Name , Ratings , Financial Aid , No. of Students Enrolled**"
   ]
  },
  {
   "cell_type": "code",
   "execution_count": 70,
   "metadata": {},
   "outputs": [],
   "source": [
    "testlink = 'https://www.coursera.org/professional-certificates/google-data-analytics'"
   ]
  },
  {
   "cell_type": "code",
   "execution_count": 71,
   "metadata": {},
   "outputs": [],
   "source": [
    "r = requests.get(testlink , headers = header)\n",
    "soup = BeautifulSoup(r.content, 'lxml')"
   ]
  },
  {
   "cell_type": "markdown",
   "metadata": {},
   "source": [
    "# Name"
   ]
  },
  {
   "cell_type": "code",
   "execution_count": 44,
   "metadata": {},
   "outputs": [],
   "source": [
    "# name = soup.find('h1',class_ = 'cds-33 css-1shw822 cds-35').text.strip()\n",
    "# name"
   ]
  },
  {
   "cell_type": "markdown",
   "metadata": {},
   "source": [
    "# DataFrame"
   ]
  },
  {
   "cell_type": "code",
   "execution_count": 2,
   "metadata": {},
   "outputs": [],
   "source": [
    "final = []"
   ]
  },
  {
   "cell_type": "code",
   "execution_count": 1,
   "metadata": {},
   "outputs": [
    {
     "ename": "NameError",
     "evalue": "name 'course_link' is not defined",
     "output_type": "error",
     "traceback": [
      "\u001b[1;31m---------------------------------------------------------------------------\u001b[0m",
      "\u001b[1;31mNameError\u001b[0m                                 Traceback (most recent call last)",
      "\u001b[1;32m<ipython-input-1-e233d8dc9424>\u001b[0m in \u001b[0;36m<module>\u001b[1;34m\u001b[0m\n\u001b[1;32m----> 1\u001b[1;33m \u001b[1;32mfor\u001b[0m \u001b[0mi\u001b[0m\u001b[1;33m,\u001b[0m\u001b[0mlink\u001b[0m \u001b[1;32min\u001b[0m \u001b[0menumerate\u001b[0m\u001b[1;33m(\u001b[0m\u001b[0mcourse_link\u001b[0m\u001b[1;33m)\u001b[0m\u001b[1;33m:\u001b[0m\u001b[1;33m\u001b[0m\u001b[1;33m\u001b[0m\u001b[0m\n\u001b[0m\u001b[0;32m      2\u001b[0m     \u001b[1;32mif\u001b[0m \u001b[0mi\u001b[0m \u001b[1;33m==\u001b[0m \u001b[1;36m4\u001b[0m\u001b[1;33m:\u001b[0m\u001b[1;33m\u001b[0m\u001b[1;33m\u001b[0m\u001b[0m\n\u001b[0;32m      3\u001b[0m         \u001b[1;32mbreak\u001b[0m\u001b[1;33m\u001b[0m\u001b[1;33m\u001b[0m\u001b[0m\n\u001b[0;32m      4\u001b[0m     \u001b[1;32melse\u001b[0m\u001b[1;33m:\u001b[0m\u001b[1;33m\u001b[0m\u001b[1;33m\u001b[0m\u001b[0m\n\u001b[0;32m      5\u001b[0m         \u001b[0mr\u001b[0m \u001b[1;33m=\u001b[0m \u001b[0mrequests\u001b[0m\u001b[1;33m.\u001b[0m\u001b[0mget\u001b[0m\u001b[1;33m(\u001b[0m\u001b[0mlink\u001b[0m \u001b[1;33m,\u001b[0m \u001b[0mheaders\u001b[0m \u001b[1;33m=\u001b[0m \u001b[0mheader\u001b[0m\u001b[1;33m)\u001b[0m\u001b[1;33m\u001b[0m\u001b[1;33m\u001b[0m\u001b[0m\n",
      "\u001b[1;31mNameError\u001b[0m: name 'course_link' is not defined"
     ]
    }
   ],
   "source": [
    "for i,link in enumerate(course_link):\n",
    "    if i == 4:\n",
    "        break\n",
    "    else:\n",
    "        r = requests.get(link , headers = header)\n",
    "        soup = BeautifulSoup(r.content, 'lxml')\n",
    "    #     name = soup.find('h1',class_ = 'cds-33 css-1shw822 cds-35').text.strip()\n",
    "        try:\n",
    "            name = soup.find('h1',class_ = 'cds-33 css-1shw822 cds-35').text.strip()\n",
    "            grid = soup.find('div',class_ = 'cds-71 css-0 cds-72')\n",
    "            upper_grid = grid.find_all('p',class_ = 'cds-33 css-bku0rr cds-35')\n",
    "            upper_grid = np.array(upper_grid).reshape(-1)    \n",
    "            l_grid = soup.find('div',class_ = 'cds-71 css-0 cds-72')\n",
    "            lower_grid = l_grid.find_all('p',class_ = 'cds-33 css-14d8ngk cds-35')\n",
    "            lower_grid = np.array(lower_grid).reshape(-1)\n",
    "            ratings = upper_grid[0]\n",
    "            duration = upper_grid[1]\n",
    "            lang = upper_grid[2]       \n",
    "            lvl = upper_grid[3]\n",
    "            tot_rat = np.array(lower_grid[0])[0].split(' ')[0]\n",
    "            enroll = np.array(lower_grid[0])[2].split(' ')[0]\n",
    "            hpw = lower_grid[1].split(' ')[1]\n",
    "            sub = lower_grid[2].split(' ')[1:]\n",
    "            p_ex = lower_grid[3].split(' ')[0]\n",
    "        except:\n",
    "            name = 'NA'\n",
    "            ratings = 'NA'\n",
    "            duration = 'NA'\n",
    "            lang = 'NA'\n",
    "            lvl = 'NA'\n",
    "            tot_rat = 'NA'\n",
    "            enroll = 'NA'\n",
    "            hpw = 'NA'\n",
    "            sub = 'NA'\n",
    "            p_ex = 'NA'\n",
    "        course = {\n",
    "                  'Name':name,\n",
    "                  'Ratings': ratings,\n",
    "                  'Duration': duration,\n",
    "                  'Language': lang, \n",
    "                  'Level': lvl,\n",
    "                  'Total Ratings': tot_rat,\n",
    "                  'Enrolled': enroll,\n",
    "                  'Hours Per Week': hpw, \n",
    "                  'Subtitles': sub,\n",
    "                  'Prerequisite': p_ex\n",
    "        }\n",
    "        final.append(course)"
   ]
  },
  {
   "cell_type": "code",
   "execution_count": 12,
   "metadata": {},
   "outputs": [
    {
     "data": {
      "text/plain": [
       "{'Name': 'IBM Data Engineering Professional Certificate',\n",
       " 'Ratings': '4.6/5',\n",
       " 'Duration': '15 Months',\n",
       " 'Language': 'English',\n",
       " 'Level': 'Beginner Level',\n",
       " 'Total Ratings': '1,978',\n",
       " 'Enrolled': '25,900',\n",
       " 'Hours Per Week': '4',\n",
       " 'Subtitles': ['English,', 'Korean,', 'Arabic,', 'Persian'],\n",
       " 'Prerequisite': 'No'}"
      ]
     },
     "execution_count": 12,
     "metadata": {},
     "output_type": "execute_result"
    }
   ],
   "source": [
    "{'Name': 'Google Data Analytics Professional Certificate', 'Ratings': '4.8/5', 'Duration': '6 Months', 'Language': 'English', 'Level': 'Beginner Level', 'Total Ratings': '77,398', 'Enrolled': '1,114,824', 'Hours Per Week': '10', 'Subtitles': ['English'], 'Prerequisite': 'No' , 'Link':}\n",
    "{'Name': 'IBM Data Science Professional Certificate', 'Ratings': '4.6/5', 'Duration': '11 Months', 'Language': 'English', 'Level': 'Beginner Level', 'Total Ratings': '57,528', 'Enrolled': '127,465', 'Hours Per Week': '4', 'Subtitles': ['English,', 'Arabic,', 'French,', 'Portuguese', '(European),', 'Italian,', 'Vietnamese,', 'German,', 'Russian,', 'Turkish,', 'Spanish,', 'Persian,', 'Korean'], 'Prerequisite': 'No'}\n",
    "{'Name': 'IBM Data Analyst Professional Certificate', 'Ratings': '4.6/5', 'Duration': '11 Months', 'Language': 'English', 'Level': 'Beginner Level', 'Total Ratings': '9,551', 'Enrolled': '85,586', 'Hours Per Week': '3', 'Subtitles': ['English,', 'Arabic,', 'French,', 'Portuguese', '(European),', 'Italian,', 'Vietnamese,', 'German,', 'Russian,', 'Spanish,', 'Korean,', 'Persian,', 'Turkish'], 'Prerequisite': 'No'}\n",
    "{'Name': 'IBM Data Engineering Professional Certificate', 'Ratings': '4.6/5', 'Duration': '15 Months', 'Language': 'English', 'Level': 'Beginner Level', 'Total Ratings': '1,978', 'Enrolled': '25,900', 'Hours Per Week': '4', 'Subtitles': ['English,', 'Korean,', 'Arabic,', 'Persian'], 'Prerequisite': 'No'}"
   ]
  },
  {
   "cell_type": "code",
   "execution_count": 3,
   "metadata": {
    "scrolled": false
   },
   "outputs": [],
   "source": [
    "final.append({'Name': 'Google Data Analytics Professional Certificate', 'Ratings': '4.8/5', 'Duration': '6 Months', 'Language': 'English', 'Level': 'Beginner Level', 'Total Ratings': '77,398', 'Enrolled': '1,114,824', 'Hours Per Week': '10', 'Subtitles': ['English'], 'Prerequisite': 'No','Link':'https://www.coursera.org/professional-certificates/google-data-analytics'})\n",
    "final.append({'Name': 'IBM Data Science Professional Certificate', 'Ratings': '4.6/5', 'Duration': '11 Months', 'Language': 'English', 'Level': 'Beginner Level', 'Total Ratings': '57,528', 'Enrolled': '127,465', 'Hours Per Week': '4', 'Subtitles': ['English,', 'Arabic,', 'French,', 'Portuguese', '(European),', 'Italian,', 'Vietnamese,', 'German,', 'Russian,', 'Turkish,', 'Spanish,', 'Persian,', 'Korean'], 'Prerequisite': 'No','Link':'https://www.coursera.org/professional-certificates/ibm-data-science'})\n",
    "final.append({'Name': 'IBM Data Analyst Professional Certificate', 'Ratings': '4.6/5', 'Duration': '11 Months', 'Language': 'English', 'Level': 'Beginner Level', 'Total Ratings': '9,551', 'Enrolled': '85,586', 'Hours Per Week': '3', 'Subtitles': ['English,', 'Arabic,', 'French,', 'Portuguese', '(European),', 'Italian,', 'Vietnamese,', 'German,', 'Russian,', 'Spanish,', 'Korean,', 'Persian,', 'Turkish'], 'Prerequisite': 'No','Link':'https://www.coursera.org/professional-certificates/ibm-data-analyst'})\n",
    "final.append({'Name': 'IBM Data Engineering Professional Certificate', 'Ratings': '4.6/5', 'Duration': '15 Months', 'Language': 'English', 'Level': 'Beginner Level', 'Total Ratings': '1,978', 'Enrolled': '25,900', 'Hours Per Week': '4', 'Subtitles': ['English,', 'Korean,', 'Arabic,', 'Persian'], 'Prerequisite': 'No','Link':'https://www.coursera.org/professional-certificates/ibm-data-engineer'})"
   ]
  },
  {
   "cell_type": "code",
   "execution_count": 4,
   "metadata": {},
   "outputs": [
    {
     "data": {
      "text/plain": [
       "[{'Name': 'Google Data Analytics Professional Certificate',\n",
       "  'Ratings': '4.8/5',\n",
       "  'Duration': '6 Months',\n",
       "  'Language': 'English',\n",
       "  'Level': 'Beginner Level',\n",
       "  'Total Ratings': '77,398',\n",
       "  'Enrolled': '1,114,824',\n",
       "  'Hours Per Week': '10',\n",
       "  'Subtitles': ['English'],\n",
       "  'Prerequisite': 'No',\n",
       "  'Link': 'https://www.coursera.org/professional-certificates/google-data-analytics'},\n",
       " {'Name': 'IBM Data Science Professional Certificate',\n",
       "  'Ratings': '4.6/5',\n",
       "  'Duration': '11 Months',\n",
       "  'Language': 'English',\n",
       "  'Level': 'Beginner Level',\n",
       "  'Total Ratings': '57,528',\n",
       "  'Enrolled': '127,465',\n",
       "  'Hours Per Week': '4',\n",
       "  'Subtitles': ['English,',\n",
       "   'Arabic,',\n",
       "   'French,',\n",
       "   'Portuguese',\n",
       "   '(European),',\n",
       "   'Italian,',\n",
       "   'Vietnamese,',\n",
       "   'German,',\n",
       "   'Russian,',\n",
       "   'Turkish,',\n",
       "   'Spanish,',\n",
       "   'Persian,',\n",
       "   'Korean'],\n",
       "  'Prerequisite': 'No',\n",
       "  'Link': 'https://www.coursera.org/professional-certificates/ibm-data-science'},\n",
       " {'Name': 'IBM Data Analyst Professional Certificate',\n",
       "  'Ratings': '4.6/5',\n",
       "  'Duration': '11 Months',\n",
       "  'Language': 'English',\n",
       "  'Level': 'Beginner Level',\n",
       "  'Total Ratings': '9,551',\n",
       "  'Enrolled': '85,586',\n",
       "  'Hours Per Week': '3',\n",
       "  'Subtitles': ['English,',\n",
       "   'Arabic,',\n",
       "   'French,',\n",
       "   'Portuguese',\n",
       "   '(European),',\n",
       "   'Italian,',\n",
       "   'Vietnamese,',\n",
       "   'German,',\n",
       "   'Russian,',\n",
       "   'Spanish,',\n",
       "   'Korean,',\n",
       "   'Persian,',\n",
       "   'Turkish'],\n",
       "  'Prerequisite': 'No',\n",
       "  'Link': 'https://www.coursera.org/professional-certificates/ibm-data-analyst'},\n",
       " {'Name': 'IBM Data Engineering Professional Certificate',\n",
       "  'Ratings': '4.6/5',\n",
       "  'Duration': '15 Months',\n",
       "  'Language': 'English',\n",
       "  'Level': 'Beginner Level',\n",
       "  'Total Ratings': '1,978',\n",
       "  'Enrolled': '25,900',\n",
       "  'Hours Per Week': '4',\n",
       "  'Subtitles': ['English,', 'Korean,', 'Arabic,', 'Persian'],\n",
       "  'Prerequisite': 'No',\n",
       "  'Link': 'https://www.coursera.org/professional-certificates/ibm-data-engineer'}]"
      ]
     },
     "execution_count": 4,
     "metadata": {},
     "output_type": "execute_result"
    }
   ],
   "source": [
    "final"
   ]
  },
  {
   "cell_type": "code",
   "execution_count": 11,
   "metadata": {},
   "outputs": [
    {
     "data": {
      "text/html": [
       "<div>\n",
       "<style scoped>\n",
       "    .dataframe tbody tr th:only-of-type {\n",
       "        vertical-align: middle;\n",
       "    }\n",
       "\n",
       "    .dataframe tbody tr th {\n",
       "        vertical-align: top;\n",
       "    }\n",
       "\n",
       "    .dataframe thead th {\n",
       "        text-align: right;\n",
       "    }\n",
       "</style>\n",
       "<table border=\"1\" class=\"dataframe\">\n",
       "  <thead>\n",
       "    <tr style=\"text-align: right;\">\n",
       "      <th></th>\n",
       "      <th>Name</th>\n",
       "      <th>Ratings</th>\n",
       "      <th>Duration</th>\n",
       "      <th>Language</th>\n",
       "      <th>Level</th>\n",
       "      <th>Total Ratings</th>\n",
       "      <th>Enrolled</th>\n",
       "      <th>Hours Per Week</th>\n",
       "      <th>Subtitles</th>\n",
       "      <th>Prerequisite</th>\n",
       "      <th>Link</th>\n",
       "    </tr>\n",
       "  </thead>\n",
       "  <tbody>\n",
       "    <tr>\n",
       "      <th>0</th>\n",
       "      <td>Google Data Analytics Professional Certificate</td>\n",
       "      <td>4.8/5</td>\n",
       "      <td>6 Months</td>\n",
       "      <td>English</td>\n",
       "      <td>Beginner Level</td>\n",
       "      <td>77,398</td>\n",
       "      <td>1,114,824</td>\n",
       "      <td>10</td>\n",
       "      <td>[English]</td>\n",
       "      <td>No</td>\n",
       "      <td>https://www.coursera.org/professional-certific...</td>\n",
       "    </tr>\n",
       "    <tr>\n",
       "      <th>1</th>\n",
       "      <td>IBM Data Science Professional Certificate</td>\n",
       "      <td>4.6/5</td>\n",
       "      <td>11 Months</td>\n",
       "      <td>English</td>\n",
       "      <td>Beginner Level</td>\n",
       "      <td>57,528</td>\n",
       "      <td>127,465</td>\n",
       "      <td>4</td>\n",
       "      <td>[English,, Arabic,, French,, Portuguese, (Euro...</td>\n",
       "      <td>No</td>\n",
       "      <td>https://www.coursera.org/professional-certific...</td>\n",
       "    </tr>\n",
       "    <tr>\n",
       "      <th>2</th>\n",
       "      <td>IBM Data Analyst Professional Certificate</td>\n",
       "      <td>4.6/5</td>\n",
       "      <td>11 Months</td>\n",
       "      <td>English</td>\n",
       "      <td>Beginner Level</td>\n",
       "      <td>9,551</td>\n",
       "      <td>85,586</td>\n",
       "      <td>3</td>\n",
       "      <td>[English,, Arabic,, French,, Portuguese, (Euro...</td>\n",
       "      <td>No</td>\n",
       "      <td>https://www.coursera.org/professional-certific...</td>\n",
       "    </tr>\n",
       "    <tr>\n",
       "      <th>3</th>\n",
       "      <td>IBM Data Engineering Professional Certificate</td>\n",
       "      <td>4.6/5</td>\n",
       "      <td>15 Months</td>\n",
       "      <td>English</td>\n",
       "      <td>Beginner Level</td>\n",
       "      <td>1,978</td>\n",
       "      <td>25,900</td>\n",
       "      <td>4</td>\n",
       "      <td>[English,, Korean,, Arabic,, Persian]</td>\n",
       "      <td>No</td>\n",
       "      <td>https://www.coursera.org/professional-certific...</td>\n",
       "    </tr>\n",
       "  </tbody>\n",
       "</table>\n",
       "</div>"
      ],
      "text/plain": [
       "                                             Name Ratings   Duration Language  \\\n",
       "0  Google Data Analytics Professional Certificate   4.8/5   6 Months  English   \n",
       "1       IBM Data Science Professional Certificate   4.6/5  11 Months  English   \n",
       "2       IBM Data Analyst Professional Certificate   4.6/5  11 Months  English   \n",
       "3   IBM Data Engineering Professional Certificate   4.6/5  15 Months  English   \n",
       "\n",
       "            Level Total Ratings   Enrolled Hours Per Week  \\\n",
       "0  Beginner Level        77,398  1,114,824             10   \n",
       "1  Beginner Level        57,528    127,465              4   \n",
       "2  Beginner Level         9,551     85,586              3   \n",
       "3  Beginner Level         1,978     25,900              4   \n",
       "\n",
       "                                           Subtitles Prerequisite  \\\n",
       "0                                          [English]           No   \n",
       "1  [English,, Arabic,, French,, Portuguese, (Euro...           No   \n",
       "2  [English,, Arabic,, French,, Portuguese, (Euro...           No   \n",
       "3              [English,, Korean,, Arabic,, Persian]           No   \n",
       "\n",
       "                                                Link  \n",
       "0  https://www.coursera.org/professional-certific...  \n",
       "1  https://www.coursera.org/professional-certific...  \n",
       "2  https://www.coursera.org/professional-certific...  \n",
       "3  https://www.coursera.org/professional-certific...  "
      ]
     },
     "execution_count": 11,
     "metadata": {},
     "output_type": "execute_result"
    }
   ],
   "source": [
    "pd.DataFrame(final).to_csv('')"
   ]
  },
  {
   "cell_type": "code",
   "execution_count": null,
   "metadata": {},
   "outputs": [],
   "source": []
  }
 ],
 "metadata": {
  "kernelspec": {
   "display_name": "Python 3",
   "language": "python",
   "name": "python3"
  },
  "language_info": {
   "codemirror_mode": {
    "name": "ipython",
    "version": 3
   },
   "file_extension": ".py",
   "mimetype": "text/x-python",
   "name": "python",
   "nbconvert_exporter": "python",
   "pygments_lexer": "ipython3",
   "version": "3.8.5"
  }
 },
 "nbformat": 4,
 "nbformat_minor": 4
}
